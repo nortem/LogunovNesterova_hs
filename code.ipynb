{
  "cells": [
    {
      "cell_type": "markdown",
      "metadata": {
        "id": "13UEA0p1iwtQ"
      },
      "source": [
        "# Path Planning In the Environments with Dynamic Obstacles"
      ]
    },
    {
      "cell_type": "markdown",
      "metadata": {
        "id": "kfYovvzEiwtT"
      },
      "source": [
        "In this lab we consider the problem of finding a (shortest) path in the environments with dynamic obstacles. The environment is represented by a grid composed of the free and blocked cells. The trajectories of dynamic obstacles are known and represented as a sequence of occupied cells in each time moment.\n",
        "\n",
        "For simplicity it's assumed that the agent and dynamic obstacles can perform cardinal-only moves. They can also perform a wait action. All the actions have equal duration, so it's possible to discretize the timeline saying that at each time step the agent and dynamic obstacles can either move to one of the cardinal-adjacent cells or to stay in the same cell performing a wait-action.\n",
        "\n",
        "The search-space state is described by tuple `(i, j, t)` where `i` and `j` are the cell's coordinates, `t` - time moment. So now theoretically there are an inifinite number of states corresponding to the same grid cell.\n",
        "\n",
        "Your task is to implement A* algorithm with timesteps that avoids dynamic obstacles with known trajectories. "
      ]
    },
    {
      "cell_type": "code",
      "execution_count": 243,
      "metadata": {
        "id": "VNjnUp4ZiwtU"
      },
      "outputs": [],
      "source": [
        "import copy\n",
        "import math\n",
        "import matplotlib.pyplot as plt\n",
        "import numpy as np\n",
        "from heapq import heappop, heappush, heapify\n",
        "from random import randint\n",
        "import time\n",
        "from IPython.display import HTML\n",
        "from PIL import Image, ImageDraw, ImageOps\n",
        "from IPython.display import Image as Img\n",
        "from IPython.display import display\n",
        "from sys import float_info\n",
        "from google.colab import output\n",
        "\n",
        "EPS = float_info.epsilon\n",
        "%matplotlib notebook"
      ]
    },
    {
      "cell_type": "code",
      "source": [
        "!pip install pogema\n",
        "!pip uninstall numba -y"
      ],
      "metadata": {
        "id": "_xjeC4VMizNX"
      },
      "execution_count": null,
      "outputs": []
    },
    {
      "cell_type": "code",
      "source": [
        "import gym\n",
        "import numpy as np\n",
        "from pogema.wrappers.multi_time_limit import MultiTimeLimit\n",
        "from pogema.animation import AnimationMonitor\n",
        "from pogema import GridConfig\n",
        "from IPython.display import SVG, display\n",
        "\n",
        "import gym\n",
        "import pogema"
      ],
      "metadata": {
        "id": "RbzIPnk-jJbt"
      },
      "execution_count": 46,
      "outputs": []
    },
    {
      "cell_type": "markdown",
      "metadata": {
        "id": "tO0MNOfOiwtW"
      },
      "source": [
        "## Grid Map Representation"
      ]
    },
    {
      "cell_type": "code",
      "execution_count": 174,
      "metadata": {
        "id": "O_RhXkbwiwtW"
      },
      "outputs": [],
      "source": [
        "class Map_pogema: #CHANGE\n",
        "    '''\n",
        "    Square grid map class represents the environment for our moving agent\n",
        "        - width -- the number of columns in the grid\n",
        "        - height -- the number of rows in the grid\n",
        "        - cells -- the binary matrix, that represents the grid. 0 - cell is traversable, 1 - cell is blocked\n",
        "    '''\n",
        "\n",
        "    def __init__(self):\n",
        "        '''\n",
        "        Default constructor\n",
        "        '''\n",
        "\n",
        "        self._width = 0\n",
        "        self._height = 0\n",
        "        self._cells = []\n",
        "    \n",
        "\n",
        "    def set_map(self, map, obs_rad=None):\n",
        "        '''\n",
        "        Converting a string (with '#' representing obstacles and '.' representing free cells) to a grid\n",
        "\n",
        "        Parameters\n",
        "        ----------\n",
        "        cell_str : str\n",
        "            String which contains map data\n",
        "        width : int\n",
        "            Number of grid columns\n",
        "        height : int\n",
        "            Number of grid rows\n",
        "        '''\n",
        "\n",
        "        \n",
        "        if obs_rad:\n",
        "            self._cells = map[obs_rad:-obs_rad, obs_rad:-obs_rad]\n",
        "        else:\n",
        "            self._cells = map\n",
        "        self._width = self._cells.shape[1]\n",
        "        self._height = self._cells.shape[0]\n",
        "        \n",
        "    \n",
        "\n",
        "    def in_bounds(self, i, j):\n",
        "        '''\n",
        "        Check if the cell is on a grid.\n",
        "\n",
        "        Parameters\n",
        "        ----------\n",
        "        i : int\n",
        "            The number of the column in which the cell is located\n",
        "        j : int\n",
        "            The number of the row in which the cell is located\n",
        "\n",
        "        Returns\n",
        "        -------\n",
        "        bool\n",
        "            Is the cell inside map bounds\n",
        "        '''\n",
        "        return (0 <= j < self._width) and (0 <= i < self._height)\n",
        "    \n",
        "    def traversable(self, i, j):\n",
        "        '''\n",
        "        Check if the cell is not an obstacle.\n",
        "\n",
        "        Parameters\n",
        "        ----------\n",
        "        i : int\n",
        "            The number of the column in which the cell is located\n",
        "        j : int\n",
        "            The number of the row in which the cell is located\n",
        "\n",
        "        Returns\n",
        "        -------\n",
        "        bool\n",
        "            Is the cell traversable (true) or obstacle (false)\n",
        "        '''\n",
        "\n",
        "        return not self._cells[i][j]\n",
        "\n",
        "\n",
        "    def get_neighbors(self, i, j):\n",
        "        '''\n",
        "        Returns a list of neighbouring cells as (i, j) tuples. \n",
        "        Fucntions should returns such neighbours, that allows only cardinal moves, \n",
        "        but dissalows cutting corners and squezzing. \n",
        "\n",
        "        Parameters\n",
        "        ----------\n",
        "        i : int\n",
        "            The number of the column in which the cell is located\n",
        "        j : int\n",
        "            The number of the row in which the cell is located\n",
        "\n",
        "        Returns\n",
        "        -------\n",
        "        neighbours : list[tuple[int, int]]\n",
        "            List of neighbours grid map (i, j) coordinates\n",
        "        '''\n",
        "\n",
        "        neighbors = []\n",
        "        delta = [[0, 1], [1, 0], [0, -1], [-1, 0]]\n",
        "\n",
        "        for d in delta:\n",
        "            if self.in_bounds(i + d[0], j + d[1]) and self.traversable(i + d[0], j + d[1]):\n",
        "                neighbors.append((i + d[0], j + d[1]))\n",
        "                \n",
        "        return neighbors\n",
        "\n",
        "    def get_size(self):\n",
        "        '''\n",
        "        Returns the size of the map in cells\n",
        "\n",
        "        Returns\n",
        "        -------\n",
        "        tuple[int, int]\n",
        "            Size of the map in cells (height, width)\n",
        "        '''\n",
        "        return (self._height, self._width)\n",
        "        \n",
        "    def get_cells(self):\n",
        "        return self._cells"
      ]
    },
    {
      "cell_type": "markdown",
      "metadata": {
        "id": "yjc-31v1iwtZ"
      },
      "source": [
        "### Search Node Representation\n",
        "\n"
      ]
    },
    {
      "cell_type": "code",
      "execution_count": 78,
      "metadata": {
        "id": "_1F6yas7iwta"
      },
      "outputs": [],
      "source": [
        "class Node:\n",
        "    '''\n",
        "    Node class represents a search node\n",
        "\n",
        "    - i, j: coordinates of corresponding grid element\n",
        "    - g: g-value of the node (also equals time moment when the agent reaches the cell)\n",
        "    - h: h-value of the node // always 0 for Dijkstra\n",
        "    - f: f-value of the node // always equal to g-value for Dijkstra\n",
        "    - parent: pointer to the parent-node \n",
        "\n",
        "    '''\n",
        "    \n",
        "\n",
        "    def __init__(self, i, j, g = 0, h = 0, f = None, parent = None):\n",
        "        self.i = i\n",
        "        self.j = j\n",
        "        self.g = g # t\n",
        "        self.h = h\n",
        "        if f is None:\n",
        "            self.f = self.g + h\n",
        "        else:\n",
        "            self.f = f        \n",
        "        self.parent = parent\n",
        "\n",
        "        \n",
        "    \n",
        "    def __eq__(self, other):\n",
        "        '''\n",
        "        Estimating where the two search nodes are the same,\n",
        "        which is needed to detect dublicates in the search tree.\n",
        "        '''\n",
        "        \n",
        "        return (self.i == other.i) and (self.j == other.j) and (self.g == other.g)\n",
        "    \n",
        "    def __hash__(self):\n",
        "        '''\n",
        "        To implement CLOSED as set of nodes we need Node to be hashable.\n",
        "        '''\n",
        "        \n",
        "        h = self.i, self.j, self.g\n",
        "        return hash(h)\n",
        "\n",
        "\n",
        "    def __lt__(self, other): \n",
        "        '''\n",
        "        Comparison between self and other. Returns is self < other (self has higher priority).\n",
        "        '''\n",
        "        \n",
        "        return self.f < other.f"
      ]
    },
    {
      "cell_type": "markdown",
      "metadata": {
        "id": "ZK9Nn2Xtiwtb"
      },
      "source": [
        "### Implementing the search tree (i.e. OPEN,  CLOSED)\n",
        "\n",
        "Efficient implementation of the search tree (OPEN and CLOSED) is crucial for any search algorithm. You should use your efficient implementation of the search tree that you've created in the previous labs). \n",
        "\n",
        " "
      ]
    },
    {
      "cell_type": "code",
      "execution_count": 79,
      "metadata": {
        "id": "5mDVAQh1iwtc"
      },
      "outputs": [],
      "source": [
        "class SearchTree: #SearchTree which uses PriorityQueue for OPEN and set for CLOSED\n",
        "    def __init__(self):\n",
        "        self._open = []           \n",
        "        self._dict_open = dict()\n",
        "        self._closed = set()      \n",
        "        self._enc_open_dublicates = 0\n",
        "        \n",
        "    def __len__(self):\n",
        "        return len(self._open) + len(self._closed)\n",
        "                    \n",
        "    def open_is_empty(self):\n",
        "        return len(self._open) == 0\n",
        "\n",
        "    \n",
        "    def add_to_open(self, item):\n",
        "        heappush(self._open, item)  \n",
        "\n",
        "    def get_best_node_from_open(self):\n",
        "        best_node = heappop(self._open)\n",
        "        while self.was_expanded(best_node):\n",
        "            if self.open_is_empty():\n",
        "                return None\n",
        "            best_node = heappop(self._open)\n",
        "            self._enc_open_dublicates += 1\n",
        "        return best_node\n",
        "\n",
        "    def add_to_closed(self, item):\n",
        "        self._closed.add(item)\n",
        "\n",
        "    def was_expanded(self, item):\n",
        "        return item in self._closed\n",
        "\n",
        "    @property\n",
        "    def OPEN(self):\n",
        "        return self._open\n",
        "    \n",
        "    @property\n",
        "    def CLOSED(self):\n",
        "        return self._closed\n",
        "\n",
        "    @property\n",
        "    def number_of_open_dublicates(self):\n",
        "        return self._enc_open_dublicates"
      ]
    },
    {
      "cell_type": "markdown",
      "metadata": {
        "id": "26MSts0ciwtd"
      },
      "source": [
        "### A* with Timesteps\n"
      ]
    },
    {
      "cell_type": "code",
      "execution_count": 80,
      "metadata": {
        "id": "PuxTgv09iwtd"
      },
      "outputs": [],
      "source": [
        "def manhattan_distance(i1, j1, i2, j2):\n",
        "    '''\n",
        "    Returns a manhattan distance between two cells\n",
        "\n",
        "    Parameters\n",
        "    ----------\n",
        "    i1, j1 : int, int\n",
        "        Position of first cell on the grid map\n",
        "    i2, j2 : int, int\n",
        "        Position of second cell on the grid map\n",
        "\n",
        "    Returns\n",
        "    -------\n",
        "    int\n",
        "        Manhattan distance between two cells\n",
        "\n",
        "    '''\n",
        "    return abs(i1 - i2) + abs(j1 - j2)"
      ]
    },
    {
      "cell_type": "code",
      "execution_count": 81,
      "metadata": {
        "id": "MF9Wis0-iwte"
      },
      "outputs": [],
      "source": [
        "def compute_cost(i1, j1, i2, j2):\n",
        "    '''\n",
        "    Computes cost of simple moves\n",
        "\n",
        "    Parameters\n",
        "    ----------\n",
        "    i1, j1 : int, int\n",
        "        Position of first cell on the grid map\n",
        "    i2, j2 : int, int\n",
        "        Position of second cell on the grid map\n",
        "\n",
        "    Returns\n",
        "    -------\n",
        "    int\n",
        "        Cost of the move between two neighbouring cells\n",
        "\n",
        "    '''\n",
        "\n",
        "    d = abs(i1 - i2) + abs(j1 - j2)\n",
        "    if d == 0:  # wait\n",
        "        return 1\n",
        "    elif d == 1:  # cardinal move\n",
        "        return 1\n",
        "    else:\n",
        "        raise Exception('Trying to compute the cost of non-supported move!')"
      ]
    },
    {
      "cell_type": "code",
      "execution_count": 82,
      "metadata": {
        "id": "6dI2XSXJiwte"
      },
      "outputs": [],
      "source": [
        "class CATable:\n",
        "    '''\n",
        "    Class, which implements collision avoidance table for effective checking collisions with dynamic obstacles\n",
        "    '''\n",
        "    def __init__(self, dyn_obst_traj):\n",
        "        '''\n",
        "        TODO\n",
        "        '''\n",
        "        \n",
        "        self.pos_time_table = dict()\n",
        "        self.max_time_table = dict() \n",
        "        \n",
        "        for obst_id, obstacle in enumerate(dyn_obst_traj):\n",
        "            for t, (i, j) in enumerate(obstacle):\n",
        "                self.pos_time_table[(i, j, t)] = obst_id\n",
        "            \n",
        "            self.max_time_table[obstacle[-1]] = len(obstacle) - 1 \n",
        "            \n",
        "    def __check_pos_at_time(self, i, j, t):\n",
        "        '''\n",
        "        Checks, that cell (i, j) is occupied at moment t\n",
        "        \n",
        "        Parameters\n",
        "        ----------\n",
        "        i, j: int, int\n",
        "            Position of cell on the grid map\n",
        "        t : int\n",
        "             Time moment to check\n",
        "            \n",
        "        Returns\n",
        "        -------\n",
        "        bool\n",
        "            False, if cell is occupied at time moment t\n",
        "            True, if not occupied at time moment t\n",
        "        '''\n",
        "        \n",
        "        flag = (i, j, t) in self.pos_time_table\n",
        "        flag = flag or (((i, j) in self.max_time_table) and (t > self.max_time_table[(i, j)]))\n",
        "        \n",
        "        return not flag\n",
        "                \n",
        "    def __check_rev_move(self, i1, j1, i2, j2, t_start):\n",
        "        '''\n",
        "        Checks, that the given move does not result in edge collision\n",
        "        \n",
        "        Parameters\n",
        "        ----------\n",
        "        i1, j1 : int, int\n",
        "            Start cell of the move\n",
        "        i2, j2 : int, int\n",
        "            Target cell of the move\n",
        "        t_start : int\n",
        "             Time when the move starts\n",
        "            \n",
        "        Returns\n",
        "        -------\n",
        "        bool        \n",
        "            True if the given move does not result in the edge collision\n",
        "            False if the given move does results in the edge collision\n",
        "        '''\n",
        "        dt = compute_cost(i1, j1, i2, j2)\n",
        "        flag1 = (i1, j1, t_start+dt) in self.pos_time_table\n",
        "        flag2 = (i2, j2, t_start) in self.pos_time_table\n",
        "        flag = flag1 and flag2 and self.pos_time_table[(i1, j1, t_start+dt)]==self.pos_time_table[(i2, j2, t_start)] #???\n",
        "        return not flag\n",
        "\n",
        "    def check_move(self, i1, j1, i2, j2, t_start):\n",
        "        '''\n",
        "        Checks if the move between (i1, j1) and (i2, j2) \n",
        "        at moment (t_start -> t_start+1) leads \n",
        "        to the collision with a dynamic obstacle.\n",
        "\n",
        "        Parameters\n",
        "        ----------\n",
        "        i1, j1 : int, int\n",
        "            Start cell of the move\n",
        "        i2, j2 : int, int\n",
        "            Target cell of the move\n",
        "        t_start : int\n",
        "             Time step when the move starts\n",
        "            \n",
        "        Returns\n",
        "        -------\n",
        "        bool\n",
        "            Is the move valid (true) or will it lead to a collision (false)\n",
        "        '''\n",
        "        dt = compute_cost(i1, j1, i2, j2)\n",
        "        return self.__check_pos_at_time(i2, j2, t_start+dt) and self.__check_rev_move(i1, j1, i2, j2, t_start)\n"
      ]
    },
    {
      "cell_type": "code",
      "execution_count": 83,
      "metadata": {
        "id": "8gSw11x9iwtf"
      },
      "outputs": [],
      "source": [
        "def get_neighbors_wrt_time(i, j, t, grid_map, ca_table):\n",
        "    '''\n",
        "    Returns a list of neighbouring cells as (i, j) tuples. \n",
        "    \n",
        "    Should return such neighbours, that result\n",
        "    from non-colliding actions (cardinal moves and wait) w.r.t.\n",
        "    the given time step.\n",
        "    \n",
        "    I.e. the succesor cell should be free at the next time step,\n",
        "    as well at the move should not result in the edge collision.\n",
        "    \n",
        "    Parameters\n",
        "    ----------\n",
        "    i, j : int\n",
        "        Cell coordinates\n",
        "    grid_map : Map\n",
        "        An additional domain information (such as grid map).\n",
        "    ca_table : CATable\n",
        "        Collision avoidance table\n",
        "\n",
        "    Returns\n",
        "    -------\n",
        "    neighbours : list[tuple[int, int]]\n",
        "        List of neighbours grid map (i, j) coordinates\n",
        "    '''\n",
        "\n",
        "    neighbors = grid_map.get_neighbors(i, j)\n",
        "    neighbors.append((i, j))\n",
        "    result = []\n",
        "#     print(f'neighbors: {neighbors}')\n",
        "\n",
        "    for neighbor in neighbors:\n",
        "#         print(f'neighbor: {neighbor}')\n",
        "        if ca_table.check_move(i, j, *neighbor, t):\n",
        "            result.append(neighbor)\n",
        "\n",
        "    return result"
      ]
    },
    {
      "cell_type": "code",
      "execution_count": 84,
      "metadata": {
        "id": "ydbN59kniwtg"
      },
      "outputs": [],
      "source": [
        "def astar_timesteps(grid_map, ca_table, start_i, start_j, goal_i, goal_j, heuristic_func = None, search_tree = None):\n",
        "    '''\n",
        "    Runs A* search algorithm without re-expansion on dynamic obstacles domain.\n",
        "\n",
        "    Parameters\n",
        "    ----------\n",
        "    grid_map : Map\n",
        "        An additional domain information (such as grid map).\n",
        "    ca_table : CATable\n",
        "        Collision avoidance table\n",
        "    start_i, start_j : int, int\n",
        "        Start cell\n",
        "    goal_i, goal_j  : int, int\n",
        "        Goal cell\n",
        "    heuristic_func : function\n",
        "        Heuristic function\n",
        "    search_tree : type \n",
        "        Search tree data structure\n",
        "\n",
        "    Returns\n",
        "    -------\n",
        "    path_found : bool\n",
        "        Path was found or not.  \n",
        "    last_node : Node\n",
        "        The last node in path. None if path was not found.\n",
        "    steps : int\n",
        "        The number of search steps\n",
        "    noodes_created : int\n",
        "        The number of nodes, which were created and stored during the search process (size of the resultant search tree)\n",
        "    open : iterable object\n",
        "        Iterable collection of OPEN nodes\n",
        "    expanded : iterable object\n",
        "        Iterable collection of the expanded nodes\n",
        "    '''\n",
        "\n",
        "    ast = search_tree()\n",
        "    steps = 0\n",
        "    nodes_created = 0\n",
        "\n",
        "    start_node = Node(start_i, start_j, g=0, h=heuristic_func(start_i, start_j, goal_i, goal_j))\n",
        "    \n",
        "    #CODE HERE\n",
        "    CLOSED = None\n",
        "    path_found = False\n",
        "    last_Node = None\n",
        "    OPEN = None #MODIFY THIS\n",
        "    \n",
        "    ast.add_to_open(start_node)\n",
        "    \n",
        "    while not ast.open_is_empty():\n",
        "        sc = ast.get_best_node_from_open()\n",
        "        if sc is None:\n",
        "            break\n",
        "        if (sc.i, sc.j) == (goal_i, goal_j):\n",
        "            path_found = True\n",
        "            last_Node = sc\n",
        "            break\n",
        "        succ_cord = get_neighbors_wrt_time(sc.i, sc.j, sc.g, grid_map, ca_table)\n",
        "#         grid_map.get_neighbors(sc.i, sc.j)\n",
        "        steps += 1\n",
        "        for coord in succ_cord:\n",
        "            h = heuristic_func(*coord, goal_i, goal_j)\n",
        "            new_node = Node(*coord, g=sc.g+compute_cost(sc.i, sc.j, *coord), h=h, parent=sc)\n",
        "            if ast.was_expanded(new_node):\n",
        "                continue\n",
        "            ast.add_to_open(new_node)\n",
        "        last_Node = sc\n",
        "        ast.add_to_closed(sc)\n",
        "        \n",
        "    \n",
        "    nodes_created = len(ast)\n",
        "    \n",
        "    OPEN = ast.OPEN\n",
        "    CLOSED = ast.CLOSED\n",
        "\n",
        "    return path_found, last_Node, steps, nodes_created, OPEN, CLOSED"
      ]
    },
    {
      "cell_type": "code",
      "execution_count": 85,
      "metadata": {
        "id": "IVcvQOLmiwtg"
      },
      "outputs": [],
      "source": [
        "def make_path(goal):\n",
        "    '''\n",
        "    Creates a path by tracing parent pointers from the goal node to the start node\n",
        "    It also returns path's length.\n",
        "    '''\n",
        "\n",
        "    length = goal.g\n",
        "    current = goal\n",
        "    path = []\n",
        "    while current.parent:\n",
        "        path.append(current)\n",
        "        current = current.parent\n",
        "    path.append(current)\n",
        "    return path[::-1], length"
      ]
    },
    {
      "cell_type": "code",
      "source": [
        "def make_list(path):\n",
        "    list_path = []\n",
        "    for node in path:\n",
        "        list_path.append((node.i, node.j))\n",
        "    return list_path\n",
        "\n",
        "def valid_movement_check(indx, iter, path, avail_movements):\n",
        "    path_agent = path[indx]\n",
        "    if iter+1 >= len(path_agent):\n",
        "        return 0\n",
        "    movement = (path_agent[iter+1][0] - path_agent[iter][0], path_agent[iter+1][1] - path_agent[iter][1])\n",
        "    if movement in avail_movements:\n",
        "        return avail_movements.index(movement)\n",
        "    # print('! --', movement)\n",
        "    return 0"
      ],
      "metadata": {
        "id": "mRwmvqEBPouQ"
      },
      "execution_count": 230,
      "outputs": []
    },
    {
      "cell_type": "markdown",
      "metadata": {
        "id": "4__5uz7hiwth"
      },
      "source": [
        "### Visualization"
      ]
    },
    {
      "cell_type": "code",
      "source": [
        "def draw(env, dyn_obst_traj, paths, output_filename = 'render', egocentric_idx=None):\n",
        "    movement = [(0, 0), (-1, 0), (1, 0), (0, -1), (0, 1)]\n",
        "    done = [False, ...]\n",
        "    trs = dyn_obst_traj.copy()\n",
        "\n",
        "    for path in paths:\n",
        "        trs.append(make_list(path)) \n",
        "    max_iter = np.array([len(path) for path in paths]).max()\n",
        "    iter = 0\n",
        "    for iter in range(max_iter):\n",
        "        obs, reward, done, info = env.step([valid_movement_check(indx, iter, trs, movement) for indx in range(env.grid_cfg.num_agents)])\n",
        "        # env.render()\n",
        "\n",
        "\n",
        "    env.save_animation(output_filename+\".svg\", egocentric_idx=egocentric_idx)\n",
        "    display(SVG(output_filename+\".svg\"))"
      ],
      "metadata": {
        "id": "BgjovPH_OqzR"
      },
      "execution_count": 282,
      "outputs": []
    },
    {
      "cell_type": "markdown",
      "source": [
        "## Динамические препятствия!"
      ],
      "metadata": {
        "id": "5sfRia71l96y"
      }
    },
    {
      "cell_type": "markdown",
      "source": [
        "### Код теста"
      ],
      "metadata": {
        "id": "67LildaknDFZ"
      }
    },
    {
      "cell_type": "code",
      "source": [
        "def set_start_end(s, e, obs):\n",
        "    start = []\n",
        "    end = []\n",
        "    for tr in obs:\n",
        "        start.append(tr[0])\n",
        "        end.append(tr[-1])\n",
        "    if len(s)!=len(e):\n",
        "        raise Exception(\"start and end points\")\n",
        "    for i in range(len(s)):\n",
        "        start.append(s[i])\n",
        "        end.append(e[i])\n",
        "    return start, end, len(start)"
      ],
      "metadata": {
        "id": "EL9y5ZmO-ro9"
      },
      "execution_count": 87,
      "outputs": []
    },
    {
      "cell_type": "code",
      "source": [
        "def simple_test_pogema(search_func, task, *args):\n",
        "    '''\n",
        "    simple_test runs search_func on one task (use a number from 0 to 4 to \n",
        "    choose a certain debug task on simple map or None to choose a random task \n",
        "    from this pool) with *args as optional arguments and displays:\n",
        "     - 'Path found!' and some statistics -- path was found\n",
        "     - 'Path not found!' -- path was not found\n",
        "     \n",
        "    Parameters\n",
        "    ----------\n",
        "    search_func : function\n",
        "        Function, which implements the method to run\n",
        "    task : int\n",
        "        Number of task from pregenerated set. Must be in the range from 0 to 4 (use None ro run random task)\n",
        "    '''\n",
        "    \n",
        "    grid = grid = \"\"\"\n",
        "    ...##........##...#..##.......\n",
        "    ...#####..#..##......##.......\n",
        "    .......#..#..##...#..##.......\n",
        "    ...##..#..#..##...#..##.......\n",
        "    ...##..#..#..##...#..##....... \n",
        "    ...##..#..#..##...#..#####....\n",
        "    ...##..#..#..##...#..#####....\n",
        "    .......#..#..##...#..#........\n",
        "    ...##..#..#..##...#..#........\n",
        "    ...##..#..#..##...#..#........\n",
        "    ...##.....#.......#...........\n",
        "    ...#############.##.#######.##\n",
        "    ...##........##...............\n",
        "    ..............................\n",
        "    ...##........##...............\n",
        "    \"\"\"\n",
        "    starts = [(1, 28), (2, 29), (3, 20), (3, 20), (0, 0)]\n",
        "    goals = [(0, 1), (6, 2), (5, 6), (13, 0), (4, 23)]\n",
        "    dyn_obst_traj = []\n",
        "    # dyn_obst_traj.append([(12,2), (11,2), (12,2), (13,2), (14,2), (13,2), (12,2), (11,2), (12,2), (13,2), (14,2), (13,2), (12,2),(11,2), (12,2), (13,2), (14,2), (13,2), (12,2),(11,2), (12,2), (13,2), (14,2), (13,2), (12,2),(11,2), (12,2), (13,2), (14,2), (13,2), (12,2),(11,2), (12,2), (13,2), (14,2), (13,2), (12,2),(11,2), (12,2), (13,2), (14,2), (13,2), (12,2),(11,2), (12,2), (13,2), (14,2), (13,2), (12,2),(11,2), (12,2), (13,2), (14,2), (13,2), (12,2),(11,2), (12,2), (13,2), (14,2), (13,2), (12,2),(11,2), (12,2), (13,2), (14,2), (13,2), (12,2),(11,2), (12,2), (13,2), (14,2), (13,2), (12,2),(11,2), (12,2), (13,2), (14,2), (13,2), (12,2),(11,2), (12,2), (13,2), (14,2), (13,2), (12,2), (1, 27)])\n",
        "    dyn_obst_traj.append([(13,2), (13,3), (13,2), (13,1), (13, 0), (13, 1), (13,2), (13,3), (13,2), (13,1), (13, 0), (13, 1), (13,2), (13,3), (13,2), (13,1), (13, 0), (13, 1), (13,2), (13,3), (13,2), (13,1), (13, 0), (13, 1), (13,2), (13,3), (13,2), (13,1), (13, 0), (13, 1), (13,2), (13,3), (13,2), (13,1), (13, 0), (13, 1), (13,2), (13,3), (13,2), (13,1), (13, 0), (13, 1), (13,2), (13,3), (13,2), (13,1), (13, 0), (13, 1), (13,2), (13,3), (13,2), (13,1), (13, 0), (13, 1), (13,2), (13,3), (13,2), (13,1), (13, 0), (13, 1), (13,2), (13,3), (13,2), (13,1), (13, 0), (13, 1), (13,2), (13,3), (13,2), (13,1), (13, 0), (13, 1), (1, 26)])\n",
        "    dyn_obst_traj.append([(1,1), (1,2), (2,2), (2,1), (1,1), (1,2), (2,2), (2,1), (1,1), (1,2), (2,2), (2,1), \n",
        "                          (1,1), (1,2), (2,2), (2,1), (1,1), (1,2), (2,2), (2,1), (1,1), (1,2), (2,2), (2,1), \n",
        "                          (1,1), (1,2), (2,2), (2,1), (1,1), (1,2), (2,2), (2,1), (1,1), (1,2), (2,2), (2,1), \n",
        "                          (1,1), (1,2), (2,2), (2,1), (1,1), (1,2), (2,2), (2,1), (1,1), (1,2), (2,2), (2,1), \n",
        "                          (1,1), (1,2), (2,2), (2,1), (1,1), (1,2), (2,2), (2,1), (1,1), (1,2), (2,2), (2,1), \n",
        "                          (1,1), (1,2), (2,2), (2,1), (1,1), (1,2), (2,2), (2,1), (1,1), (1,2), (2,2), (2,1), \n",
        "                          (1,1), (1,2), (2,2), (2,1), (1,1), (1,2), (2,2), (2,1), (1,1), (1,2), (2,2), (2,1), \n",
        "                          (1,1), (1,2), (2,2), (2,1), (1,1), (1,2), (2,2), (2,1), (1,1), (1,2), (2,2), (2, 1), (4, 1)])\n",
        "    dyn_obst_traj.append([(7,1), (7,2), (7,3), (7,4), (7,3), (7,2), (7,1), (7,2), (7,3), (7,4), (7,3), (7,2), (7,1), \n",
        "                          (7,2), (7,3), (7,4), (7,3), (7,2), (7,1), (7,2), (7,3), (7,4), (7,3), (7,2), (7,1), (7,2), \n",
        "                          (7,3), (7,4), (7,3), (7,2), (7,1), (7,2), (7,3), (7,4), (7,3), (7,2), (7,1), (7,2), (7,3), \n",
        "                          (7,4), (7,3), (7,2), (7,1), (7,2), (7,3), (7,4), (7,3), (7,2), (7,1), (7,2), (7,3), (7,4), \n",
        "                          (7,3), (7,2), (7,1), (7,2), (7,3), (7,4), (7,3), (7,2), (7,1), (7,2), (7,3), (7,4), (7,3), \n",
        "                          (7,2), (7,1), (7,2), (7,3), (7,4), (7,3), (7,2), (7,1), (7,2), (7,3), (7,4), (7,3), (7,2), (7,1), \n",
        "                          (7,2), (7,3), (7,4), (7,3), (7,2), (7,1), (7,2), (7,3), (7,4), (7,3), (7,2), (7,1), (7,2), (7,3), \n",
        "                          (7,4), (7,3), (7,2), (0, 29)])\n",
        "    dyn_obst_traj.append([(13,10), (13,11), (13,12), (13,13), (13,14), (13,15), (13,16), (13,17), (13,16), (13,15), (13,14), (13,13), (13,12), (13,11), (13,10), (13,11), (13,12), (13,13), (13,14), (13,15), (13,16), (13,17), (13,16), (13,15), (13,14), (13,13), (13,12), (13,11), (13,10), (13,11), (13,12), (13,13), (13,14), (13,15), (13,16), (13,17), (13,16), (13,15), (13,14), (13,13), (13,12), (13,11), (13,10), (13,11), (13,12), (13,13), (13,14), (13,15), (13,16), (13,17), (13,16), (13,15), (13,14), (13,13), (13,12), (13,11), (13,10), (13,11), (13,12), (13,13), (13,14), (13,15), (13,16), (13,17), (13,16), (13,15), (13,14), (13,13), (13,12), (13,11), (13,10), (13,11), (13,12), (13,13), (13,14), (13,15), (13,16), (13,17), (13,16), (13,15), (13,14), (13,13), (13,12), (13,11), (0, 28)])\n",
        "    dyn_obst_traj.append([(11,16), (12,16), (12,17), (12,18), (12,19), (11,19), (12,19), (12,18), (12,17), (12,16), (11,16), (12,16), (12,17), (12,18), (12,19), (11,19), (12,19), (12,18), (12,17), (12,16), (11,16), (12,16), (12,17), (12,18), (12,19), (11,19), (12,19), (12,18), (12,17), (12,16), (11,16), (12,16), (12,17), (12,18), (12,19), (11,19), (12,19), (12,18), (12,17), (12,16), (11,16), (12,16), (12,17), (12,18), (12,19), (11,19), (12,19), (12,18), (12,17), (12,16), (11,16), (12,16), (12,17), (12,18), (12,19), (11,19), (12,19), (12,18), (12,17), (12,16), (11,16), (12,16), (12,17), (12,18), (12,19), (11,19), (12,19), (12,18), (12,17), (12,16), (11,16), (12,16), (12,17), (12,18), (12,19), (11,19), (12,19), (12,18), (12,17), (12,16), (11,16), (12,16), (12,17), (12,18), (12,19), (11,19), (12,19), (12,18), (12,17), (12,16), (0, 27)])\n",
        "    dyn_obst_traj.append([(4,0), (4,1), (3,1), (3,0), (4,0), (4,1), (3,1), (3,0), (4,0), (4,1), (3,1), (3,0), (4,0), (4,1), (3,1), (3,0), (4,0), (4,1), (3,1), (3,0), (4,0), (4,1), (3,1), (3,0), (4,0), (4,1), (3,1), (3,0), (4,0), (4,1), (3,1), (3,0), (4,0), (4,1), (3,1), (3,0), (4,0), (4,1), (3,1), (3,0), (4,0), (4,1), (3,1), (3,0), (4,0), (4,1), (3,1), (3,0), (4,0), (4,1), (3,1), (3,0), (4,0), (4,1), (3,1), (3,0), (4,0), (4,1), (3,1), (3,0), (4,0), (4,1), (3,1), (3,0), (4,0), (4,1), (3,1), (3,0), (4,0), (4,1), (3,1), (3,0), (4,0), (4,1), (3,1), (3,0), (4,0), (4,1), (3,1), (3,0), (4,0), (4,1), (3,1), (3,0), (4,0), (4,1), (3,1), (3,0), (4,0), (4,1), (3,1), (3,0), (4,0), (4,1), (3,1), (3,0), (4,0), (4,1), (3,1), (3,0), (0, 26)])\n",
        "    dyn_obst_traj.append([(10,20), (10, 21), (10,22), (10,23), (10,24), (10,23), (10,22), (10,21), (10,20), (10, 21), (10,22), (10,23), (10,24), (10,23), (10,22), (10,21), (10,20), (10, 21), (10,22), (10,23), (10,24), (10,23), (10,22), (10,21), (10,20), (10, 21), (10,22), (10,23), (10,24), (10,23), (10,22), (10,21), (10,20), (10, 21), (10,22), (10,23), (10,24), (10,23), (10,22), (10,21), (10,20), (10, 21), (10,22), (10,23), (10,24), (10,23), (10,22), (10,21), (10,20), (10, 21), (10,22), (10,23), (10,24), (10,23), (10,22), (10,21), (10,20), (10, 21), (10,22), (10,23), (10,24), (10,23), (10,22), (10,21), (10,20), (10, 21), (10,22), (10,23), (10,24), (10,23), (10,22), (10,21), (10,20), (10, 21), (10,22), (10,23), (10,24), (10,23), (10,22), (10,21), (10,20), (10, 21), (10,22), (10,23), (10,24), (10,23), (10,22), (10,21), (0, 25)])\n",
        "    dyn_obst_traj.append([(12,6), (12,7), (13,7), (13,6), (12,6), (12,7), (13,7), (13,6), (12,6), (12,7), (13,7), (13,6), (12,6), (12,7), (13,7), (13,6), (12,6), (12,7), (13,7), (13,6), (12,6), (12,7), (13,7), (13,6), (12,6), (12,7), (13,7), (13,6), (12,6), (12,7), (13,7), (13,6), (12,6), (12,7), (13,7), (13,6), (12,6), (12,7), (13,7), (13,6), (12,6), (12,7), (13,7), (13,6), (12,6), (12,7), (13,7), (13,6), (12,6), (12,7), (13,7), (13,6), (12,6), (12,7), (13,7), (13,6), (12,6), (12,7), (13,7), (13,6), (12,6), (12,7), (13,7), (13,6), (12,6), (12,7), (13,7), (13,6), (12,6), (12,7), (13,7), (13,6), (12,6), (12,7), (13,7), (13,6), (12,6), (12,7), (13,7), (13,6), (12,6), (12,7), (13,7), (13,6), (12,6), (12,7), (13,7), (13,6), (12,6), (12,7), (13,7), (13,6), (12,6), (12,7), (13,7), (13,6), (0, 24)])\n",
        "    dyn_obst_traj.append([(12,26), (12,27), (11,27), (12,27), (12,28), (12,27), (12,26), (12,27), (11,27), (12,27), (12,28), (12,27), (12,26), (12,27), (11,27), (12,27), (12,28), (12,27), (12,26), (12,27), (11,27), (12,27), (12,28), (12,27), (12,26), (12,27), (11,27), (12,27), (12,28), (12,27), (12,26), (12,27), (11,27), (12,27), (12,28), (12,27), (12,26), (12,27), (11,27), (12,27), (12,28), (12,27), (12,26), (12,27), (11,27), (12,27), (12,28), (12,27), (12,26), (12,27), (11,27), (12,27), (12,28), (12,27), (12,26), (12,27), (11,27), (12,27), (12,28), (12,27), (12,26), (12,27), (11,27), (12,27), (12,28), (12,27), (12,26), (12,27), (11,27), (12,27), (12,28), (12,27), (12,26), (12,27), (11,27), (12,27), (12,28), (12,27), (12,26), (12,27), (11,27), (12,27), (12,28), (12,27), (12,26), (12,27), (11,27), (12,27), (12,28), (12,27), (0, 23)])\n",
        "    \n",
        "    if (task is None) or not (0 <= task < 5):\n",
        "        task = randint(0, 4)\n",
        "    \n",
        "    start_p, end_p, num_agents = set_start_end([starts[task]], [goals[task]], dyn_obst_traj)\n",
        "\n",
        "    grid_config = GridConfig(map=grid, num_agents=num_agents, seed=41, agents_xy=start_p, targets_xy=end_p)\n",
        "    env = gym.make('Pogema-v0', config=grid_config)\n",
        "    env = AnimationMonitor(env)\n",
        "\n",
        "    obs = env.reset()\n",
        "\n",
        "    # env.render()\n",
        "\n",
        "    task_map = Map_pogema()\n",
        "    task_map.set_map(env.grid.obstacles, grid_config.obs_radius)\n",
        "\n",
        "    ca_table = CATable(dyn_obst_traj)\n",
        "    \n",
        "    lengths = [54, 47, 48, 38, 56]\n",
        "\n",
        "    start = Node(*starts[task])\n",
        "    goal = Node(*goals[task])\n",
        "    true_length = lengths[task]\n",
        "\n",
        "    result = search_func(task_map, ca_table, start.i, start.j, goal.i, goal.j, *args)\n",
        "    \n",
        "    number_of_steps = result[2]\n",
        "    nodes_created = result[3]\n",
        "    if result[0]:\n",
        "        path, length = make_path(result[1])\n",
        "        correct = (int(length)  == int(true_length))\n",
        "        if not correct:\n",
        "            print(int(length), 'but true is', int(true_length))\n",
        "        print(\"Path found! Length: \" + str(length) + \\\n",
        "              \". Nodes created: \" + str(nodes_created) + \\\n",
        "              \". Number of steps: \" + str(number_of_steps) + \\\n",
        "              \". Correct: \" + str(correct))\n",
        "        draw(env, dyn_obst_traj, [path], egocentric_idx=len(dyn_obst_traj))\n",
        "        \n",
        "    else:\n",
        "        print(\"Path not found!\")"
      ],
      "metadata": {
        "id": "BBclOUnHvu6c"
      },
      "execution_count": 278,
      "outputs": []
    },
    {
      "cell_type": "markdown",
      "source": [
        "### Сам эксперимент"
      ],
      "metadata": {
        "id": "C4RSSt1QnJRY"
      }
    },
    {
      "cell_type": "code",
      "source": [
        "!pip install --upgrade pillow"
      ],
      "metadata": {
        "colab": {
          "base_uri": "https://localhost:8080/"
        },
        "id": "phB8KIY4JRoo",
        "outputId": "b1a8679a-f3c4-43d1-8e79-770c3149e4d5"
      },
      "execution_count": 187,
      "outputs": [
        {
          "output_type": "stream",
          "name": "stdout",
          "text": [
            "Requirement already satisfied: pillow in /usr/local/lib/python3.7/dist-packages (9.1.0)\n"
          ]
        }
      ]
    },
    {
      "cell_type": "code",
      "source": [
        "%time simple_test_pogema(astar_timesteps, 0, manhattan_distance, SearchTree)"
      ],
      "metadata": {
        "colab": {
          "base_uri": "https://localhost:8080/",
          "height": 361
        },
        "id": "56vyC7y4BUi5",
        "outputId": "834668e7-eb58-4125-a88a-c848aac9f626"
      },
      "execution_count": 281,
      "outputs": [
        {
          "output_type": "stream",
          "name": "stdout",
          "text": [
            "Path found! Length: 54. Nodes created: 2860. Number of steps: 1834. Correct: True\n",
            "[[<__main__.Node object at 0x7f64528c4750>, <__main__.Node object at 0x7f641e1d9410>, <__main__.Node object at 0x7f6311726a10>, <__main__.Node object at 0x7f6311726890>, <__main__.Node object at 0x7f645265a590>, <__main__.Node object at 0x7f6310514250>, <__main__.Node object at 0x7f645265ab90>, <__main__.Node object at 0x7f641e247ad0>, <__main__.Node object at 0x7f6455bcc6d0>, <__main__.Node object at 0x7f644fdf8ed0>, <__main__.Node object at 0x7f645268d810>, <__main__.Node object at 0x7f641dbf9c90>, <__main__.Node object at 0x7f645008db10>, <__main__.Node object at 0x7f644fe8f690>, <__main__.Node object at 0x7f645b644850>, <__main__.Node object at 0x7f645368cb50>, <__main__.Node object at 0x7f644fe8fc10>, <__main__.Node object at 0x7f6453694110>, <__main__.Node object at 0x7f6453e22e10>, <__main__.Node object at 0x7f645265a1d0>, <__main__.Node object at 0x7f645b36a610>, <__main__.Node object at 0x7f645268dd50>, <__main__.Node object at 0x7f641e292790>, <__main__.Node object at 0x7f645268d290>, <__main__.Node object at 0x7f644dce4850>, <__main__.Node object at 0x7f631165dc90>, <__main__.Node object at 0x7f641e188050>, <__main__.Node object at 0x7f644fea0d90>, <__main__.Node object at 0x7f644fea0b90>, <__main__.Node object at 0x7f6455b9f3d0>, <__main__.Node object at 0x7f644fea0190>, <__main__.Node object at 0x7f640dafa4d0>, <__main__.Node object at 0x7f6452666a10>, <__main__.Node object at 0x7f641e244510>, <__main__.Node object at 0x7f641e244610>, <__main__.Node object at 0x7f645a9a8a90>, <__main__.Node object at 0x7f645b5d73d0>, <__main__.Node object at 0x7f645b5d7850>, <__main__.Node object at 0x7f645b5d7210>, <__main__.Node object at 0x7f644fe8f1d0>, <__main__.Node object at 0x7f644fe8f990>, <__main__.Node object at 0x7f645b5d7a10>, <__main__.Node object at 0x7f645b5d7cd0>, <__main__.Node object at 0x7f645b5d7990>, <__main__.Node object at 0x7f645a9a85d0>, <__main__.Node object at 0x7f6452666310>, <__main__.Node object at 0x7f645b36a790>, <__main__.Node object at 0x7f6459a68410>, <__main__.Node object at 0x7f641e244150>, <__main__.Node object at 0x7f641e2444d0>, <__main__.Node object at 0x7f63116718d0>, <__main__.Node object at 0x7f641e26ba90>, <__main__.Node object at 0x7f6453e226d0>, <__main__.Node object at 0x7f644fe85a90>, <__main__.Node object at 0x7f644dd72c50>]]\n"
          ]
        },
        {
          "output_type": "display_data",
          "data": {
            "text/plain": [
              "<IPython.core.display.SVG object>"
            ],
            "image/svg+xml": "<svg height=\"250\" viewBox=\"0 -2500 4000 2500\" width=\"400\" xmlns=\"http://www.w3.org/2000/svg\" xmlns:xlink=\"http://www.w3.org/1999/xlink\">\n<defs>\n</defs>\n<rect fill=\"none\" height=\"1090\" rx=\"15\" stroke=\"#c1433c\" stroke-dasharray=\"25\" stroke-width=\"10\" width=\"1090\" x=\"2805\" y=\"-2395\">\n<animate attributeName=\"x\" dur=\"15.120000000000001s\" keyTimes=\"0.0;0.0181818182;0.1818181818;0.2;0.2545454545;0.2727272727;0.2909090909;0.3090909091;0.3272727273;0.3454545455;0.3636363636;0.3818181818;0.4;0.4181818182;0.4363636364;0.4545454545;0.4727272727;0.4909090909;0.5090909091;0.5272727273;0.5454545455;0.5636363636;0.5818181818;0.6;0.6181818182;0.6363636364;0.6545454545;0.6727272727;0.6909090909;0.7090909091;0.7272727273;0.7454545455;0.8181818182;0.8363636364;1.0\" repeatCount=\"indefinite\" values=\"2805;2805;2805;2705;2705;2605;2505;2405;2305;2205;2105;2005;1905;1805;1705;1605;1505;1405;1305;1205;1205;1105;1005;905;805;705;605;505;505;405;305;205;205;105;105\"/>\n<animate attributeName=\"y\" dur=\"15.120000000000001s\" keyTimes=\"0.0;0.0181818182;0.0363636364;0.0545454545;0.0727272727;0.0909090909;0.1090909091;0.1272727273;0.1454545455;0.1636363636;0.1818181818;0.2;0.2181818182;0.2363636364;0.2545454545;0.5272727273;0.5454545455;0.6727272727;0.6909090909;0.7454545455;0.7636363636;0.7818181818;0.8;0.8181818182;0.8363636364;0.8545454545;0.8727272727;0.8909090909;0.9090909091;0.9272727273;0.9454545455;0.9636363636;0.9818181818;1.0\" repeatCount=\"indefinite\" values=\"-2395;-2395;-2295;-2195;-2095;-1995;-1895;-1795;-1695;-1595;-1495;-1495;-1395;-1295;-1195;-1195;-1295;-1295;-1195;-1195;-1295;-1395;-1495;-1595;-1595;-1695;-1795;-1895;-1995;-2095;-2195;-2295;-2395;-2495\"/>\n<animate attributeName=\"visibility\" dur=\"15.120000000000001s\" keyTimes=\"0.0;0.0181818182;0.9818181818;1.0\" repeatCount=\"indefinite\" values=\"visible;visible;visible;hidden\"/>\n</rect>\n<rect fill=\"#84A1AE\" height=\"70\" opacity=\"0.2\" rx=\"15\" width=\"70\" x=\"415\" y=\"-485\">\n<animate attributeName=\"opacity\" dur=\"15.120000000000001s\" keyTimes=\"0.0;0.0181818182;0.6909090909;0.7090909091;1.0\" repeatCount=\"indefinite\" values=\"0.2;0.2;0.2;1.0;1.0\"/>\n</rect>\n<rect fill=\"#84A1AE\" height=\"70\" opacity=\"0.2\" rx=\"15\" width=\"70\" x=\"415\" y=\"-585\">\n<animate attributeName=\"opacity\" dur=\"15.120000000000001s\" keyTimes=\"0.0;0.0181818182;0.6909090909;0.7090909091;1.0\" repeatCount=\"indefinite\" values=\"0.2;0.2;0.2;1.0;1.0\"/>\n</rect>\n<rect fill=\"#84A1AE\" height=\"70\" opacity=\"0.2\" rx=\"15\" width=\"70\" x=\"415\" y=\"-685\">\n<animate attributeName=\"opacity\" dur=\"15.120000000000001s\" keyTimes=\"0.0;0.0181818182;0.6909090909;0.7090909091;1.0\" repeatCount=\"indefinite\" values=\"0.2;0.2;0.2;1.0;1.0\"/>\n</rect>\n<rect fill=\"#84A1AE\" height=\"70\" opacity=\"0.2\" rx=\"15\" width=\"70\" x=\"415\" y=\"-785\">\n<animate attributeName=\"opacity\" dur=\"15.120000000000001s\" keyTimes=\"0.0;0.0181818182;0.6909090909;0.7090909091;1.0\" repeatCount=\"indefinite\" values=\"0.2;0.2;0.2;1.0;1.0\"/>\n</rect>\n<rect fill=\"#84A1AE\" height=\"70\" opacity=\"0.2\" rx=\"15\" width=\"70\" x=\"415\" y=\"-885\">\n<animate attributeName=\"opacity\" dur=\"15.120000000000001s\" keyTimes=\"0.0;0.0181818182;0.6909090909;0.7090909091;1.0\" repeatCount=\"indefinite\" values=\"0.2;0.2;0.2;1.0;1.0\"/>\n</rect>\n<rect fill=\"#84A1AE\" height=\"70\" opacity=\"0.2\" rx=\"15\" width=\"70\" x=\"415\" y=\"-985\">\n<animate attributeName=\"opacity\" dur=\"15.120000000000001s\" keyTimes=\"0.0;0.0181818182;0.6909090909;0.7090909091;1.0\" repeatCount=\"indefinite\" values=\"0.2;0.2;0.2;1.0;1.0\"/>\n</rect>\n<rect fill=\"#84A1AE\" height=\"70\" opacity=\"0.2\" rx=\"15\" width=\"70\" x=\"415\" y=\"-1085\">\n<animate attributeName=\"opacity\" dur=\"15.120000000000001s\" keyTimes=\"0.0;0.0181818182;0.6909090909;0.7090909091;1.0\" repeatCount=\"indefinite\" values=\"0.2;0.2;0.2;1.0;1.0\"/>\n</rect>\n<rect fill=\"#84A1AE\" height=\"70\" opacity=\"0.2\" rx=\"15\" width=\"70\" x=\"415\" y=\"-1185\">\n<animate attributeName=\"opacity\" dur=\"15.120000000000001s\" keyTimes=\"0.0;0.0181818182;0.6909090909;0.7090909091;1.0\" repeatCount=\"indefinite\" values=\"0.2;0.2;0.2;1.0;1.0\"/>\n</rect>\n<rect fill=\"#84A1AE\" height=\"70\" opacity=\"0.2\" rx=\"15\" width=\"70\" x=\"415\" y=\"-1285\">\n<animate attributeName=\"opacity\" dur=\"15.120000000000001s\" keyTimes=\"0.0;0.0181818182;0.7454545455;0.7636363636;1.0\" repeatCount=\"indefinite\" values=\"0.2;0.2;0.2;1.0;1.0\"/>\n</rect>\n<rect fill=\"#84A1AE\" height=\"70\" opacity=\"0.2\" rx=\"15\" width=\"70\" x=\"415\" y=\"-1385\">\n<animate attributeName=\"opacity\" dur=\"15.120000000000001s\" keyTimes=\"0.0;0.0181818182;0.7636363636;0.7818181818;1.0\" repeatCount=\"indefinite\" values=\"0.2;0.2;0.2;1.0;1.0\"/>\n</rect>\n<rect fill=\"#84A1AE\" height=\"70\" opacity=\"0.2\" rx=\"15\" width=\"70\" x=\"415\" y=\"-1485\">\n<animate attributeName=\"opacity\" dur=\"15.120000000000001s\" keyTimes=\"0.0;0.0181818182;0.7818181818;0.8;1.0\" repeatCount=\"indefinite\" values=\"0.2;0.2;0.2;1.0;1.0\"/>\n</rect>\n<rect fill=\"#84A1AE\" height=\"70\" opacity=\"0.2\" rx=\"15\" width=\"70\" x=\"415\" y=\"-1585\">\n<animate attributeName=\"opacity\" dur=\"15.120000000000001s\" keyTimes=\"0.0;0.0181818182;0.8;0.8181818182;1.0\" repeatCount=\"indefinite\" values=\"0.2;0.2;0.2;1.0;1.0\"/>\n</rect>\n<rect fill=\"#84A1AE\" height=\"70\" opacity=\"0.2\" rx=\"15\" width=\"70\" x=\"415\" y=\"-1685\">\n<animate attributeName=\"opacity\" dur=\"15.120000000000001s\" keyTimes=\"0.0;0.0181818182;0.8363636364;0.8545454545;1.0\" repeatCount=\"indefinite\" values=\"0.2;0.2;0.2;1.0;1.0\"/>\n</rect>\n<rect fill=\"#84A1AE\" height=\"70\" opacity=\"0.2\" rx=\"15\" width=\"70\" x=\"415\" y=\"-1785\">\n<animate attributeName=\"opacity\" dur=\"15.120000000000001s\" keyTimes=\"0.0;0.0181818182;0.8545454545;0.8727272727;1.0\" repeatCount=\"indefinite\" values=\"0.2;0.2;0.2;1.0;1.0\"/>\n</rect>\n<rect fill=\"#84A1AE\" height=\"70\" opacity=\"0.2\" rx=\"15\" width=\"70\" x=\"415\" y=\"-1885\">\n<animate attributeName=\"opacity\" dur=\"15.120000000000001s\" keyTimes=\"0.0;0.0181818182;0.8727272727;0.8909090909;1.0\" repeatCount=\"indefinite\" values=\"0.2;0.2;0.2;1.0;1.0\"/>\n</rect>\n<rect fill=\"#84A1AE\" height=\"70\" opacity=\"0.2\" rx=\"15\" width=\"70\" x=\"415\" y=\"-1985\">\n<animate attributeName=\"opacity\" dur=\"15.120000000000001s\" keyTimes=\"0.0;0.0181818182;0.8909090909;0.9090909091;1.0\" repeatCount=\"indefinite\" values=\"0.2;0.2;0.2;1.0;1.0\"/>\n</rect>\n<rect fill=\"#84A1AE\" height=\"70\" opacity=\"0.2\" rx=\"15\" width=\"70\" x=\"415\" y=\"-2085\">\n<animate attributeName=\"opacity\" dur=\"15.120000000000001s\" keyTimes=\"0.0;0.0181818182;0.9090909091;0.9272727273;1.0\" repeatCount=\"indefinite\" values=\"0.2;0.2;0.2;1.0;1.0\"/>\n</rect>\n<rect fill=\"#84A1AE\" height=\"70\" opacity=\"0.2\" rx=\"15\" width=\"70\" x=\"515\" y=\"-485\">\n<animate attributeName=\"opacity\" dur=\"15.120000000000001s\" keyTimes=\"0.0;0.0181818182;0.6545454545;0.6727272727;1.0\" repeatCount=\"indefinite\" values=\"0.2;0.2;0.2;1.0;1.0\"/>\n</rect>\n<rect fill=\"#84A1AE\" height=\"70\" opacity=\"0.2\" rx=\"15\" width=\"70\" x=\"515\" y=\"-2085\">\n<animate attributeName=\"opacity\" dur=\"15.120000000000001s\" keyTimes=\"0.0;0.0181818182;0.9090909091;0.9272727273;1.0\" repeatCount=\"indefinite\" values=\"0.2;0.2;0.2;1.0;1.0\"/>\n</rect>\n<rect fill=\"#84A1AE\" height=\"70\" opacity=\"0.2\" rx=\"15\" width=\"70\" x=\"615\" y=\"-485\">\n<animate attributeName=\"opacity\" dur=\"15.120000000000001s\" keyTimes=\"0.0;0.0181818182;0.6363636364;0.6545454545;1.0\" repeatCount=\"indefinite\" values=\"0.2;0.2;0.2;1.0;1.0\"/>\n</rect>\n<rect fill=\"#84A1AE\" height=\"70\" opacity=\"0.2\" rx=\"15\" width=\"70\" x=\"615\" y=\"-2085\">\n<animate attributeName=\"opacity\" dur=\"15.120000000000001s\" keyTimes=\"0.0;0.0181818182;0.9090909091;0.9272727273;1.0\" repeatCount=\"indefinite\" values=\"0.2;0.2;0.2;1.0;1.0\"/>\n</rect>\n<rect fill=\"#84A1AE\" height=\"70\" opacity=\"0.2\" rx=\"15\" width=\"70\" x=\"715\" y=\"-485\">\n<animate attributeName=\"opacity\" dur=\"15.120000000000001s\" keyTimes=\"0.0;0.0181818182;0.6181818182;0.6363636364;1.0\" repeatCount=\"indefinite\" values=\"0.2;0.2;0.2;1.0;1.0\"/>\n</rect>\n<rect fill=\"#84A1AE\" height=\"70\" opacity=\"0.2\" rx=\"15\" width=\"70\" x=\"715\" y=\"-2085\">\n<animate attributeName=\"opacity\" dur=\"15.120000000000001s\" keyTimes=\"0.0;0.0181818182;0.9090909091;0.9272727273;1.0\" repeatCount=\"indefinite\" values=\"0.2;0.2;0.2;1.0;1.0\"/>\n</rect>\n<rect fill=\"#84A1AE\" height=\"70\" opacity=\"0.2\" rx=\"15\" width=\"70\" x=\"815\" y=\"-485\">\n<animate attributeName=\"opacity\" dur=\"15.120000000000001s\" keyTimes=\"0.0;0.0181818182;0.6;0.6181818182;1.0\" repeatCount=\"indefinite\" values=\"0.2;0.2;0.2;1.0;1.0\"/>\n</rect>\n<rect fill=\"#84A1AE\" height=\"70\" opacity=\"0.2\" rx=\"15\" width=\"70\" x=\"815\" y=\"-585\">\n<animate attributeName=\"opacity\" dur=\"15.120000000000001s\" keyTimes=\"0.0;0.0181818182;0.6;0.6181818182;1.0\" repeatCount=\"indefinite\" values=\"0.2;0.2;0.2;1.0;1.0\"/>\n</rect>\n<rect fill=\"#84A1AE\" height=\"70\" opacity=\"0.2\" rx=\"15\" width=\"70\" x=\"815\" y=\"-785\">\n<animate attributeName=\"opacity\" dur=\"15.120000000000001s\" keyTimes=\"0.0;0.0181818182;0.6;0.6181818182;1.0\" repeatCount=\"indefinite\" values=\"0.2;0.2;0.2;1.0;1.0\"/>\n</rect>\n<rect fill=\"#84A1AE\" height=\"70\" opacity=\"0.2\" rx=\"15\" width=\"70\" x=\"815\" y=\"-885\">\n<animate attributeName=\"opacity\" dur=\"15.120000000000001s\" keyTimes=\"0.0;0.0181818182;0.6;0.6181818182;1.0\" repeatCount=\"indefinite\" values=\"0.2;0.2;0.2;1.0;1.0\"/>\n</rect>\n<rect fill=\"#84A1AE\" height=\"70\" opacity=\"0.2\" rx=\"15\" width=\"70\" x=\"815\" y=\"-985\">\n<animate attributeName=\"opacity\" dur=\"15.120000000000001s\" keyTimes=\"0.0;0.0181818182;0.6;0.6181818182;1.0\" repeatCount=\"indefinite\" values=\"0.2;0.2;0.2;1.0;1.0\"/>\n</rect>\n<rect fill=\"#84A1AE\" height=\"70\" opacity=\"0.2\" rx=\"15\" width=\"70\" x=\"815\" y=\"-1085\">\n<animate attributeName=\"opacity\" dur=\"15.120000000000001s\" keyTimes=\"0.0;0.0181818182;0.6;0.6181818182;1.0\" repeatCount=\"indefinite\" values=\"0.2;0.2;0.2;1.0;1.0\"/>\n</rect>\n<rect fill=\"#84A1AE\" height=\"70\" opacity=\"0.2\" rx=\"15\" width=\"70\" x=\"815\" y=\"-1185\">\n<animate attributeName=\"opacity\" dur=\"15.120000000000001s\" keyTimes=\"0.0;0.0181818182;0.6;0.6181818182;1.0\" repeatCount=\"indefinite\" values=\"0.2;0.2;0.2;1.0;1.0\"/>\n</rect>\n<rect fill=\"#84A1AE\" height=\"70\" opacity=\"0.2\" rx=\"15\" width=\"70\" x=\"815\" y=\"-1385\">\n<animate attributeName=\"opacity\" dur=\"15.120000000000001s\" keyTimes=\"0.0;0.0181818182;0.7636363636;0.7818181818;1.0\" repeatCount=\"indefinite\" values=\"0.2;0.2;0.2;1.0;1.0\"/>\n</rect>\n<rect fill=\"#84A1AE\" height=\"70\" opacity=\"0.2\" rx=\"15\" width=\"70\" x=\"815\" y=\"-1485\">\n<animate attributeName=\"opacity\" dur=\"15.120000000000001s\" keyTimes=\"0.0;0.0181818182;0.7818181818;0.8;1.0\" repeatCount=\"indefinite\" values=\"0.2;0.2;0.2;1.0;1.0\"/>\n</rect>\n<rect fill=\"#84A1AE\" height=\"70\" opacity=\"0.2\" rx=\"15\" width=\"70\" x=\"815\" y=\"-1585\">\n<animate attributeName=\"opacity\" dur=\"15.120000000000001s\" keyTimes=\"0.0;0.0181818182;0.8;0.8181818182;1.0\" repeatCount=\"indefinite\" values=\"0.2;0.2;0.2;1.0;1.0\"/>\n</rect>\n<rect fill=\"#84A1AE\" height=\"70\" opacity=\"0.2\" rx=\"15\" width=\"70\" x=\"815\" y=\"-1685\">\n<animate attributeName=\"opacity\" dur=\"15.120000000000001s\" keyTimes=\"0.0;0.0181818182;0.8363636364;0.8545454545;1.0\" repeatCount=\"indefinite\" values=\"0.2;0.2;0.2;1.0;1.0\"/>\n</rect>\n<rect fill=\"#84A1AE\" height=\"70\" opacity=\"0.2\" rx=\"15\" width=\"70\" x=\"815\" y=\"-1885\">\n<animate attributeName=\"opacity\" dur=\"15.120000000000001s\" keyTimes=\"0.0;0.0181818182;0.8727272727;0.8909090909;1.0\" repeatCount=\"indefinite\" values=\"0.2;0.2;0.2;1.0;1.0\"/>\n</rect>\n<rect fill=\"#84A1AE\" height=\"70\" opacity=\"0.2\" rx=\"15\" width=\"70\" x=\"815\" y=\"-1985\">\n<animate attributeName=\"opacity\" dur=\"15.120000000000001s\" keyTimes=\"0.0;0.0181818182;0.8909090909;0.9090909091;1.0\" repeatCount=\"indefinite\" values=\"0.2;0.2;0.2;1.0;1.0\"/>\n</rect>\n<rect fill=\"#84A1AE\" height=\"70\" opacity=\"0.2\" rx=\"15\" width=\"70\" x=\"815\" y=\"-2085\">\n<animate attributeName=\"opacity\" dur=\"15.120000000000001s\" keyTimes=\"0.0;0.0181818182;0.9090909091;0.9272727273;1.0\" repeatCount=\"indefinite\" values=\"0.2;0.2;0.2;1.0;1.0\"/>\n</rect>\n<rect fill=\"#84A1AE\" height=\"70\" opacity=\"0.2\" rx=\"15\" width=\"70\" x=\"915\" y=\"-485\">\n<animate attributeName=\"opacity\" dur=\"15.120000000000001s\" keyTimes=\"0.0;0.0181818182;0.5818181818;0.6;1.0\" repeatCount=\"indefinite\" values=\"0.2;0.2;0.2;1.0;1.0\"/>\n</rect>\n<rect fill=\"#84A1AE\" height=\"70\" opacity=\"0.2\" rx=\"15\" width=\"70\" x=\"915\" y=\"-585\">\n<animate attributeName=\"opacity\" dur=\"15.120000000000001s\" keyTimes=\"0.0;0.0181818182;0.5818181818;0.6;1.0\" repeatCount=\"indefinite\" values=\"0.2;0.2;0.2;1.0;1.0\"/>\n</rect>\n<rect fill=\"#84A1AE\" height=\"70\" opacity=\"0.2\" rx=\"15\" width=\"70\" x=\"915\" y=\"-785\">\n<animate attributeName=\"opacity\" dur=\"15.120000000000001s\" keyTimes=\"0.0;0.0181818182;0.5818181818;0.6;1.0\" repeatCount=\"indefinite\" values=\"0.2;0.2;0.2;1.0;1.0\"/>\n</rect>\n<rect fill=\"#84A1AE\" height=\"70\" opacity=\"0.2\" rx=\"15\" width=\"70\" x=\"915\" y=\"-885\">\n<animate attributeName=\"opacity\" dur=\"15.120000000000001s\" keyTimes=\"0.0;0.0181818182;0.5818181818;0.6;1.0\" repeatCount=\"indefinite\" values=\"0.2;0.2;0.2;1.0;1.0\"/>\n</rect>\n<rect fill=\"#84A1AE\" height=\"70\" opacity=\"0.2\" rx=\"15\" width=\"70\" x=\"915\" y=\"-985\">\n<animate attributeName=\"opacity\" dur=\"15.120000000000001s\" keyTimes=\"0.0;0.0181818182;0.5818181818;0.6;1.0\" repeatCount=\"indefinite\" values=\"0.2;0.2;0.2;1.0;1.0\"/>\n</rect>\n<rect fill=\"#84A1AE\" height=\"70\" opacity=\"0.2\" rx=\"15\" width=\"70\" x=\"915\" y=\"-1085\">\n<animate attributeName=\"opacity\" dur=\"15.120000000000001s\" keyTimes=\"0.0;0.0181818182;0.5818181818;0.6;1.0\" repeatCount=\"indefinite\" values=\"0.2;0.2;0.2;1.0;1.0\"/>\n</rect>\n<rect fill=\"#84A1AE\" height=\"70\" opacity=\"0.2\" rx=\"15\" width=\"70\" x=\"915\" y=\"-1185\">\n<animate attributeName=\"opacity\" dur=\"15.120000000000001s\" keyTimes=\"0.0;0.0181818182;0.5818181818;0.6;1.0\" repeatCount=\"indefinite\" values=\"0.2;0.2;0.2;1.0;1.0\"/>\n</rect>\n<rect fill=\"#84A1AE\" height=\"70\" opacity=\"0.2\" rx=\"15\" width=\"70\" x=\"915\" y=\"-1385\">\n<animate attributeName=\"opacity\" dur=\"15.120000000000001s\" keyTimes=\"0.0;0.0181818182;0.7636363636;0.7818181818;1.0\" repeatCount=\"indefinite\" values=\"0.2;0.2;0.2;1.0;1.0\"/>\n</rect>\n<rect fill=\"#84A1AE\" height=\"70\" opacity=\"0.2\" rx=\"15\" width=\"70\" x=\"915\" y=\"-1485\">\n<animate attributeName=\"opacity\" dur=\"15.120000000000001s\" keyTimes=\"0.0;0.0181818182;0.7818181818;0.8;1.0\" repeatCount=\"indefinite\" values=\"0.2;0.2;0.2;1.0;1.0\"/>\n</rect>\n<rect fill=\"#84A1AE\" height=\"70\" opacity=\"0.2\" rx=\"15\" width=\"70\" x=\"915\" y=\"-1585\">\n<animate attributeName=\"opacity\" dur=\"15.120000000000001s\" keyTimes=\"0.0;0.0181818182;0.8;0.8181818182;1.0\" repeatCount=\"indefinite\" values=\"0.2;0.2;0.2;1.0;1.0\"/>\n</rect>\n<rect fill=\"#84A1AE\" height=\"70\" opacity=\"0.2\" rx=\"15\" width=\"70\" x=\"915\" y=\"-1685\">\n<animate attributeName=\"opacity\" dur=\"15.120000000000001s\" keyTimes=\"0.0;0.0181818182;0.8363636364;0.8545454545;1.0\" repeatCount=\"indefinite\" values=\"0.2;0.2;0.2;1.0;1.0\"/>\n</rect>\n<rect fill=\"#84A1AE\" height=\"70\" opacity=\"0.2\" rx=\"15\" width=\"70\" x=\"915\" y=\"-1885\">\n<animate attributeName=\"opacity\" dur=\"15.120000000000001s\" keyTimes=\"0.0;0.0181818182;0.8727272727;0.8909090909;1.0\" repeatCount=\"indefinite\" values=\"0.2;0.2;0.2;1.0;1.0\"/>\n</rect>\n<rect fill=\"#84A1AE\" height=\"70\" opacity=\"0.2\" rx=\"15\" width=\"70\" x=\"915\" y=\"-1985\">\n<animate attributeName=\"opacity\" dur=\"15.120000000000001s\" keyTimes=\"0.0;0.0181818182;0.8909090909;0.9090909091;1.0\" repeatCount=\"indefinite\" values=\"0.2;0.2;0.2;1.0;1.0\"/>\n</rect>\n<rect fill=\"#84A1AE\" height=\"70\" opacity=\"0.2\" rx=\"15\" width=\"70\" x=\"915\" y=\"-2085\">\n<animate attributeName=\"opacity\" dur=\"15.120000000000001s\" keyTimes=\"0.0;0.0181818182;0.9090909091;0.9272727273;1.0\" repeatCount=\"indefinite\" values=\"0.2;0.2;0.2;1.0;1.0\"/>\n</rect>\n<rect fill=\"#84A1AE\" height=\"70\" opacity=\"0.2\" rx=\"15\" width=\"70\" x=\"1015\" y=\"-485\">\n<animate attributeName=\"opacity\" dur=\"15.120000000000001s\" keyTimes=\"0.0;0.0181818182;0.5636363636;0.5818181818;1.0\" repeatCount=\"indefinite\" values=\"0.2;0.2;0.2;1.0;1.0\"/>\n</rect>\n<rect fill=\"#84A1AE\" height=\"70\" opacity=\"0.2\" rx=\"15\" width=\"70\" x=\"1015\" y=\"-885\">\n<animate attributeName=\"opacity\" dur=\"15.120000000000001s\" keyTimes=\"0.0;0.0181818182;0.5636363636;0.5818181818;1.0\" repeatCount=\"indefinite\" values=\"0.2;0.2;0.2;1.0;1.0\"/>\n</rect>\n<rect fill=\"#84A1AE\" height=\"70\" opacity=\"0.2\" rx=\"15\" width=\"70\" x=\"1015\" y=\"-1885\">\n<animate attributeName=\"opacity\" dur=\"15.120000000000001s\" keyTimes=\"0.0;0.0181818182;0.8727272727;0.8909090909;1.0\" repeatCount=\"indefinite\" values=\"0.2;0.2;0.2;1.0;1.0\"/>\n</rect>\n<rect fill=\"#84A1AE\" height=\"70\" opacity=\"0.2\" rx=\"15\" width=\"70\" x=\"1015\" y=\"-2085\">\n<animate attributeName=\"opacity\" dur=\"15.120000000000001s\" keyTimes=\"0.0;0.0181818182;0.9090909091;0.9272727273;1.0\" repeatCount=\"indefinite\" values=\"0.2;0.2;0.2;1.0;1.0\"/>\n</rect>\n<rect fill=\"#84A1AE\" height=\"70\" opacity=\"0.2\" rx=\"15\" width=\"70\" x=\"1115\" y=\"-485\">\n<animate attributeName=\"opacity\" dur=\"15.120000000000001s\" keyTimes=\"0.0;0.0181818182;0.5454545455;0.5636363636;1.0\" repeatCount=\"indefinite\" values=\"0.2;0.2;0.2;1.0;1.0\"/>\n</rect>\n<rect fill=\"#84A1AE\" height=\"70\" opacity=\"0.2\" rx=\"15\" width=\"70\" x=\"1115\" y=\"-885\">\n<animate attributeName=\"opacity\" dur=\"15.120000000000001s\" keyTimes=\"0.0;0.0181818182;0.5454545455;0.5636363636;1.0\" repeatCount=\"indefinite\" values=\"0.2;0.2;0.2;1.0;1.0\"/>\n</rect>\n<rect fill=\"#84A1AE\" height=\"70\" opacity=\"0.2\" rx=\"15\" width=\"70\" x=\"1115\" y=\"-1885\">\n<animate attributeName=\"opacity\" dur=\"15.120000000000001s\" keyTimes=\"0.0;0.0181818182;0.8727272727;0.8909090909;1.0\" repeatCount=\"indefinite\" values=\"0.2;0.2;0.2;1.0;1.0\"/>\n</rect>\n<rect fill=\"#84A1AE\" height=\"70\" opacity=\"0.2\" rx=\"15\" width=\"70\" x=\"1115\" y=\"-2085\">\n<animate attributeName=\"opacity\" dur=\"15.120000000000001s\" keyTimes=\"0.0;0.0181818182;0.9090909091;0.9272727273;1.0\" repeatCount=\"indefinite\" values=\"0.2;0.2;0.2;1.0;1.0\"/>\n</rect>\n<rect fill=\"#84A1AE\" height=\"70\" opacity=\"0.2\" rx=\"15\" width=\"70\" x=\"1215\" y=\"-485\">\n<animate attributeName=\"opacity\" dur=\"15.120000000000001s\" keyTimes=\"0.0;0.0181818182;0.5090909091;0.5272727273;1.0\" repeatCount=\"indefinite\" values=\"0.2;0.2;0.2;1.0;1.0\"/>\n</rect>\n<rect fill=\"#84A1AE\" height=\"70\" opacity=\"0.2\" rx=\"15\" width=\"70\" x=\"1215\" y=\"-885\">\n<animate attributeName=\"opacity\" dur=\"15.120000000000001s\" keyTimes=\"0.0;0.0181818182;0.5090909091;0.5272727273;1.0\" repeatCount=\"indefinite\" values=\"0.2;0.2;0.2;1.0;1.0\"/>\n</rect>\n<rect fill=\"#84A1AE\" height=\"70\" opacity=\"0.2\" rx=\"15\" width=\"70\" x=\"1215\" y=\"-1085\">\n<animate attributeName=\"opacity\" dur=\"15.120000000000001s\" keyTimes=\"0.0;0.0181818182;0.5090909091;0.5272727273;1.0\" repeatCount=\"indefinite\" values=\"0.2;0.2;0.2;1.0;1.0\"/>\n</rect>\n<rect fill=\"#84A1AE\" height=\"70\" opacity=\"0.2\" rx=\"15\" width=\"70\" x=\"1215\" y=\"-1185\">\n<animate attributeName=\"opacity\" dur=\"15.120000000000001s\" keyTimes=\"0.0;0.0181818182;0.5090909091;0.5272727273;1.0\" repeatCount=\"indefinite\" values=\"0.2;0.2;0.2;1.0;1.0\"/>\n</rect>\n<rect fill=\"#84A1AE\" height=\"70\" opacity=\"0.2\" rx=\"15\" width=\"70\" x=\"1215\" y=\"-1285\">\n<animate attributeName=\"opacity\" dur=\"15.120000000000001s\" keyTimes=\"0.0;0.0181818182;0.5272727273;0.5454545455;1.0\" repeatCount=\"indefinite\" values=\"0.2;0.2;0.2;1.0;1.0\"/>\n</rect>\n<rect fill=\"#84A1AE\" height=\"70\" opacity=\"0.2\" rx=\"15\" width=\"70\" x=\"1215\" y=\"-1385\">\n<animate attributeName=\"opacity\" dur=\"15.120000000000001s\" keyTimes=\"0.0;0.0181818182;0.7636363636;0.7818181818;1.0\" repeatCount=\"indefinite\" values=\"0.2;0.2;0.2;1.0;1.0\"/>\n</rect>\n<rect fill=\"#84A1AE\" height=\"70\" opacity=\"0.2\" rx=\"15\" width=\"70\" x=\"1215\" y=\"-1485\">\n<animate attributeName=\"opacity\" dur=\"15.120000000000001s\" keyTimes=\"0.0;0.0181818182;0.7818181818;0.8;1.0\" repeatCount=\"indefinite\" values=\"0.2;0.2;0.2;1.0;1.0\"/>\n</rect>\n<rect fill=\"#84A1AE\" height=\"70\" opacity=\"0.2\" rx=\"15\" width=\"70\" x=\"1215\" y=\"-1585\">\n<animate attributeName=\"opacity\" dur=\"15.120000000000001s\" keyTimes=\"0.0;0.0181818182;0.8;0.8181818182;1.0\" repeatCount=\"indefinite\" values=\"0.2;0.2;0.2;1.0;1.0\"/>\n</rect>\n<rect fill=\"#84A1AE\" height=\"70\" opacity=\"0.2\" rx=\"15\" width=\"70\" x=\"1215\" y=\"-1685\">\n<animate attributeName=\"opacity\" dur=\"15.120000000000001s\" keyTimes=\"0.0;0.0181818182;1.0\" repeatCount=\"indefinite\" values=\"0.2;0.2;0.2\"/>\n</rect>\n<rect fill=\"#84A1AE\" height=\"70\" opacity=\"0.2\" rx=\"15\" width=\"70\" x=\"1215\" y=\"-1785\">\n<animate attributeName=\"opacity\" dur=\"15.120000000000001s\" keyTimes=\"0.0;0.0181818182;1.0\" repeatCount=\"indefinite\" values=\"0.2;0.2;0.2\"/>\n</rect>\n<rect fill=\"#84A1AE\" height=\"70\" opacity=\"0.2\" rx=\"15\" width=\"70\" x=\"1215\" y=\"-1885\">\n<animate attributeName=\"opacity\" dur=\"15.120000000000001s\" keyTimes=\"0.0;0.0181818182;1.0\" repeatCount=\"indefinite\" values=\"0.2;0.2;0.2\"/>\n</rect>\n<rect fill=\"#84A1AE\" height=\"70\" opacity=\"0.2\" rx=\"15\" width=\"70\" x=\"1215\" y=\"-2085\">\n<animate attributeName=\"opacity\" dur=\"15.120000000000001s\" keyTimes=\"0.0;0.0181818182;1.0\" repeatCount=\"indefinite\" values=\"0.2;0.2;0.2\"/>\n</rect>\n<rect fill=\"#84A1AE\" height=\"70\" opacity=\"0.2\" rx=\"15\" width=\"70\" x=\"1315\" y=\"-485\">\n<animate attributeName=\"opacity\" dur=\"15.120000000000001s\" keyTimes=\"0.0;0.0181818182;0.4909090909;0.5090909091;1.0\" repeatCount=\"indefinite\" values=\"0.2;0.2;0.2;1.0;1.0\"/>\n</rect>\n<rect fill=\"#84A1AE\" height=\"70\" opacity=\"0.2\" rx=\"15\" width=\"70\" x=\"1315\" y=\"-885\">\n<animate attributeName=\"opacity\" dur=\"15.120000000000001s\" keyTimes=\"0.0;0.0181818182;0.4909090909;0.5090909091;1.0\" repeatCount=\"indefinite\" values=\"0.2;0.2;0.2;1.0;1.0\"/>\n</rect>\n<rect fill=\"#84A1AE\" height=\"70\" opacity=\"0.2\" rx=\"15\" width=\"70\" x=\"1315\" y=\"-2085\">\n<animate attributeName=\"opacity\" dur=\"15.120000000000001s\" keyTimes=\"0.0;0.0181818182;1.0\" repeatCount=\"indefinite\" values=\"0.2;0.2;0.2\"/>\n</rect>\n<rect fill=\"#84A1AE\" height=\"70\" opacity=\"0.2\" rx=\"15\" width=\"70\" x=\"1415\" y=\"-485\">\n<animate attributeName=\"opacity\" dur=\"15.120000000000001s\" keyTimes=\"0.0;0.0181818182;0.4727272727;0.4909090909;1.0\" repeatCount=\"indefinite\" values=\"0.2;0.2;0.2;1.0;1.0\"/>\n</rect>\n<rect fill=\"#84A1AE\" height=\"70\" opacity=\"0.2\" rx=\"15\" width=\"70\" x=\"1415\" y=\"-885\">\n<animate attributeName=\"opacity\" dur=\"15.120000000000001s\" keyTimes=\"0.0;0.0181818182;0.4727272727;0.4909090909;1.0\" repeatCount=\"indefinite\" values=\"0.2;0.2;0.2;1.0;1.0\"/>\n</rect>\n<rect fill=\"#84A1AE\" height=\"70\" opacity=\"0.2\" rx=\"15\" width=\"70\" x=\"1415\" y=\"-2085\">\n<animate attributeName=\"opacity\" dur=\"15.120000000000001s\" keyTimes=\"0.0;0.0181818182;1.0\" repeatCount=\"indefinite\" values=\"0.2;0.2;0.2\"/>\n</rect>\n<rect fill=\"#84A1AE\" height=\"70\" opacity=\"0.2\" rx=\"15\" width=\"70\" x=\"1515\" y=\"-485\">\n<animate attributeName=\"opacity\" dur=\"15.120000000000001s\" keyTimes=\"0.0;0.0181818182;0.4545454545;0.4727272727;1.0\" repeatCount=\"indefinite\" values=\"0.2;0.2;0.2;1.0;1.0\"/>\n</rect>\n<rect fill=\"#84A1AE\" height=\"70\" opacity=\"0.2\" rx=\"15\" width=\"70\" x=\"1515\" y=\"-885\">\n<animate attributeName=\"opacity\" dur=\"15.120000000000001s\" keyTimes=\"0.0;0.0181818182;0.4545454545;0.4727272727;1.0\" repeatCount=\"indefinite\" values=\"0.2;0.2;0.2;1.0;1.0\"/>\n</rect>\n<rect fill=\"#84A1AE\" height=\"70\" opacity=\"0.2\" rx=\"15\" width=\"70\" x=\"1515\" y=\"-985\">\n<animate attributeName=\"opacity\" dur=\"15.120000000000001s\" keyTimes=\"0.0;0.0181818182;0.4545454545;0.4727272727;1.0\" repeatCount=\"indefinite\" values=\"0.2;0.2;0.2;1.0;1.0\"/>\n</rect>\n<rect fill=\"#84A1AE\" height=\"70\" opacity=\"0.2\" rx=\"15\" width=\"70\" x=\"1515\" y=\"-1085\">\n<animate attributeName=\"opacity\" dur=\"15.120000000000001s\" keyTimes=\"0.0;0.0181818182;0.4545454545;0.4727272727;1.0\" repeatCount=\"indefinite\" values=\"0.2;0.2;0.2;1.0;1.0\"/>\n</rect>\n<rect fill=\"#84A1AE\" height=\"70\" opacity=\"0.2\" rx=\"15\" width=\"70\" x=\"1515\" y=\"-1185\">\n<animate attributeName=\"opacity\" dur=\"15.120000000000001s\" keyTimes=\"0.0;0.0181818182;0.4545454545;0.4727272727;1.0\" repeatCount=\"indefinite\" values=\"0.2;0.2;0.2;1.0;1.0\"/>\n</rect>\n<rect fill=\"#84A1AE\" height=\"70\" opacity=\"0.2\" rx=\"15\" width=\"70\" x=\"1515\" y=\"-1285\">\n<animate attributeName=\"opacity\" dur=\"15.120000000000001s\" keyTimes=\"0.0;0.0181818182;0.5272727273;0.5454545455;1.0\" repeatCount=\"indefinite\" values=\"0.2;0.2;0.2;1.0;1.0\"/>\n</rect>\n<rect fill=\"#84A1AE\" height=\"70\" opacity=\"0.2\" rx=\"15\" width=\"70\" x=\"1515\" y=\"-1385\">\n<animate attributeName=\"opacity\" dur=\"15.120000000000001s\" keyTimes=\"0.0;0.0181818182;1.0\" repeatCount=\"indefinite\" values=\"0.2;0.2;0.2\"/>\n</rect>\n<rect fill=\"#84A1AE\" height=\"70\" opacity=\"0.2\" rx=\"15\" width=\"70\" x=\"1515\" y=\"-1485\">\n<animate attributeName=\"opacity\" dur=\"15.120000000000001s\" keyTimes=\"0.0;0.0181818182;1.0\" repeatCount=\"indefinite\" values=\"0.2;0.2;0.2\"/>\n</rect>\n<rect fill=\"#84A1AE\" height=\"70\" opacity=\"0.2\" rx=\"15\" width=\"70\" x=\"1515\" y=\"-1585\">\n<animate attributeName=\"opacity\" dur=\"15.120000000000001s\" keyTimes=\"0.0;0.0181818182;1.0\" repeatCount=\"indefinite\" values=\"0.2;0.2;0.2\"/>\n</rect>\n<rect fill=\"#84A1AE\" height=\"70\" opacity=\"0.2\" rx=\"15\" width=\"70\" x=\"1515\" y=\"-1685\">\n<animate attributeName=\"opacity\" dur=\"15.120000000000001s\" keyTimes=\"0.0;0.0181818182;1.0\" repeatCount=\"indefinite\" values=\"0.2;0.2;0.2\"/>\n</rect>\n<rect fill=\"#84A1AE\" height=\"70\" opacity=\"0.2\" rx=\"15\" width=\"70\" x=\"1515\" y=\"-1785\">\n<animate attributeName=\"opacity\" dur=\"15.120000000000001s\" keyTimes=\"0.0;0.0181818182;1.0\" repeatCount=\"indefinite\" values=\"0.2;0.2;0.2\"/>\n</rect>\n<rect fill=\"#84A1AE\" height=\"70\" opacity=\"0.2\" rx=\"15\" width=\"70\" x=\"1515\" y=\"-1885\">\n<animate attributeName=\"opacity\" dur=\"15.120000000000001s\" keyTimes=\"0.0;0.0181818182;1.0\" repeatCount=\"indefinite\" values=\"0.2;0.2;0.2\"/>\n</rect>\n<rect fill=\"#84A1AE\" height=\"70\" opacity=\"0.2\" rx=\"15\" width=\"70\" x=\"1515\" y=\"-2085\">\n<animate attributeName=\"opacity\" dur=\"15.120000000000001s\" keyTimes=\"0.0;0.0181818182;1.0\" repeatCount=\"indefinite\" values=\"0.2;0.2;0.2\"/>\n</rect>\n<rect fill=\"#84A1AE\" height=\"70\" opacity=\"0.2\" rx=\"15\" width=\"70\" x=\"1615\" y=\"-485\">\n<animate attributeName=\"opacity\" dur=\"15.120000000000001s\" keyTimes=\"0.0;0.0181818182;0.4363636364;0.4545454545;1.0\" repeatCount=\"indefinite\" values=\"0.2;0.2;0.2;1.0;1.0\"/>\n</rect>\n<rect fill=\"#84A1AE\" height=\"70\" opacity=\"0.2\" rx=\"15\" width=\"70\" x=\"1615\" y=\"-885\">\n<animate attributeName=\"opacity\" dur=\"15.120000000000001s\" keyTimes=\"0.0;0.0181818182;0.4363636364;0.4545454545;1.0\" repeatCount=\"indefinite\" values=\"0.2;0.2;0.2;1.0;1.0\"/>\n</rect>\n<rect fill=\"#84A1AE\" height=\"70\" opacity=\"0.2\" rx=\"15\" width=\"70\" x=\"1615\" y=\"-2085\">\n<animate attributeName=\"opacity\" dur=\"15.120000000000001s\" keyTimes=\"0.0;0.0181818182;1.0\" repeatCount=\"indefinite\" values=\"0.2;0.2;0.2\"/>\n</rect>\n<rect fill=\"#84A1AE\" height=\"70\" opacity=\"0.2\" rx=\"15\" width=\"70\" x=\"1715\" y=\"-485\">\n<animate attributeName=\"opacity\" dur=\"15.120000000000001s\" keyTimes=\"0.0;0.0181818182;0.4181818182;0.4363636364;1.0\" repeatCount=\"indefinite\" values=\"0.2;0.2;0.2;1.0;1.0\"/>\n</rect>\n<rect fill=\"#84A1AE\" height=\"70\" opacity=\"0.2\" rx=\"15\" width=\"70\" x=\"1715\" y=\"-885\">\n<animate attributeName=\"opacity\" dur=\"15.120000000000001s\" keyTimes=\"0.0;0.0181818182;0.4181818182;0.4363636364;1.0\" repeatCount=\"indefinite\" values=\"0.2;0.2;0.2;1.0;1.0\"/>\n</rect>\n<rect fill=\"#84A1AE\" height=\"70\" opacity=\"0.2\" rx=\"15\" width=\"70\" x=\"1715\" y=\"-2085\">\n<animate attributeName=\"opacity\" dur=\"15.120000000000001s\" keyTimes=\"0.0;0.0181818182;1.0\" repeatCount=\"indefinite\" values=\"0.2;0.2;0.2\"/>\n</rect>\n<rect fill=\"#84A1AE\" height=\"70\" opacity=\"0.2\" rx=\"15\" width=\"70\" x=\"1815\" y=\"-485\">\n<animate attributeName=\"opacity\" dur=\"15.120000000000001s\" keyTimes=\"0.0;0.0181818182;0.4;0.4181818182;1.0\" repeatCount=\"indefinite\" values=\"0.2;0.2;0.2;1.0;1.0\"/>\n</rect>\n<rect fill=\"#84A1AE\" height=\"70\" opacity=\"0.2\" rx=\"15\" width=\"70\" x=\"1815\" y=\"-585\">\n<animate attributeName=\"opacity\" dur=\"15.120000000000001s\" keyTimes=\"0.0;0.0181818182;0.4;0.4181818182;1.0\" repeatCount=\"indefinite\" values=\"0.2;0.2;0.2;1.0;1.0\"/>\n</rect>\n<rect fill=\"#84A1AE\" height=\"70\" opacity=\"0.2\" rx=\"15\" width=\"70\" x=\"1815\" y=\"-785\">\n<animate attributeName=\"opacity\" dur=\"15.120000000000001s\" keyTimes=\"0.0;0.0181818182;0.4;0.4181818182;1.0\" repeatCount=\"indefinite\" values=\"0.2;0.2;0.2;1.0;1.0\"/>\n</rect>\n<rect fill=\"#84A1AE\" height=\"70\" opacity=\"0.2\" rx=\"15\" width=\"70\" x=\"1815\" y=\"-885\">\n<animate attributeName=\"opacity\" dur=\"15.120000000000001s\" keyTimes=\"0.0;0.0181818182;0.4;0.4181818182;1.0\" repeatCount=\"indefinite\" values=\"0.2;0.2;0.2;1.0;1.0\"/>\n</rect>\n<rect fill=\"#84A1AE\" height=\"70\" opacity=\"0.2\" rx=\"15\" width=\"70\" x=\"1815\" y=\"-1085\">\n<animate attributeName=\"opacity\" dur=\"15.120000000000001s\" keyTimes=\"0.0;0.0181818182;0.4;0.4181818182;1.0\" repeatCount=\"indefinite\" values=\"0.2;0.2;0.2;1.0;1.0\"/>\n</rect>\n<rect fill=\"#84A1AE\" height=\"70\" opacity=\"0.2\" rx=\"15\" width=\"70\" x=\"1815\" y=\"-1185\">\n<animate attributeName=\"opacity\" dur=\"15.120000000000001s\" keyTimes=\"0.0;0.0181818182;0.4;0.4181818182;1.0\" repeatCount=\"indefinite\" values=\"0.2;0.2;0.2;1.0;1.0\"/>\n</rect>\n<rect fill=\"#84A1AE\" height=\"70\" opacity=\"0.2\" rx=\"15\" width=\"70\" x=\"1815\" y=\"-1285\">\n<animate attributeName=\"opacity\" dur=\"15.120000000000001s\" keyTimes=\"0.0;0.0181818182;0.5272727273;0.5454545455;1.0\" repeatCount=\"indefinite\" values=\"0.2;0.2;0.2;1.0;1.0\"/>\n</rect>\n<rect fill=\"#84A1AE\" height=\"70\" opacity=\"0.2\" rx=\"15\" width=\"70\" x=\"1815\" y=\"-1385\">\n<animate attributeName=\"opacity\" dur=\"15.120000000000001s\" keyTimes=\"0.0;0.0181818182;1.0\" repeatCount=\"indefinite\" values=\"0.2;0.2;0.2\"/>\n</rect>\n<rect fill=\"#84A1AE\" height=\"70\" opacity=\"0.2\" rx=\"15\" width=\"70\" x=\"1815\" y=\"-1485\">\n<animate attributeName=\"opacity\" dur=\"15.120000000000001s\" keyTimes=\"0.0;0.0181818182;1.0\" repeatCount=\"indefinite\" values=\"0.2;0.2;0.2\"/>\n</rect>\n<rect fill=\"#84A1AE\" height=\"70\" opacity=\"0.2\" rx=\"15\" width=\"70\" x=\"1815\" y=\"-1585\">\n<animate attributeName=\"opacity\" dur=\"15.120000000000001s\" keyTimes=\"0.0;0.0181818182;1.0\" repeatCount=\"indefinite\" values=\"0.2;0.2;0.2\"/>\n</rect>\n<rect fill=\"#84A1AE\" height=\"70\" opacity=\"0.2\" rx=\"15\" width=\"70\" x=\"1815\" y=\"-1685\">\n<animate attributeName=\"opacity\" dur=\"15.120000000000001s\" keyTimes=\"0.0;0.0181818182;1.0\" repeatCount=\"indefinite\" values=\"0.2;0.2;0.2\"/>\n</rect>\n<rect fill=\"#84A1AE\" height=\"70\" opacity=\"0.2\" rx=\"15\" width=\"70\" x=\"1815\" y=\"-1785\">\n<animate attributeName=\"opacity\" dur=\"15.120000000000001s\" keyTimes=\"0.0;0.0181818182;1.0\" repeatCount=\"indefinite\" values=\"0.2;0.2;0.2\"/>\n</rect>\n<rect fill=\"#84A1AE\" height=\"70\" opacity=\"0.2\" rx=\"15\" width=\"70\" x=\"1815\" y=\"-1885\">\n<animate attributeName=\"opacity\" dur=\"15.120000000000001s\" keyTimes=\"0.0;0.0181818182;1.0\" repeatCount=\"indefinite\" values=\"0.2;0.2;0.2\"/>\n</rect>\n<rect fill=\"#84A1AE\" height=\"70\" opacity=\"0.2\" rx=\"15\" width=\"70\" x=\"1815\" y=\"-1985\">\n<animate attributeName=\"opacity\" dur=\"15.120000000000001s\" keyTimes=\"0.0;0.0181818182;1.0\" repeatCount=\"indefinite\" values=\"0.2;0.2;0.2\"/>\n</rect>\n<rect fill=\"#84A1AE\" height=\"70\" opacity=\"0.2\" rx=\"15\" width=\"70\" x=\"1815\" y=\"-2085\">\n<animate attributeName=\"opacity\" dur=\"15.120000000000001s\" keyTimes=\"0.0;0.0181818182;1.0\" repeatCount=\"indefinite\" values=\"0.2;0.2;0.2\"/>\n</rect>\n<rect fill=\"#84A1AE\" height=\"70\" opacity=\"0.2\" rx=\"15\" width=\"70\" x=\"1915\" y=\"-485\">\n<animate attributeName=\"opacity\" dur=\"15.120000000000001s\" keyTimes=\"0.0;0.0181818182;0.3818181818;0.4;1.0\" repeatCount=\"indefinite\" values=\"0.2;0.2;0.2;1.0;1.0\"/>\n</rect>\n<rect fill=\"#84A1AE\" height=\"70\" opacity=\"0.2\" rx=\"15\" width=\"70\" x=\"1915\" y=\"-585\">\n<animate attributeName=\"opacity\" dur=\"15.120000000000001s\" keyTimes=\"0.0;0.0181818182;0.3818181818;0.4;1.0\" repeatCount=\"indefinite\" values=\"0.2;0.2;0.2;1.0;1.0\"/>\n</rect>\n<rect fill=\"#84A1AE\" height=\"70\" opacity=\"0.2\" rx=\"15\" width=\"70\" x=\"1915\" y=\"-785\">\n<animate attributeName=\"opacity\" dur=\"15.120000000000001s\" keyTimes=\"0.0;0.0181818182;0.3818181818;0.4;1.0\" repeatCount=\"indefinite\" values=\"0.2;0.2;0.2;1.0;1.0\"/>\n</rect>\n<rect fill=\"#84A1AE\" height=\"70\" opacity=\"0.2\" rx=\"15\" width=\"70\" x=\"1915\" y=\"-885\">\n<animate attributeName=\"opacity\" dur=\"15.120000000000001s\" keyTimes=\"0.0;0.0181818182;0.3818181818;0.4;1.0\" repeatCount=\"indefinite\" values=\"0.2;0.2;0.2;1.0;1.0\"/>\n</rect>\n<rect fill=\"#84A1AE\" height=\"70\" opacity=\"0.2\" rx=\"15\" width=\"70\" x=\"1915\" y=\"-1085\">\n<animate attributeName=\"opacity\" dur=\"15.120000000000001s\" keyTimes=\"0.0;0.0181818182;0.3818181818;0.4;1.0\" repeatCount=\"indefinite\" values=\"0.2;0.2;0.2;1.0;1.0\"/>\n</rect>\n<rect fill=\"#84A1AE\" height=\"70\" opacity=\"0.2\" rx=\"15\" width=\"70\" x=\"1915\" y=\"-1185\">\n<animate attributeName=\"opacity\" dur=\"15.120000000000001s\" keyTimes=\"0.0;0.0181818182;0.3818181818;0.4;1.0\" repeatCount=\"indefinite\" values=\"0.2;0.2;0.2;1.0;1.0\"/>\n</rect>\n<rect fill=\"#84A1AE\" height=\"70\" opacity=\"0.2\" rx=\"15\" width=\"70\" x=\"1915\" y=\"-1285\">\n<animate attributeName=\"opacity\" dur=\"15.120000000000001s\" keyTimes=\"0.0;0.0181818182;0.5272727273;0.5454545455;1.0\" repeatCount=\"indefinite\" values=\"0.2;0.2;0.2;1.0;1.0\"/>\n</rect>\n<rect fill=\"#84A1AE\" height=\"70\" opacity=\"0.2\" rx=\"15\" width=\"70\" x=\"1915\" y=\"-1385\">\n<animate attributeName=\"opacity\" dur=\"15.120000000000001s\" keyTimes=\"0.0;0.0181818182;1.0\" repeatCount=\"indefinite\" values=\"0.2;0.2;0.2\"/>\n</rect>\n<rect fill=\"#84A1AE\" height=\"70\" opacity=\"0.2\" rx=\"15\" width=\"70\" x=\"1915\" y=\"-1485\">\n<animate attributeName=\"opacity\" dur=\"15.120000000000001s\" keyTimes=\"0.0;0.0181818182;1.0\" repeatCount=\"indefinite\" values=\"0.2;0.2;0.2\"/>\n</rect>\n<rect fill=\"#84A1AE\" height=\"70\" opacity=\"0.2\" rx=\"15\" width=\"70\" x=\"1915\" y=\"-1585\">\n<animate attributeName=\"opacity\" dur=\"15.120000000000001s\" keyTimes=\"0.0;0.0181818182;1.0\" repeatCount=\"indefinite\" values=\"0.2;0.2;0.2\"/>\n</rect>\n<rect fill=\"#84A1AE\" height=\"70\" opacity=\"0.2\" rx=\"15\" width=\"70\" x=\"1915\" y=\"-1685\">\n<animate attributeName=\"opacity\" dur=\"15.120000000000001s\" keyTimes=\"0.0;0.0181818182;1.0\" repeatCount=\"indefinite\" values=\"0.2;0.2;0.2\"/>\n</rect>\n<rect fill=\"#84A1AE\" height=\"70\" opacity=\"0.2\" rx=\"15\" width=\"70\" x=\"1915\" y=\"-1785\">\n<animate attributeName=\"opacity\" dur=\"15.120000000000001s\" keyTimes=\"0.0;0.0181818182;1.0\" repeatCount=\"indefinite\" values=\"0.2;0.2;0.2\"/>\n</rect>\n<rect fill=\"#84A1AE\" height=\"70\" opacity=\"0.2\" rx=\"15\" width=\"70\" x=\"1915\" y=\"-1885\">\n<animate attributeName=\"opacity\" dur=\"15.120000000000001s\" keyTimes=\"0.0;0.0181818182;1.0\" repeatCount=\"indefinite\" values=\"0.2;0.2;0.2\"/>\n</rect>\n<rect fill=\"#84A1AE\" height=\"70\" opacity=\"0.2\" rx=\"15\" width=\"70\" x=\"1915\" y=\"-1985\">\n<animate attributeName=\"opacity\" dur=\"15.120000000000001s\" keyTimes=\"0.0;0.0181818182;1.0\" repeatCount=\"indefinite\" values=\"0.2;0.2;0.2\"/>\n</rect>\n<rect fill=\"#84A1AE\" height=\"70\" opacity=\"0.2\" rx=\"15\" width=\"70\" x=\"1915\" y=\"-2085\">\n<animate attributeName=\"opacity\" dur=\"15.120000000000001s\" keyTimes=\"0.0;0.0181818182;1.0\" repeatCount=\"indefinite\" values=\"0.2;0.2;0.2\"/>\n</rect>\n<rect fill=\"#84A1AE\" height=\"70\" opacity=\"0.2\" rx=\"15\" width=\"70\" x=\"2015\" y=\"-485\">\n<animate attributeName=\"opacity\" dur=\"15.120000000000001s\" keyTimes=\"0.0;0.0181818182;0.3636363636;0.3818181818;1.0\" repeatCount=\"indefinite\" values=\"0.2;0.2;0.2;1.0;1.0\"/>\n</rect>\n<rect fill=\"#84A1AE\" height=\"70\" opacity=\"0.2\" rx=\"15\" width=\"70\" x=\"2015\" y=\"-885\">\n<animate attributeName=\"opacity\" dur=\"15.120000000000001s\" keyTimes=\"0.0;0.0181818182;0.3636363636;0.3818181818;1.0\" repeatCount=\"indefinite\" values=\"0.2;0.2;0.2;1.0;1.0\"/>\n</rect>\n<rect fill=\"#84A1AE\" height=\"70\" opacity=\"0.2\" rx=\"15\" width=\"70\" x=\"2015\" y=\"-2085\">\n<animate attributeName=\"opacity\" dur=\"15.120000000000001s\" keyTimes=\"0.0;0.0181818182;1.0\" repeatCount=\"indefinite\" values=\"0.2;0.2;0.2\"/>\n</rect>\n<rect fill=\"#84A1AE\" height=\"70\" opacity=\"0.2\" rx=\"15\" width=\"70\" x=\"2115\" y=\"-485\">\n<animate attributeName=\"opacity\" dur=\"15.120000000000001s\" keyTimes=\"0.0;0.0181818182;0.3454545455;0.3636363636;1.0\" repeatCount=\"indefinite\" values=\"0.2;0.2;0.2;1.0;1.0\"/>\n</rect>\n<rect fill=\"#84A1AE\" height=\"70\" opacity=\"0.2\" rx=\"15\" width=\"70\" x=\"2115\" y=\"-2085\">\n<animate attributeName=\"opacity\" dur=\"15.120000000000001s\" keyTimes=\"0.0;0.0181818182;1.0\" repeatCount=\"indefinite\" values=\"0.2;0.2;0.2\"/>\n</rect>\n<rect fill=\"#84A1AE\" height=\"70\" opacity=\"0.2\" rx=\"15\" width=\"70\" x=\"2215\" y=\"-485\">\n<animate attributeName=\"opacity\" dur=\"15.120000000000001s\" keyTimes=\"0.0;0.0181818182;0.3272727273;0.3454545455;1.0\" repeatCount=\"indefinite\" values=\"0.2;0.2;0.2;1.0;1.0\"/>\n</rect>\n<rect fill=\"#84A1AE\" height=\"70\" opacity=\"0.2\" rx=\"15\" width=\"70\" x=\"2215\" y=\"-885\">\n<animate attributeName=\"opacity\" dur=\"15.120000000000001s\" keyTimes=\"0.0;0.0181818182;0.3272727273;0.3454545455;1.0\" repeatCount=\"indefinite\" values=\"0.2;0.2;0.2;1.0;1.0\"/>\n</rect>\n<rect fill=\"#84A1AE\" height=\"70\" opacity=\"0.2\" rx=\"15\" width=\"70\" x=\"2215\" y=\"-2085\">\n<animate attributeName=\"opacity\" dur=\"15.120000000000001s\" keyTimes=\"0.0;0.0181818182;1.0\" repeatCount=\"indefinite\" values=\"0.2;0.2;0.2\"/>\n</rect>\n<rect fill=\"#84A1AE\" height=\"70\" opacity=\"0.2\" rx=\"15\" width=\"70\" x=\"2315\" y=\"-485\">\n<animate attributeName=\"opacity\" dur=\"15.120000000000001s\" keyTimes=\"0.0;0.0181818182;0.3090909091;0.3272727273;1.0\" repeatCount=\"indefinite\" values=\"0.2;0.2;0.2;1.0;1.0\"/>\n</rect>\n<rect fill=\"#84A1AE\" height=\"70\" opacity=\"0.2\" rx=\"15\" width=\"70\" x=\"2315\" y=\"-885\">\n<animate attributeName=\"opacity\" dur=\"15.120000000000001s\" keyTimes=\"0.0;0.0181818182;0.3090909091;0.3272727273;1.0\" repeatCount=\"indefinite\" values=\"0.2;0.2;0.2;1.0;1.0\"/>\n</rect>\n<rect fill=\"#84A1AE\" height=\"70\" opacity=\"0.2\" rx=\"15\" width=\"70\" x=\"2315\" y=\"-985\">\n<animate attributeName=\"opacity\" dur=\"15.120000000000001s\" keyTimes=\"0.0;0.0181818182;0.3090909091;0.3272727273;1.0\" repeatCount=\"indefinite\" values=\"0.2;0.2;0.2;1.0;1.0\"/>\n</rect>\n<rect fill=\"#84A1AE\" height=\"70\" opacity=\"0.2\" rx=\"15\" width=\"70\" x=\"2315\" y=\"-1085\">\n<animate attributeName=\"opacity\" dur=\"15.120000000000001s\" keyTimes=\"0.0;0.0181818182;0.3090909091;0.3272727273;1.0\" repeatCount=\"indefinite\" values=\"0.2;0.2;0.2;1.0;1.0\"/>\n</rect>\n<rect fill=\"#84A1AE\" height=\"70\" opacity=\"0.2\" rx=\"15\" width=\"70\" x=\"2315\" y=\"-1185\">\n<animate attributeName=\"opacity\" dur=\"15.120000000000001s\" keyTimes=\"0.0;0.0181818182;0.3090909091;0.3272727273;1.0\" repeatCount=\"indefinite\" values=\"0.2;0.2;0.2;1.0;1.0\"/>\n</rect>\n<rect fill=\"#84A1AE\" height=\"70\" opacity=\"0.2\" rx=\"15\" width=\"70\" x=\"2315\" y=\"-1285\">\n<animate attributeName=\"opacity\" dur=\"15.120000000000001s\" keyTimes=\"0.0;0.0181818182;1.0\" repeatCount=\"indefinite\" values=\"0.2;0.2;0.2\"/>\n</rect>\n<rect fill=\"#84A1AE\" height=\"70\" opacity=\"0.2\" rx=\"15\" width=\"70\" x=\"2315\" y=\"-1385\">\n<animate attributeName=\"opacity\" dur=\"15.120000000000001s\" keyTimes=\"0.0;0.0181818182;1.0\" repeatCount=\"indefinite\" values=\"0.2;0.2;0.2\"/>\n</rect>\n<rect fill=\"#84A1AE\" height=\"70\" opacity=\"0.2\" rx=\"15\" width=\"70\" x=\"2315\" y=\"-1485\">\n<animate attributeName=\"opacity\" dur=\"15.120000000000001s\" keyTimes=\"0.0;0.0181818182;1.0\" repeatCount=\"indefinite\" values=\"0.2;0.2;0.2\"/>\n</rect>\n<rect fill=\"#84A1AE\" height=\"70\" opacity=\"0.2\" rx=\"15\" width=\"70\" x=\"2315\" y=\"-1585\">\n<animate attributeName=\"opacity\" dur=\"15.120000000000001s\" keyTimes=\"0.0;0.0181818182;1.0\" repeatCount=\"indefinite\" values=\"0.2;0.2;0.2\"/>\n</rect>\n<rect fill=\"#84A1AE\" height=\"70\" opacity=\"0.2\" rx=\"15\" width=\"70\" x=\"2315\" y=\"-1685\">\n<animate attributeName=\"opacity\" dur=\"15.120000000000001s\" keyTimes=\"0.0;0.0181818182;1.0\" repeatCount=\"indefinite\" values=\"0.2;0.2;0.2\"/>\n</rect>\n<rect fill=\"#84A1AE\" height=\"70\" opacity=\"0.2\" rx=\"15\" width=\"70\" x=\"2315\" y=\"-1785\">\n<animate attributeName=\"opacity\" dur=\"15.120000000000001s\" keyTimes=\"0.0;0.0181818182;1.0\" repeatCount=\"indefinite\" values=\"0.2;0.2;0.2\"/>\n</rect>\n<rect fill=\"#84A1AE\" height=\"70\" opacity=\"0.2\" rx=\"15\" width=\"70\" x=\"2315\" y=\"-1985\">\n<animate attributeName=\"opacity\" dur=\"15.120000000000001s\" keyTimes=\"0.0;0.0181818182;1.0\" repeatCount=\"indefinite\" values=\"0.2;0.2;0.2\"/>\n</rect>\n<rect fill=\"#84A1AE\" height=\"70\" opacity=\"0.2\" rx=\"15\" width=\"70\" x=\"2315\" y=\"-2085\">\n<animate attributeName=\"opacity\" dur=\"15.120000000000001s\" keyTimes=\"0.0;0.0181818182;1.0\" repeatCount=\"indefinite\" values=\"0.2;0.2;0.2\"/>\n</rect>\n<rect fill=\"#84A1AE\" height=\"70\" opacity=\"0.2\" rx=\"15\" width=\"70\" x=\"2415\" y=\"-485\">\n<animate attributeName=\"opacity\" dur=\"15.120000000000001s\" keyTimes=\"0.0;0.0181818182;0.2909090909;0.3090909091;1.0\" repeatCount=\"indefinite\" values=\"0.2;0.2;0.2;1.0;1.0\"/>\n</rect>\n<rect fill=\"#84A1AE\" height=\"70\" opacity=\"0.2\" rx=\"15\" width=\"70\" x=\"2415\" y=\"-2085\">\n<animate attributeName=\"opacity\" dur=\"15.120000000000001s\" keyTimes=\"0.0;0.0181818182;1.0\" repeatCount=\"indefinite\" values=\"0.2;0.2;0.2\"/>\n</rect>\n<rect fill=\"#84A1AE\" height=\"70\" opacity=\"0.2\" rx=\"15\" width=\"70\" x=\"2515\" y=\"-485\">\n<animate attributeName=\"opacity\" dur=\"15.120000000000001s\" keyTimes=\"0.0;0.0181818182;0.2727272727;0.2909090909;1.0\" repeatCount=\"indefinite\" values=\"0.2;0.2;0.2;1.0;1.0\"/>\n</rect>\n<rect fill=\"#84A1AE\" height=\"70\" opacity=\"0.2\" rx=\"15\" width=\"70\" x=\"2515\" y=\"-885\">\n<animate attributeName=\"opacity\" dur=\"15.120000000000001s\" keyTimes=\"0.0;0.0181818182;0.2727272727;0.2909090909;1.0\" repeatCount=\"indefinite\" values=\"0.2;0.2;0.2;1.0;1.0\"/>\n</rect>\n<rect fill=\"#84A1AE\" height=\"70\" opacity=\"0.2\" rx=\"15\" width=\"70\" x=\"2515\" y=\"-2085\">\n<animate attributeName=\"opacity\" dur=\"15.120000000000001s\" keyTimes=\"0.0;0.0181818182;1.0\" repeatCount=\"indefinite\" values=\"0.2;0.2;0.2\"/>\n</rect>\n<rect fill=\"#84A1AE\" height=\"70\" opacity=\"0.2\" rx=\"15\" width=\"70\" x=\"2615\" y=\"-485\">\n<animate attributeName=\"opacity\" dur=\"15.120000000000001s\" keyTimes=\"0.0;0.0181818182;0.2545454545;0.2727272727;1.0\" repeatCount=\"indefinite\" values=\"0.2;0.2;0.2;1.0;1.0\"/>\n</rect>\n<rect fill=\"#84A1AE\" height=\"70\" opacity=\"0.2\" rx=\"15\" width=\"70\" x=\"2615\" y=\"-885\">\n<animate attributeName=\"opacity\" dur=\"15.120000000000001s\" keyTimes=\"0.0;0.0181818182;0.2545454545;0.2727272727;1.0\" repeatCount=\"indefinite\" values=\"0.2;0.2;0.2;1.0;1.0\"/>\n</rect>\n<rect fill=\"#84A1AE\" height=\"70\" opacity=\"0.2\" rx=\"15\" width=\"70\" x=\"2615\" y=\"-1085\">\n<animate attributeName=\"opacity\" dur=\"15.120000000000001s\" keyTimes=\"0.0;0.0181818182;0.2545454545;0.2727272727;1.0\" repeatCount=\"indefinite\" values=\"0.2;0.2;0.2;1.0;1.0\"/>\n</rect>\n<rect fill=\"#84A1AE\" height=\"70\" opacity=\"0.2\" rx=\"15\" width=\"70\" x=\"2615\" y=\"-1185\">\n<animate attributeName=\"opacity\" dur=\"15.120000000000001s\" keyTimes=\"0.0;0.0181818182;0.2545454545;0.2727272727;1.0\" repeatCount=\"indefinite\" values=\"0.2;0.2;0.2;1.0;1.0\"/>\n</rect>\n<rect fill=\"#84A1AE\" height=\"70\" opacity=\"0.2\" rx=\"15\" width=\"70\" x=\"2615\" y=\"-1285\">\n<animate attributeName=\"opacity\" dur=\"15.120000000000001s\" keyTimes=\"0.0;0.0181818182;1.0\" repeatCount=\"indefinite\" values=\"0.2;0.2;0.2\"/>\n</rect>\n<rect fill=\"#84A1AE\" height=\"70\" opacity=\"0.2\" rx=\"15\" width=\"70\" x=\"2615\" y=\"-1385\">\n<animate attributeName=\"opacity\" dur=\"15.120000000000001s\" keyTimes=\"0.0;0.0181818182;1.0\" repeatCount=\"indefinite\" values=\"0.2;0.2;0.2\"/>\n</rect>\n<rect fill=\"#84A1AE\" height=\"70\" opacity=\"0.2\" rx=\"15\" width=\"70\" x=\"2615\" y=\"-1485\">\n<animate attributeName=\"opacity\" dur=\"15.120000000000001s\" keyTimes=\"0.0;0.0181818182;1.0\" repeatCount=\"indefinite\" values=\"0.2;0.2;0.2\"/>\n</rect>\n<rect fill=\"#84A1AE\" height=\"70\" opacity=\"0.2\" rx=\"15\" width=\"70\" x=\"2615\" y=\"-1585\">\n<animate attributeName=\"opacity\" dur=\"15.120000000000001s\" keyTimes=\"0.0;0.0181818182;1.0\" repeatCount=\"indefinite\" values=\"0.2;0.2;0.2\"/>\n</rect>\n<rect fill=\"#84A1AE\" height=\"70\" opacity=\"0.2\" rx=\"15\" width=\"70\" x=\"2615\" y=\"-1685\">\n<animate attributeName=\"opacity\" dur=\"15.120000000000001s\" keyTimes=\"0.0;0.0181818182;1.0\" repeatCount=\"indefinite\" values=\"0.2;0.2;0.2\"/>\n</rect>\n<rect fill=\"#84A1AE\" height=\"70\" opacity=\"0.2\" rx=\"15\" width=\"70\" x=\"2615\" y=\"-1785\">\n<animate attributeName=\"opacity\" dur=\"15.120000000000001s\" keyTimes=\"0.0;0.0181818182;1.0\" repeatCount=\"indefinite\" values=\"0.2;0.2;0.2\"/>\n</rect>\n<rect fill=\"#84A1AE\" height=\"70\" opacity=\"0.2\" rx=\"15\" width=\"70\" x=\"2615\" y=\"-1885\">\n<animate attributeName=\"opacity\" dur=\"15.120000000000001s\" keyTimes=\"0.0;0.0181818182;1.0\" repeatCount=\"indefinite\" values=\"0.2;0.2;0.2\"/>\n</rect>\n<rect fill=\"#84A1AE\" height=\"70\" opacity=\"0.2\" rx=\"15\" width=\"70\" x=\"2615\" y=\"-1985\">\n<animate attributeName=\"opacity\" dur=\"15.120000000000001s\" keyTimes=\"0.0;0.0181818182;1.0\" repeatCount=\"indefinite\" values=\"0.2;0.2;0.2\"/>\n</rect>\n<rect fill=\"#84A1AE\" height=\"70\" opacity=\"0.2\" rx=\"15\" width=\"70\" x=\"2615\" y=\"-2085\">\n<animate attributeName=\"opacity\" dur=\"15.120000000000001s\" keyTimes=\"0.0;0.0181818182;1.0\" repeatCount=\"indefinite\" values=\"0.2;0.2;0.2\"/>\n</rect>\n<rect fill=\"#84A1AE\" height=\"70\" opacity=\"0.2\" rx=\"15\" width=\"70\" x=\"2715\" y=\"-485\">\n<animate attributeName=\"opacity\" dur=\"15.120000000000001s\" keyTimes=\"0.0;0.0181818182;0.1818181818;0.2;1.0\" repeatCount=\"indefinite\" values=\"0.2;0.2;0.2;1.0;1.0\"/>\n</rect>\n<rect fill=\"#84A1AE\" height=\"70\" opacity=\"0.2\" rx=\"15\" width=\"70\" x=\"2715\" y=\"-885\">\n<animate attributeName=\"opacity\" dur=\"15.120000000000001s\" keyTimes=\"0.0;0.0181818182;0.1818181818;0.2;1.0\" repeatCount=\"indefinite\" values=\"0.2;0.2;0.2;1.0;1.0\"/>\n</rect>\n<rect fill=\"#84A1AE\" height=\"70\" opacity=\"0.2\" rx=\"15\" width=\"70\" x=\"2715\" y=\"-1385\">\n<animate attributeName=\"opacity\" dur=\"15.120000000000001s\" keyTimes=\"0.0;0.0181818182;0.1818181818;0.2;1.0\" repeatCount=\"indefinite\" values=\"0.2;0.2;0.2;1.0;1.0\"/>\n</rect>\n<rect fill=\"#84A1AE\" height=\"70\" opacity=\"0.2\" rx=\"15\" width=\"70\" x=\"2715\" y=\"-1485\">\n<animate attributeName=\"opacity\" dur=\"15.120000000000001s\" keyTimes=\"0.0;0.0181818182;0.1818181818;0.2;1.0\" repeatCount=\"indefinite\" values=\"0.2;0.2;0.2;1.0;1.0\"/>\n</rect>\n<rect fill=\"#84A1AE\" height=\"70\" opacity=\"0.2\" rx=\"15\" width=\"70\" x=\"2715\" y=\"-1585\">\n<animate attributeName=\"opacity\" dur=\"15.120000000000001s\" keyTimes=\"0.0;0.0181818182;1.0\" repeatCount=\"indefinite\" values=\"0.2;0.2;0.2\"/>\n</rect>\n<rect fill=\"#84A1AE\" height=\"70\" opacity=\"0.2\" rx=\"15\" width=\"70\" x=\"2715\" y=\"-1685\">\n<animate attributeName=\"opacity\" dur=\"15.120000000000001s\" keyTimes=\"0.0;0.0181818182;1.0\" repeatCount=\"indefinite\" values=\"0.2;0.2;0.2\"/>\n</rect>\n<rect fill=\"#84A1AE\" height=\"70\" opacity=\"0.2\" rx=\"15\" width=\"70\" x=\"2715\" y=\"-1785\">\n<animate attributeName=\"opacity\" dur=\"15.120000000000001s\" keyTimes=\"0.0;0.0181818182;1.0\" repeatCount=\"indefinite\" values=\"0.2;0.2;0.2\"/>\n</rect>\n<rect fill=\"#84A1AE\" height=\"70\" opacity=\"0.2\" rx=\"15\" width=\"70\" x=\"2715\" y=\"-1885\">\n<animate attributeName=\"opacity\" dur=\"15.120000000000001s\" keyTimes=\"0.0;0.0181818182;1.0\" repeatCount=\"indefinite\" values=\"0.2;0.2;0.2\"/>\n</rect>\n<rect fill=\"#84A1AE\" height=\"70\" opacity=\"0.2\" rx=\"15\" width=\"70\" x=\"2715\" y=\"-1985\">\n<animate attributeName=\"opacity\" dur=\"15.120000000000001s\" keyTimes=\"0.0;0.0181818182;1.0\" repeatCount=\"indefinite\" values=\"0.2;0.2;0.2\"/>\n</rect>\n<rect fill=\"#84A1AE\" height=\"70\" opacity=\"0.2\" rx=\"15\" width=\"70\" x=\"2715\" y=\"-2085\">\n<animate attributeName=\"opacity\" dur=\"15.120000000000001s\" keyTimes=\"0.0;0.0181818182;1.0\" repeatCount=\"indefinite\" values=\"0.2;0.2;0.2\"/>\n</rect>\n<rect fill=\"#84A1AE\" height=\"70\" opacity=\"0.2\" rx=\"15\" width=\"70\" x=\"2815\" y=\"-485\">\n<animate attributeName=\"opacity\" dur=\"15.120000000000001s\" keyTimes=\"0.0;0.0181818182;0.1636363636;0.1818181818;1.0\" repeatCount=\"indefinite\" values=\"0.2;0.2;0.2;1.0;1.0\"/>\n</rect>\n<rect fill=\"#84A1AE\" height=\"70\" opacity=\"0.2\" rx=\"15\" width=\"70\" x=\"2815\" y=\"-885\">\n<animate attributeName=\"opacity\" dur=\"15.120000000000001s\" keyTimes=\"0.0;0.0181818182;0.0909090909;0.1090909091;1.0\" repeatCount=\"indefinite\" values=\"0.2;0.2;0.2;1.0;1.0\"/>\n</rect>\n<rect fill=\"#84A1AE\" height=\"70\" rx=\"15\" width=\"70\" x=\"2815\" y=\"-1385\">\n<animate attributeName=\"opacity\" dur=\"15.120000000000001s\" keyTimes=\"0.0;0.0181818182;1.0\" repeatCount=\"indefinite\" values=\"1.0;1.0;1.0\"/>\n</rect>\n<rect fill=\"#84A1AE\" height=\"70\" rx=\"15\" width=\"70\" x=\"2815\" y=\"-1485\">\n<animate attributeName=\"opacity\" dur=\"15.120000000000001s\" keyTimes=\"0.0;0.0181818182;1.0\" repeatCount=\"indefinite\" values=\"1.0;1.0;1.0\"/>\n</rect>\n<rect fill=\"#84A1AE\" height=\"70\" rx=\"15\" width=\"70\" x=\"2815\" y=\"-2085\">\n<animate attributeName=\"opacity\" dur=\"15.120000000000001s\" keyTimes=\"0.0;0.0181818182;1.0\" repeatCount=\"indefinite\" values=\"1.0;1.0;1.0\"/>\n</rect>\n<rect fill=\"#84A1AE\" height=\"70\" opacity=\"0.2\" rx=\"15\" width=\"70\" x=\"2915\" y=\"-485\">\n<animate attributeName=\"opacity\" dur=\"15.120000000000001s\" keyTimes=\"0.0;0.0181818182;0.1636363636;0.1818181818;1.0\" repeatCount=\"indefinite\" values=\"0.2;0.2;0.2;1.0;1.0\"/>\n</rect>\n<rect fill=\"#84A1AE\" height=\"70\" opacity=\"0.2\" rx=\"15\" width=\"70\" x=\"2915\" y=\"-885\">\n<animate attributeName=\"opacity\" dur=\"15.120000000000001s\" keyTimes=\"0.0;0.0181818182;0.0909090909;0.1090909091;1.0\" repeatCount=\"indefinite\" values=\"0.2;0.2;0.2;1.0;1.0\"/>\n</rect>\n<rect fill=\"#84A1AE\" height=\"70\" rx=\"15\" width=\"70\" x=\"2915\" y=\"-1385\">\n<animate attributeName=\"opacity\" dur=\"15.120000000000001s\" keyTimes=\"0.0;0.0181818182;1.0\" repeatCount=\"indefinite\" values=\"1.0;1.0;1.0\"/>\n</rect>\n<rect fill=\"#84A1AE\" height=\"70\" rx=\"15\" width=\"70\" x=\"2915\" y=\"-1485\">\n<animate attributeName=\"opacity\" dur=\"15.120000000000001s\" keyTimes=\"0.0;0.0181818182;1.0\" repeatCount=\"indefinite\" values=\"1.0;1.0;1.0\"/>\n</rect>\n<rect fill=\"#84A1AE\" height=\"70\" rx=\"15\" width=\"70\" x=\"2915\" y=\"-2085\">\n<animate attributeName=\"opacity\" dur=\"15.120000000000001s\" keyTimes=\"0.0;0.0181818182;1.0\" repeatCount=\"indefinite\" values=\"1.0;1.0;1.0\"/>\n</rect>\n<rect fill=\"#84A1AE\" height=\"70\" opacity=\"0.2\" rx=\"15\" width=\"70\" x=\"3015\" y=\"-485\">\n<animate attributeName=\"opacity\" dur=\"15.120000000000001s\" keyTimes=\"0.0;0.0181818182;0.1636363636;0.1818181818;1.0\" repeatCount=\"indefinite\" values=\"0.2;0.2;0.2;1.0;1.0\"/>\n</rect>\n<rect fill=\"#84A1AE\" height=\"70\" opacity=\"0.2\" rx=\"15\" width=\"70\" x=\"3015\" y=\"-885\">\n<animate attributeName=\"opacity\" dur=\"15.120000000000001s\" keyTimes=\"0.0;0.0181818182;0.0909090909;0.1090909091;1.0\" repeatCount=\"indefinite\" values=\"0.2;0.2;0.2;1.0;1.0\"/>\n</rect>\n<rect fill=\"#84A1AE\" height=\"70\" rx=\"15\" width=\"70\" x=\"3015\" y=\"-1385\">\n<animate attributeName=\"opacity\" dur=\"15.120000000000001s\" keyTimes=\"0.0;0.0181818182;1.0\" repeatCount=\"indefinite\" values=\"1.0;1.0;1.0\"/>\n</rect>\n<rect fill=\"#84A1AE\" height=\"70\" rx=\"15\" width=\"70\" x=\"3015\" y=\"-1485\">\n<animate attributeName=\"opacity\" dur=\"15.120000000000001s\" keyTimes=\"0.0;0.0181818182;1.0\" repeatCount=\"indefinite\" values=\"1.0;1.0;1.0\"/>\n</rect>\n<rect fill=\"#84A1AE\" height=\"70\" rx=\"15\" width=\"70\" x=\"3015\" y=\"-2085\">\n<animate attributeName=\"opacity\" dur=\"15.120000000000001s\" keyTimes=\"0.0;0.0181818182;1.0\" repeatCount=\"indefinite\" values=\"1.0;1.0;1.0\"/>\n</rect>\n<rect fill=\"#84A1AE\" height=\"70\" opacity=\"0.2\" rx=\"15\" width=\"70\" x=\"3115\" y=\"-485\">\n<animate attributeName=\"opacity\" dur=\"15.120000000000001s\" keyTimes=\"0.0;0.0181818182;0.1636363636;0.1818181818;1.0\" repeatCount=\"indefinite\" values=\"0.2;0.2;0.2;1.0;1.0\"/>\n</rect>\n<rect fill=\"#84A1AE\" height=\"70\" opacity=\"0.2\" rx=\"15\" width=\"70\" x=\"3115\" y=\"-885\">\n<animate attributeName=\"opacity\" dur=\"15.120000000000001s\" keyTimes=\"0.0;0.0181818182;0.0909090909;0.1090909091;1.0\" repeatCount=\"indefinite\" values=\"0.2;0.2;0.2;1.0;1.0\"/>\n</rect>\n<rect fill=\"#84A1AE\" height=\"70\" rx=\"15\" width=\"70\" x=\"3115\" y=\"-2085\">\n<animate attributeName=\"opacity\" dur=\"15.120000000000001s\" keyTimes=\"0.0;0.0181818182;1.0\" repeatCount=\"indefinite\" values=\"1.0;1.0;1.0\"/>\n</rect>\n<rect fill=\"#84A1AE\" height=\"70\" opacity=\"0.2\" rx=\"15\" width=\"70\" x=\"3215\" y=\"-485\">\n<animate attributeName=\"opacity\" dur=\"15.120000000000001s\" keyTimes=\"0.0;0.0181818182;0.1636363636;0.1818181818;1.0\" repeatCount=\"indefinite\" values=\"0.2;0.2;0.2;1.0;1.0\"/>\n</rect>\n<rect fill=\"#84A1AE\" height=\"70\" rx=\"15\" width=\"70\" x=\"3215\" y=\"-2085\">\n<animate attributeName=\"opacity\" dur=\"15.120000000000001s\" keyTimes=\"0.0;0.0181818182;1.0\" repeatCount=\"indefinite\" values=\"1.0;1.0;1.0\"/>\n</rect>\n<rect fill=\"#84A1AE\" height=\"70\" opacity=\"0.2\" rx=\"15\" width=\"70\" x=\"3315\" y=\"-485\">\n<animate attributeName=\"opacity\" dur=\"15.120000000000001s\" keyTimes=\"0.0;0.0181818182;0.1636363636;0.1818181818;1.0\" repeatCount=\"indefinite\" values=\"0.2;0.2;0.2;1.0;1.0\"/>\n</rect>\n<rect fill=\"#84A1AE\" height=\"70\" opacity=\"0.2\" rx=\"15\" width=\"70\" x=\"3315\" y=\"-885\">\n<animate attributeName=\"opacity\" dur=\"15.120000000000001s\" keyTimes=\"0.0;0.0181818182;0.0909090909;0.1090909091;1.0\" repeatCount=\"indefinite\" values=\"0.2;0.2;0.2;1.0;1.0\"/>\n</rect>\n<rect fill=\"#84A1AE\" height=\"70\" rx=\"15\" width=\"70\" x=\"3315\" y=\"-2085\">\n<animate attributeName=\"opacity\" dur=\"15.120000000000001s\" keyTimes=\"0.0;0.0181818182;1.0\" repeatCount=\"indefinite\" values=\"1.0;1.0;1.0\"/>\n</rect>\n<rect fill=\"#84A1AE\" height=\"70\" opacity=\"0.2\" rx=\"15\" width=\"70\" x=\"3415\" y=\"-485\">\n<animate attributeName=\"opacity\" dur=\"15.120000000000001s\" keyTimes=\"0.0;0.0181818182;0.1636363636;0.1818181818;1.0\" repeatCount=\"indefinite\" values=\"0.2;0.2;0.2;1.0;1.0\"/>\n</rect>\n<rect fill=\"#84A1AE\" height=\"70\" opacity=\"0.2\" rx=\"15\" width=\"70\" x=\"3415\" y=\"-885\">\n<animate attributeName=\"opacity\" dur=\"15.120000000000001s\" keyTimes=\"0.0;0.0181818182;0.0909090909;0.1090909091;1.0\" repeatCount=\"indefinite\" values=\"0.2;0.2;0.2;1.0;1.0\"/>\n</rect>\n<rect fill=\"#84A1AE\" height=\"70\" rx=\"15\" width=\"70\" x=\"3415\" y=\"-2085\">\n<animate attributeName=\"opacity\" dur=\"15.120000000000001s\" keyTimes=\"0.0;0.0181818182;1.0\" repeatCount=\"indefinite\" values=\"1.0;1.0;1.0\"/>\n</rect>\n<rect fill=\"#84A1AE\" height=\"70\" opacity=\"0.2\" rx=\"15\" width=\"70\" x=\"3515\" y=\"-485\">\n<animate attributeName=\"opacity\" dur=\"15.120000000000001s\" keyTimes=\"0.0;0.0181818182;0.1636363636;0.1818181818;1.0\" repeatCount=\"indefinite\" values=\"0.2;0.2;0.2;1.0;1.0\"/>\n</rect>\n<rect fill=\"#84A1AE\" height=\"70\" opacity=\"0.2\" rx=\"15\" width=\"70\" x=\"3515\" y=\"-585\">\n<animate attributeName=\"opacity\" dur=\"15.120000000000001s\" keyTimes=\"0.0;0.0181818182;0.1454545455;0.1636363636;1.0\" repeatCount=\"indefinite\" values=\"0.2;0.2;0.2;1.0;1.0\"/>\n</rect>\n<rect fill=\"#84A1AE\" height=\"70\" opacity=\"0.2\" rx=\"15\" width=\"70\" x=\"3515\" y=\"-685\">\n<animate attributeName=\"opacity\" dur=\"15.120000000000001s\" keyTimes=\"0.0;0.0181818182;0.1272727273;0.1454545455;1.0\" repeatCount=\"indefinite\" values=\"0.2;0.2;0.2;1.0;1.0\"/>\n</rect>\n<rect fill=\"#84A1AE\" height=\"70\" opacity=\"0.2\" rx=\"15\" width=\"70\" x=\"3515\" y=\"-785\">\n<animate attributeName=\"opacity\" dur=\"15.120000000000001s\" keyTimes=\"0.0;0.0181818182;0.1090909091;0.1272727273;1.0\" repeatCount=\"indefinite\" values=\"0.2;0.2;0.2;1.0;1.0\"/>\n</rect>\n<rect fill=\"#84A1AE\" height=\"70\" opacity=\"0.2\" rx=\"15\" width=\"70\" x=\"3515\" y=\"-885\">\n<animate attributeName=\"opacity\" dur=\"15.120000000000001s\" keyTimes=\"0.0;0.0181818182;0.0909090909;0.1090909091;1.0\" repeatCount=\"indefinite\" values=\"0.2;0.2;0.2;1.0;1.0\"/>\n</rect>\n<rect fill=\"#84A1AE\" height=\"70\" opacity=\"0.2\" rx=\"15\" width=\"70\" x=\"3515\" y=\"-985\">\n<animate attributeName=\"opacity\" dur=\"15.120000000000001s\" keyTimes=\"0.0;0.0181818182;0.0727272727;0.0909090909;1.0\" repeatCount=\"indefinite\" values=\"0.2;0.2;0.2;1.0;1.0\"/>\n</rect>\n<rect fill=\"#84A1AE\" height=\"70\" opacity=\"0.2\" rx=\"15\" width=\"70\" x=\"3515\" y=\"-1085\">\n<animate attributeName=\"opacity\" dur=\"15.120000000000001s\" keyTimes=\"0.0;0.0181818182;0.0545454545;0.0727272727;1.0\" repeatCount=\"indefinite\" values=\"0.2;0.2;0.2;1.0;1.0\"/>\n</rect>\n<rect fill=\"#84A1AE\" height=\"70\" opacity=\"0.2\" rx=\"15\" width=\"70\" x=\"3515\" y=\"-1185\">\n<animate attributeName=\"opacity\" dur=\"15.120000000000001s\" keyTimes=\"0.0;0.0181818182;0.0363636364;0.0545454545;1.0\" repeatCount=\"indefinite\" values=\"0.2;0.2;0.2;1.0;1.0\"/>\n</rect>\n<rect fill=\"#84A1AE\" height=\"70\" opacity=\"0.2\" rx=\"15\" width=\"70\" x=\"3515\" y=\"-1285\">\n<animate attributeName=\"opacity\" dur=\"15.120000000000001s\" keyTimes=\"0.0;0.0181818182;0.0363636364;1.0\" repeatCount=\"indefinite\" values=\"0.2;0.2;1.0;1.0\"/>\n</rect>\n<rect fill=\"#84A1AE\" height=\"70\" rx=\"15\" width=\"70\" x=\"3515\" y=\"-1385\">\n<animate attributeName=\"opacity\" dur=\"15.120000000000001s\" keyTimes=\"0.0;0.0181818182;1.0\" repeatCount=\"indefinite\" values=\"1.0;1.0;1.0\"/>\n</rect>\n<rect fill=\"#84A1AE\" height=\"70\" rx=\"15\" width=\"70\" x=\"3515\" y=\"-1485\">\n<animate attributeName=\"opacity\" dur=\"15.120000000000001s\" keyTimes=\"0.0;0.0181818182;1.0\" repeatCount=\"indefinite\" values=\"1.0;1.0;1.0\"/>\n</rect>\n<rect fill=\"#84A1AE\" height=\"70\" rx=\"15\" width=\"70\" x=\"3515\" y=\"-1585\">\n<animate attributeName=\"opacity\" dur=\"15.120000000000001s\" keyTimes=\"0.0;0.0181818182;1.0\" repeatCount=\"indefinite\" values=\"1.0;1.0;1.0\"/>\n</rect>\n<rect fill=\"#84A1AE\" height=\"70\" rx=\"15\" width=\"70\" x=\"3515\" y=\"-1685\">\n<animate attributeName=\"opacity\" dur=\"15.120000000000001s\" keyTimes=\"0.0;0.0181818182;1.0\" repeatCount=\"indefinite\" values=\"1.0;1.0;1.0\"/>\n</rect>\n<rect fill=\"#84A1AE\" height=\"70\" rx=\"15\" width=\"70\" x=\"3515\" y=\"-1785\">\n<animate attributeName=\"opacity\" dur=\"15.120000000000001s\" keyTimes=\"0.0;0.0181818182;1.0\" repeatCount=\"indefinite\" values=\"1.0;1.0;1.0\"/>\n</rect>\n<rect fill=\"#84A1AE\" height=\"70\" rx=\"15\" width=\"70\" x=\"3515\" y=\"-1885\">\n<animate attributeName=\"opacity\" dur=\"15.120000000000001s\" keyTimes=\"0.0;0.0181818182;1.0\" repeatCount=\"indefinite\" values=\"1.0;1.0;1.0\"/>\n</rect>\n<rect fill=\"#84A1AE\" height=\"70\" rx=\"15\" width=\"70\" x=\"3515\" y=\"-1985\">\n<animate attributeName=\"opacity\" dur=\"15.120000000000001s\" keyTimes=\"0.0;0.0181818182;1.0\" repeatCount=\"indefinite\" values=\"1.0;1.0;1.0\"/>\n</rect>\n<rect fill=\"#84A1AE\" height=\"70\" rx=\"15\" width=\"70\" x=\"3515\" y=\"-2085\">\n<animate attributeName=\"opacity\" dur=\"15.120000000000001s\" keyTimes=\"0.0;0.0181818182;1.0\" repeatCount=\"indefinite\" values=\"1.0;1.0;1.0\"/>\n</rect>\n<circle cx=\"750\" cy=\"-650\" fill=\"#72D5C8\" opacity=\"0.2\" r=\"35\">\n<animate attributeName=\"cy\" dur=\"15.120000000000001s\" keyTimes=\"0.0;0.0181818182;1.0\" repeatCount=\"indefinite\" values=\"-650;-650;-650\"/>\n<animate attributeName=\"cx\" dur=\"15.120000000000001s\" keyTimes=\"0.0;0.0181818182;0.0363636364;0.0545454545;0.0727272727;0.0909090909;0.1090909091;0.1272727273;0.1454545455;0.1636363636;0.1818181818;0.2;0.2181818182;0.2363636364;0.2545454545;0.2727272727;0.2909090909;0.3090909091;0.3272727273;0.3454545455;0.3636363636;0.3818181818;0.4;0.4181818182;0.4363636364;0.4545454545;0.4727272727;0.4909090909;0.5090909091;0.5272727273;0.5454545455;0.5636363636;0.5818181818;0.6;0.6181818182;0.6363636364;0.6545454545;0.6727272727;0.6909090909;0.7090909091;0.7272727273;0.7454545455;0.7636363636;0.7818181818;0.8;0.8181818182;0.8363636364;0.8545454545;0.8727272727;0.8909090909;0.9090909091;0.9272727273;0.9454545455;0.9636363636;0.9818181818;1.0\" repeatCount=\"indefinite\" values=\"750;750;850;750;650;550;650;750;850;750;650;550;650;750;850;750;650;550;650;750;850;750;650;550;650;750;850;750;650;550;650;750;850;750;650;550;650;750;850;750;650;550;650;750;850;750;650;550;650;750;850;750;650;550;650;750\"/>\n<animate attributeName=\"visibility\" dur=\"15.120000000000001s\" keyTimes=\"0.0;0.0181818182;1.0\" repeatCount=\"indefinite\" values=\"visible;visible;visible\"/>\n<animate attributeName=\"opacity\" dur=\"15.120000000000001s\" keyTimes=\"0.0;0.0181818182;0.6363636364;0.6545454545;0.8545454545;0.8727272727;1.0\" repeatCount=\"indefinite\" values=\"0.2;0.2;0.2;1.0;1.0;0.2;0.2\"/>\n</circle>\n<circle cx=\"650\" cy=\"-1850\" fill=\"#72D5C8\" opacity=\"0.2\" r=\"35\">\n<animate attributeName=\"cy\" dur=\"15.120000000000001s\" keyTimes=\"0.0;0.0181818182;0.0363636364;0.0545454545;0.0727272727;0.0909090909;0.1090909091;0.1272727273;0.1454545455;0.1636363636;0.1818181818;0.2;0.2181818182;0.2363636364;0.2545454545;0.2727272727;0.2909090909;0.3090909091;0.3272727273;0.3454545455;0.3636363636;0.3818181818;0.4;0.4181818182;0.4363636364;0.4545454545;0.4727272727;0.4909090909;0.5090909091;0.5272727273;0.5454545455;0.5636363636;0.5818181818;0.6;0.6181818182;0.6363636364;0.6545454545;0.6727272727;0.6909090909;0.7090909091;0.7272727273;0.7454545455;0.7636363636;0.7818181818;0.8;0.8181818182;0.8363636364;0.8545454545;0.8727272727;0.8909090909;0.9090909091;0.9272727273;0.9454545455;0.9636363636;0.9818181818;1.0\" repeatCount=\"indefinite\" values=\"-1850;-1850;-1850;-1750;-1750;-1850;-1850;-1750;-1750;-1850;-1850;-1750;-1750;-1850;-1850;-1750;-1750;-1850;-1850;-1750;-1750;-1850;-1850;-1750;-1750;-1850;-1850;-1750;-1750;-1850;-1850;-1750;-1750;-1850;-1850;-1750;-1750;-1850;-1850;-1750;-1750;-1850;-1850;-1750;-1750;-1850;-1850;-1750;-1750;-1850;-1850;-1750;-1750;-1850;-1850;-1750\"/>\n<animate attributeName=\"cx\" dur=\"15.120000000000001s\" keyTimes=\"0.0;0.0181818182;0.0363636364;0.0545454545;0.0727272727;0.0909090909;0.1090909091;0.1272727273;0.1454545455;0.1636363636;0.1818181818;0.2;0.2181818182;0.2363636364;0.2545454545;0.2727272727;0.2909090909;0.3090909091;0.3272727273;0.3454545455;0.3636363636;0.3818181818;0.4;0.4181818182;0.4363636364;0.4545454545;0.4727272727;0.4909090909;0.5090909091;0.5272727273;0.5454545455;0.5636363636;0.5818181818;0.6;0.6181818182;0.6363636364;0.6545454545;0.6727272727;0.6909090909;0.7090909091;0.7272727273;0.7454545455;0.7636363636;0.7818181818;0.8;0.8181818182;0.8363636364;0.8545454545;0.8727272727;0.8909090909;0.9090909091;0.9272727273;0.9454545455;0.9636363636;0.9818181818;1.0\" repeatCount=\"indefinite\" values=\"650;650;750;750;650;650;750;750;650;650;750;750;650;650;750;750;650;650;750;750;650;650;750;750;650;650;750;750;650;650;750;750;650;650;750;750;650;650;750;750;650;650;750;750;650;650;750;750;650;650;750;750;650;650;750;750\"/>\n<animate attributeName=\"visibility\" dur=\"15.120000000000001s\" keyTimes=\"0.0;0.0181818182;1.0\" repeatCount=\"indefinite\" values=\"visible;visible;visible\"/>\n<animate attributeName=\"opacity\" dur=\"15.120000000000001s\" keyTimes=\"0.0;0.0181818182;0.8545454545;0.8727272727;1.0\" repeatCount=\"indefinite\" values=\"0.2;0.2;0.2;1.0;1.0\"/>\n</circle>\n<circle cx=\"650\" cy=\"-1250\" fill=\"#72D5C8\" opacity=\"0.2\" r=\"35\">\n<animate attributeName=\"cy\" dur=\"15.120000000000001s\" keyTimes=\"0.0;0.0181818182;1.0\" repeatCount=\"indefinite\" values=\"-1250;-1250;-1250\"/>\n<animate attributeName=\"cx\" dur=\"15.120000000000001s\" keyTimes=\"0.0;0.0181818182;0.0363636364;0.0545454545;0.0727272727;0.0909090909;0.1090909091;0.1272727273;0.1454545455;0.1636363636;0.1818181818;0.2;0.2181818182;0.2363636364;0.2545454545;0.2727272727;0.2909090909;0.3090909091;0.3272727273;0.3454545455;0.3636363636;0.3818181818;0.4;0.4181818182;0.4363636364;0.4545454545;0.4727272727;0.4909090909;0.5090909091;0.5272727273;0.5454545455;0.5636363636;0.5818181818;0.6;0.6181818182;0.6363636364;0.6545454545;0.6727272727;0.6909090909;0.7090909091;0.7272727273;0.7454545455;0.7636363636;0.7818181818;0.8;0.8181818182;0.8363636364;0.8545454545;0.8727272727;0.8909090909;0.9090909091;0.9272727273;0.9454545455;0.9636363636;0.9818181818;1.0\" repeatCount=\"indefinite\" values=\"650;650;750;850;950;850;750;650;750;850;950;850;750;650;750;850;950;850;750;650;750;850;950;850;750;650;750;850;950;850;750;650;750;850;950;850;750;650;750;850;950;850;750;650;750;850;950;850;750;750;850;950;1050;950;850;750\"/>\n<animate attributeName=\"visibility\" dur=\"15.120000000000001s\" keyTimes=\"0.0;0.0181818182;1.0\" repeatCount=\"indefinite\" values=\"visible;visible;visible\"/>\n<animate attributeName=\"opacity\" dur=\"15.120000000000001s\" keyTimes=\"0.0;0.0181818182;0.6;0.6181818182;0.6727272727;0.6909090909;0.7454545455;0.7636363636;0.9636363636;0.9818181818;1.0\" repeatCount=\"indefinite\" values=\"0.2;0.2;0.2;1.0;1.0;0.2;0.2;1.0;1.0;0.2;0.2\"/>\n</circle>\n<circle cx=\"1550\" cy=\"-650\" fill=\"#72D5C8\" opacity=\"0.2\" r=\"35\">\n<animate attributeName=\"cy\" dur=\"15.120000000000001s\" keyTimes=\"0.0;0.0181818182;1.0\" repeatCount=\"indefinite\" values=\"-650;-650;-650\"/>\n<animate attributeName=\"cx\" dur=\"15.120000000000001s\" keyTimes=\"0.0;0.0181818182;0.0363636364;0.0545454545;0.0727272727;0.0909090909;0.1090909091;0.1272727273;0.1454545455;0.1636363636;0.1818181818;0.2;0.2181818182;0.2363636364;0.2545454545;0.2727272727;0.2909090909;0.3090909091;0.3272727273;0.3454545455;0.3636363636;0.3818181818;0.4;0.4181818182;0.4363636364;0.4545454545;0.4727272727;0.4909090909;0.5090909091;0.5272727273;0.5454545455;0.5636363636;0.5818181818;0.6;0.6181818182;0.6363636364;0.6545454545;0.6727272727;0.6909090909;0.7090909091;0.7272727273;0.7454545455;0.7636363636;0.7818181818;0.8;0.8181818182;0.8363636364;0.8545454545;0.8727272727;0.8909090909;0.9090909091;0.9272727273;0.9454545455;0.9636363636;0.9818181818;1.0\" repeatCount=\"indefinite\" values=\"1550;1550;1650;1750;1850;1950;2050;2150;2250;2150;2050;1950;1850;1750;1650;1550;1650;1750;1850;1950;2050;2150;2250;2150;2050;1950;1850;1750;1650;1550;1650;1750;1850;1950;2050;2150;2250;2150;2050;1950;1850;1750;1650;1550;1650;1750;1850;1950;2050;2150;2250;2150;2050;1950;1850;1750\"/>\n<animate attributeName=\"visibility\" dur=\"15.120000000000001s\" keyTimes=\"0.0;0.0181818182;1.0\" repeatCount=\"indefinite\" values=\"visible;visible;visible\"/>\n<animate attributeName=\"opacity\" dur=\"15.120000000000001s\" keyTimes=\"0.0;0.0181818182;0.3636363636;0.3818181818;0.6;0.6181818182;1.0\" repeatCount=\"indefinite\" values=\"0.2;0.2;0.2;1.0;1.0;0.2;0.2\"/>\n</circle>\n<circle cx=\"2150\" cy=\"-850\" fill=\"#72D5C8\" opacity=\"0.2\" r=\"35\">\n<animate attributeName=\"cy\" dur=\"15.120000000000001s\" keyTimes=\"0.0;0.0181818182;0.0363636364;0.0909090909;0.1090909091;0.1272727273;0.1818181818;0.2;0.2181818182;0.2727272727;0.2909090909;0.3090909091;0.3636363636;0.3818181818;0.4;0.4545454545;0.4727272727;0.4909090909;0.5454545455;0.5636363636;0.5818181818;0.6363636364;0.6545454545;0.6727272727;0.7272727273;0.7454545455;0.7636363636;0.8181818182;0.8363636364;0.8545454545;0.9090909091;0.9272727273;0.9454545455;1.0\" repeatCount=\"indefinite\" values=\"-850;-850;-750;-750;-850;-750;-750;-850;-750;-750;-850;-750;-750;-850;-750;-750;-850;-750;-750;-850;-750;-750;-850;-750;-750;-850;-750;-750;-850;-750;-750;-850;-750;-750\"/>\n<animate attributeName=\"cx\" dur=\"15.120000000000001s\" keyTimes=\"0.0;0.0181818182;0.0363636364;0.0545454545;0.0727272727;0.0909090909;0.1272727273;0.1454545455;0.1636363636;0.1818181818;0.2181818182;0.2363636364;0.2545454545;0.2727272727;0.3090909091;0.3272727273;0.3454545455;0.3636363636;0.4;0.4181818182;0.4363636364;0.4545454545;0.4909090909;0.5090909091;0.5272727273;0.5454545455;0.5818181818;0.6;0.6181818182;0.6363636364;0.6727272727;0.6909090909;0.7090909091;0.7272727273;0.7636363636;0.7818181818;0.8;0.8181818182;0.8545454545;0.8727272727;0.8909090909;0.9090909091;0.9454545455;0.9636363636;0.9818181818;1.0\" repeatCount=\"indefinite\" values=\"2150;2150;2150;2250;2350;2450;2450;2350;2250;2150;2150;2250;2350;2450;2450;2350;2250;2150;2150;2250;2350;2450;2450;2350;2250;2150;2150;2250;2350;2450;2450;2350;2250;2150;2150;2250;2350;2450;2450;2350;2250;2150;2150;2250;2350;2450\"/>\n<animate attributeName=\"visibility\" dur=\"15.120000000000001s\" keyTimes=\"0.0;0.0181818182;1.0\" repeatCount=\"indefinite\" values=\"visible;visible;visible\"/>\n<animate attributeName=\"opacity\" dur=\"15.120000000000001s\" keyTimes=\"0.0;0.0181818182;0.2909090909;0.3090909091;0.5636363636;0.5818181818;1.0\" repeatCount=\"indefinite\" values=\"0.2;0.2;0.2;1.0;1.0;0.2;0.2\"/>\n</circle>\n<circle cx=\"550\" cy=\"-1550\" fill=\"#72D5C8\" opacity=\"0.2\" r=\"35\">\n<animate attributeName=\"cy\" dur=\"15.120000000000001s\" keyTimes=\"0.0;0.0181818182;0.0363636364;0.0545454545;0.0727272727;0.0909090909;0.1090909091;0.1272727273;0.1454545455;0.1636363636;0.1818181818;0.2;0.2181818182;0.2363636364;0.2545454545;0.2727272727;0.2909090909;0.3090909091;0.3272727273;0.3454545455;0.3636363636;0.3818181818;0.4;0.4181818182;0.4363636364;0.4545454545;0.4727272727;0.4909090909;0.5090909091;0.5272727273;0.5454545455;0.5636363636;0.5818181818;0.6;0.6181818182;0.6363636364;0.6545454545;0.6727272727;0.6909090909;0.7090909091;0.7272727273;0.7454545455;0.7636363636;0.7818181818;0.8;0.8181818182;0.8363636364;0.8545454545;0.8727272727;0.8909090909;0.9090909091;0.9272727273;0.9454545455;0.9636363636;0.9818181818;1.0\" repeatCount=\"indefinite\" values=\"-1550;-1550;-1550;-1650;-1650;-1550;-1550;-1650;-1650;-1550;-1550;-1650;-1650;-1550;-1550;-1650;-1650;-1550;-1550;-1650;-1650;-1550;-1550;-1650;-1650;-1550;-1550;-1650;-1650;-1550;-1550;-1650;-1650;-1550;-1550;-1650;-1650;-1550;-1550;-1650;-1650;-1550;-1550;-1650;-1650;-1550;-1550;-1650;-1650;-1550;-1550;-1650;-1650;-1550;-1550;-1650\"/>\n<animate attributeName=\"cx\" dur=\"15.120000000000001s\" keyTimes=\"0.0;0.0181818182;0.0363636364;0.0545454545;0.0727272727;0.0909090909;0.1090909091;0.1272727273;0.1454545455;0.1636363636;0.1818181818;0.2;0.2181818182;0.2363636364;0.2545454545;0.2727272727;0.2909090909;0.3090909091;0.3272727273;0.3454545455;0.3636363636;0.3818181818;0.4;0.4181818182;0.4363636364;0.4545454545;0.4727272727;0.4909090909;0.5090909091;0.5272727273;0.5454545455;0.5636363636;0.5818181818;0.6;0.6181818182;0.6363636364;0.6545454545;0.6727272727;0.6909090909;0.7090909091;0.7272727273;0.7454545455;0.7636363636;0.7818181818;0.8;0.8181818182;0.8363636364;0.8545454545;0.8727272727;0.8909090909;0.9090909091;0.9272727273;0.9454545455;0.9636363636;0.9818181818;1.0\" repeatCount=\"indefinite\" values=\"550;550;650;650;550;550;650;650;550;550;650;650;550;550;650;650;550;550;650;650;550;550;650;650;550;550;650;650;550;550;650;650;550;550;650;650;550;550;650;650;550;550;650;650;550;550;650;650;550;550;650;650;550;550;650;650\"/>\n<animate attributeName=\"visibility\" dur=\"15.120000000000001s\" keyTimes=\"0.0;0.0181818182;1.0\" repeatCount=\"indefinite\" values=\"visible;visible;visible\"/>\n<animate attributeName=\"opacity\" dur=\"15.120000000000001s\" keyTimes=\"0.0;0.0181818182;0.8;0.8181818182;1.0\" repeatCount=\"indefinite\" values=\"0.2;0.2;0.2;1.0;1.0\"/>\n</circle>\n<circle cx=\"2550\" cy=\"-950\" fill=\"#72D5C8\" opacity=\"0.2\" r=\"35\">\n<animate attributeName=\"cy\" dur=\"15.120000000000001s\" keyTimes=\"0.0;0.0181818182;1.0\" repeatCount=\"indefinite\" values=\"-950;-950;-950\"/>\n<animate attributeName=\"cx\" dur=\"15.120000000000001s\" keyTimes=\"0.0;0.0181818182;0.0363636364;0.0545454545;0.0727272727;0.0909090909;0.1090909091;0.1272727273;0.1454545455;0.1636363636;0.1818181818;0.2;0.2181818182;0.2363636364;0.2545454545;0.2727272727;0.2909090909;0.3090909091;0.3272727273;0.3454545455;0.3636363636;0.3818181818;0.4;0.4181818182;0.4363636364;0.4545454545;0.4727272727;0.4909090909;0.5090909091;0.5272727273;0.5454545455;0.5636363636;0.5818181818;0.6;0.6181818182;0.6363636364;0.6545454545;0.6727272727;0.6909090909;0.7090909091;0.7272727273;0.7454545455;0.7636363636;0.7818181818;0.8;0.8181818182;0.8363636364;0.8545454545;0.8727272727;0.8909090909;0.9090909091;0.9272727273;0.9454545455;0.9636363636;0.9818181818;1.0\" repeatCount=\"indefinite\" values=\"2550;2550;2650;2750;2850;2950;2850;2750;2650;2550;2650;2750;2850;2950;2850;2750;2650;2550;2650;2750;2850;2950;2850;2750;2650;2550;2650;2750;2850;2950;2850;2750;2650;2550;2650;2750;2850;2950;2850;2750;2650;2550;2650;2750;2850;2950;2850;2750;2650;2550;2650;2750;2850;2950;2850;2750\"/>\n<animate attributeName=\"visibility\" dur=\"15.120000000000001s\" keyTimes=\"0.0;0.0181818182;1.0\" repeatCount=\"indefinite\" values=\"visible;visible;visible\"/>\n<animate attributeName=\"opacity\" dur=\"15.120000000000001s\" keyTimes=\"0.0;0.0181818182;0.0727272727;0.0909090909;0.1090909091;0.1272727273;0.1818181818;0.2;0.4545454545;0.4727272727;1.0\" repeatCount=\"indefinite\" values=\"0.2;0.2;0.2;1.0;1.0;0.2;0.2;1.0;1.0;0.2;0.2\"/>\n</circle>\n<circle cx=\"1150\" cy=\"-750\" fill=\"#72D5C8\" opacity=\"0.2\" r=\"35\">\n<animate attributeName=\"cy\" dur=\"15.120000000000001s\" keyTimes=\"0.0;0.0181818182;0.0363636364;0.0545454545;0.0727272727;0.0909090909;0.1090909091;0.1272727273;0.1454545455;0.1636363636;0.1818181818;0.2;0.2181818182;0.2363636364;0.2545454545;0.2727272727;0.2909090909;0.3090909091;0.3272727273;0.3454545455;0.3636363636;0.3818181818;0.4;0.4181818182;0.4363636364;0.4545454545;0.4727272727;0.4909090909;0.5090909091;0.5272727273;0.5454545455;0.5636363636;0.5818181818;0.6;0.6181818182;0.6363636364;0.6909090909;0.7090909091;0.7272727273;0.7454545455;0.7636363636;0.7818181818;0.8;0.8181818182;0.8363636364;0.8545454545;0.8727272727;0.8909090909;0.9090909091;0.9272727273;0.9454545455;0.9636363636;0.9818181818;1.0\" repeatCount=\"indefinite\" values=\"-750;-750;-750;-650;-650;-750;-750;-650;-650;-750;-750;-650;-650;-750;-750;-650;-650;-750;-750;-650;-650;-750;-750;-650;-650;-750;-750;-650;-650;-750;-750;-650;-650;-750;-750;-650;-650;-550;-550;-650;-650;-550;-550;-650;-650;-550;-550;-650;-650;-550;-550;-650;-650;-550\"/>\n<animate attributeName=\"cx\" dur=\"15.120000000000001s\" keyTimes=\"0.0;0.0181818182;0.0363636364;0.0545454545;0.0727272727;0.0909090909;0.1090909091;0.1272727273;0.1454545455;0.1636363636;0.1818181818;0.2;0.2181818182;0.2363636364;0.2545454545;0.2727272727;0.2909090909;0.3090909091;0.3272727273;0.3454545455;0.3636363636;0.3818181818;0.4;0.4181818182;0.4363636364;0.4545454545;0.4727272727;0.4909090909;0.5090909091;0.5272727273;0.5454545455;0.5636363636;0.5818181818;0.6;0.6181818182;0.6363636364;0.6545454545;0.6727272727;0.6909090909;0.7090909091;0.7272727273;0.7454545455;0.7636363636;0.7818181818;0.8;0.8181818182;0.8363636364;0.8545454545;0.8727272727;0.8909090909;0.9090909091;0.9272727273;0.9454545455;0.9636363636;0.9818181818;1.0\" repeatCount=\"indefinite\" values=\"1150;1150;1250;1250;1150;1150;1250;1250;1150;1150;1250;1250;1150;1150;1250;1250;1150;1150;1250;1250;1150;1150;1250;1250;1150;1150;1250;1250;1150;1150;1250;1250;1150;1150;1250;1250;1150;1150;1250;1250;1150;1150;1250;1250;1150;1150;1250;1250;1150;1150;1250;1250;1150;1150;1250;1250\"/>\n<animate attributeName=\"visibility\" dur=\"15.120000000000001s\" keyTimes=\"0.0;0.0181818182;1.0\" repeatCount=\"indefinite\" values=\"visible;visible;visible\"/>\n<animate attributeName=\"opacity\" dur=\"15.120000000000001s\" keyTimes=\"0.0;0.0181818182;0.5272727273;0.5454545455;0.8181818182;0.8363636364;1.0\" repeatCount=\"indefinite\" values=\"0.2;0.2;0.2;1.0;1.0;0.2;0.2\"/>\n</circle>\n<circle cx=\"3150\" cy=\"-750\" fill=\"#72D5C8\" opacity=\"0.2\" r=\"35\">\n<animate attributeName=\"cy\" dur=\"15.120000000000001s\" keyTimes=\"0.0;0.0181818182;0.0363636364;0.0545454545;0.0727272727;0.1454545455;0.1636363636;0.1818181818;0.3818181818;0.4;0.4727272727;0.4909090909;0.5090909091;0.5818181818;0.6;0.6181818182;0.6909090909;0.7090909091;0.7272727273;0.8;0.8181818182;0.8363636364;0.9090909091;0.9272727273;0.9454545455;1.0\" repeatCount=\"indefinite\" values=\"-750;-750;-750;-850;-750;-750;-850;-750;-750;-650;-650;-750;-650;-650;-750;-650;-650;-750;-650;-650;-750;-650;-650;-750;-650;-650\"/>\n<animate attributeName=\"cx\" dur=\"15.120000000000001s\" keyTimes=\"0.0;0.0181818182;0.0363636364;0.0727272727;0.0909090909;0.1090909091;0.1272727273;0.1454545455;0.1818181818;0.2;0.2181818182;0.2363636364;0.2909090909;0.3090909091;0.3272727273;0.3454545455;0.3636363636;0.4;0.4181818182;0.4363636364;0.4545454545;0.4727272727;0.5090909091;0.5272727273;0.5454545455;0.5636363636;0.5818181818;0.6181818182;0.6363636364;0.6545454545;0.6727272727;0.6909090909;0.7272727273;0.7454545455;0.7636363636;0.7818181818;0.8;0.8363636364;0.8545454545;0.8727272727;0.8909090909;0.9090909091;0.9454545455;0.9636363636;0.9818181818;1.0\" repeatCount=\"indefinite\" values=\"3150;3150;3250;3250;3350;3250;3150;3250;3250;3350;3250;3150;3150;3250;3150;3050;3150;3150;3250;3150;3050;3150;3150;3250;3150;3050;3150;3150;3250;3150;3050;3150;3150;3250;3150;3050;3150;3150;3250;3150;3050;3150;3150;3250;3150;3050\"/>\n<animate attributeName=\"visibility\" dur=\"15.120000000000001s\" keyTimes=\"0.0;0.0181818182;1.0\" repeatCount=\"indefinite\" values=\"visible;visible;visible\"/>\n<animate attributeName=\"opacity\" dur=\"15.120000000000001s\" keyTimes=\"0.0;0.0181818182;0.1090909091;0.1272727273;0.3636363636;0.3818181818;1.0\" repeatCount=\"indefinite\" values=\"0.2;0.2;0.2;1.0;1.0;0.2;0.2\"/>\n</circle>\n<circle cx=\"3350\" cy=\"-1850\" fill=\"#c1433c\" r=\"35\">\n<animate attributeName=\"cy\" dur=\"15.120000000000001s\" keyTimes=\"0.0;0.0181818182;0.0363636364;0.0545454545;0.0727272727;0.0909090909;0.1090909091;0.1272727273;0.1454545455;0.1636363636;0.1818181818;0.2;0.2181818182;0.2363636364;0.2545454545;0.5272727273;0.5454545455;0.6727272727;0.6909090909;0.7454545455;0.7636363636;0.7818181818;0.8;0.8181818182;0.8363636364;0.8545454545;0.8727272727;0.8909090909;0.9090909091;0.9272727273;0.9454545455;0.9636363636;0.9818181818;1.0\" repeatCount=\"indefinite\" values=\"-1850;-1850;-1750;-1650;-1550;-1450;-1350;-1250;-1150;-1050;-950;-950;-850;-750;-650;-650;-750;-750;-650;-650;-750;-850;-950;-1050;-1050;-1150;-1250;-1350;-1450;-1550;-1650;-1750;-1850;-1950\"/>\n<animate attributeName=\"cx\" dur=\"15.120000000000001s\" keyTimes=\"0.0;0.0181818182;0.1818181818;0.2;0.2545454545;0.2727272727;0.2909090909;0.3090909091;0.3272727273;0.3454545455;0.3636363636;0.3818181818;0.4;0.4181818182;0.4363636364;0.4545454545;0.4727272727;0.4909090909;0.5090909091;0.5272727273;0.5454545455;0.5636363636;0.5818181818;0.6;0.6181818182;0.6363636364;0.6545454545;0.6727272727;0.6909090909;0.7090909091;0.7272727273;0.7454545455;0.8181818182;0.8363636364;1.0\" repeatCount=\"indefinite\" values=\"3350;3350;3350;3250;3250;3150;3050;2950;2850;2750;2650;2550;2450;2350;2250;2150;2050;1950;1850;1750;1750;1650;1550;1450;1350;1250;1150;1050;1050;950;850;750;750;650;650\"/>\n<animate attributeName=\"visibility\" dur=\"15.120000000000001s\" keyTimes=\"0.0;0.0181818182;0.9818181818;1.0\" repeatCount=\"indefinite\" values=\"visible;visible;visible;hidden\"/>\n<animate attributeName=\"opacity\" dur=\"15.120000000000001s\" keyTimes=\"0.0;0.0181818182;1.0\" repeatCount=\"indefinite\" values=\"1.0;1.0;1.0\"/>\n</circle>\n<circle cx=\"650\" cy=\"-1950\" fill=\"none\" r=\"35\" stroke=\"#c1433c\" stroke-width=\"10\"/>\n</svg>"
          },
          "metadata": {}
        },
        {
          "output_type": "stream",
          "name": "stdout",
          "text": [
            "CPU times: user 156 ms, sys: 0 ns, total: 156 ms\n",
            "Wall time: 157 ms\n"
          ]
        }
      ]
    },
    {
      "cell_type": "markdown",
      "source": [
        "## Тест для n агентов!"
      ],
      "metadata": {
        "id": "gLdE3dTXmEiy"
      }
    },
    {
      "cell_type": "markdown",
      "source": [
        "### Код теста"
      ],
      "metadata": {
        "id": "5lwRtJesnQEK"
      }
    },
    {
      "cell_type": "markdown",
      "source": [
        "Пока работает с одним, ибо A* для одного"
      ],
      "metadata": {
        "id": "D6lwXS3No8EF"
      }
    },
    {
      "cell_type": "code",
      "source": [
        "def get_start_and_goal(env):\n",
        "    d = grid_config.obs_radius\n",
        "    starts = []\n",
        "    goals = []\n",
        "    for x, y in env.grid.positions_xy:\n",
        "        starts.append((x - d, y - d))\n",
        "    for x, y in env.grid.finishes_xy:\n",
        "        goals.append((x - d, y - d))\n",
        "    return starts, goals"
      ],
      "metadata": {
        "id": "gJ9lZIgSsEHA"
      },
      "execution_count": 289,
      "outputs": []
    },
    {
      "cell_type": "code",
      "source": [
        "def one_test_with_config(search_func, grid_config, *args):    \n",
        "    env = gym.make('Pogema-v0', config=grid_config)\n",
        "    env = AnimationMonitor(env)\n",
        "    env.reset()\n",
        "    starts, goals = get_start_and_goal(env)\n",
        "\n",
        "    # env.render()\n",
        "\n",
        "    task_map = Map_pogema()\n",
        "    task_map.set_map(env.grid.obstacles, grid_config.obs_radius)\n",
        "\n",
        "    dyn_obst_traj = []\n",
        "    ca_table = CATable(dyn_obst_traj)\n",
        "\n",
        "    start = Node(*starts[0]) # TODO: и в search_func передавать все начальные и конечные точки\n",
        "    goal = Node(*goals[0])\n",
        "\n",
        "    result = search_func(task_map, ca_table, start.i, start.j, goal.i, goal.j, *args)\n",
        "    \n",
        "    number_of_steps = result[2]\n",
        "    nodes_created = result[3]\n",
        "    if result[0]:\n",
        "        path, length = make_path(result[1]) \n",
        "        paths = [path] # TODO: для мультиагентности сделать список всех путей агентов\n",
        "        print(\"Path found! Length: \" + str(length) + \\\n",
        "              \". Nodes created: \" + str(nodes_created) + \\\n",
        "              \". Number of steps: \" + str(number_of_steps))\n",
        "        draw(env, dyn_obst_traj, paths)\n",
        "        \n",
        "    else:\n",
        "        print(\"Path not found!\")"
      ],
      "metadata": {
        "id": "8LaFah_cnPSO"
      },
      "execution_count": 294,
      "outputs": []
    },
    {
      "cell_type": "code",
      "source": [
        "def massive_test(search_func, grid_config, num_tests, format=-1, *args):  \n",
        "    makespan = []\n",
        "    ISR = []\n",
        "    CSR = [] \n",
        "    for iter_test in range(num_tests):\n",
        "        env = gym.make('Pogema-v0', config=grid_config)\n",
        "        env = AnimationMonitor(env)\n",
        "        env.reset()\n",
        "\n",
        "        starts, goals = get_start_and_goal(env)\n",
        "\n",
        "        task_map = Map_pogema()\n",
        "        task_map.set_map(env.grid.obstacles, grid_config.obs_radius)\n",
        "\n",
        "        dyn_obst_traj = []\n",
        "        ca_table = CATable(dyn_obst_traj)\n",
        "\n",
        "        start = Node(*starts[0]) # TODO: и в search_func передавать все начальные и конечные точки\n",
        "        goal = Node(*goals[0])\n",
        "\n",
        "        result = search_func(task_map, ca_table, start.i, start.j, goal.i, goal.j, *args)\n",
        "        \n",
        "        number_of_steps = result[2]\n",
        "        nodes_created = result[3]\n",
        "        \n",
        "        if result[0]:\n",
        "            path, length = make_path(result[1]) \n",
        "            paths = [path] # TODO: для мультиагентности сделать список всех путей агентов\n",
        "            if format==0:\n",
        "                print(\"Path found! Length: \" + str(length) + \\\n",
        "                    \". Nodes created: \" + str(nodes_created) + \\\n",
        "                    \". Number of steps: \" + str(number_of_steps))\n",
        "            CSR.append(int(result[0]))\n",
        "        else:\n",
        "            print(\"Path not found!\")\n",
        "    print('CSR --', np.array(CSR).mean())\n",
        "\n",
        "\n",
        "            \n"
      ],
      "metadata": {
        "id": "Csbr6I35uVbn"
      },
      "execution_count": 308,
      "outputs": []
    },
    {
      "cell_type": "markdown",
      "source": [
        "### Код эксперимента"
      ],
      "metadata": {
        "id": "F1htp9pcnTTA"
      }
    },
    {
      "cell_type": "markdown",
      "source": [
        "Один тест с анимацией"
      ],
      "metadata": {
        "id": "MI9pUXOAyKAi"
      }
    },
    {
      "cell_type": "code",
      "source": [
        "grid_config = GridConfig(num_agents=1,  # number of agents\n",
        "                         size=8, # size of the grid\n",
        "                         density=0.3,  # obstacle density\n",
        "                         seed=0,  # set to None for random \n",
        "                                  # obstacles, agents and targets \n",
        "                                  # positions at each reset\n",
        "                         max_episode_steps=128,  # horizon\n",
        "                         obs_radius=5,  # defines field of view\n",
        "                         )\n"
      ],
      "metadata": {
        "id": "xkKxwDAVmgk7"
      },
      "execution_count": 303,
      "outputs": []
    },
    {
      "cell_type": "code",
      "source": [
        "%time one_test_with_config(astar_timesteps, grid_config, manhattan_distance, SearchTree)"
      ],
      "metadata": {
        "colab": {
          "base_uri": "https://localhost:8080/",
          "height": 254
        },
        "id": "ZIfvhVtft6PE",
        "outputId": "895a9f11-7ea6-476d-c5c5-649a1f2ed70b"
      },
      "execution_count": 304,
      "outputs": [
        {
          "output_type": "stream",
          "name": "stdout",
          "text": [
            "Path found! Length: 11. Nodes created: 89. Number of steps: 31\n"
          ]
        },
        {
          "output_type": "display_data",
          "data": {
            "text/plain": [
              "<IPython.core.display.SVG object>"
            ],
            "image/svg+xml": "<svg height=\"180\" viewBox=\"0 -1800 1800 1800\" width=\"180\" xmlns=\"http://www.w3.org/2000/svg\" xmlns:xlink=\"http://www.w3.org/1999/xlink\">\n<defs>\n</defs>\n<rect fill=\"#84A1AE\" height=\"70\" rx=\"15\" width=\"70\" x=\"415\" y=\"-485\"/>\n<rect fill=\"#84A1AE\" height=\"70\" rx=\"15\" width=\"70\" x=\"415\" y=\"-585\"/>\n<rect fill=\"#84A1AE\" height=\"70\" rx=\"15\" width=\"70\" x=\"415\" y=\"-685\"/>\n<rect fill=\"#84A1AE\" height=\"70\" rx=\"15\" width=\"70\" x=\"415\" y=\"-785\"/>\n<rect fill=\"#84A1AE\" height=\"70\" rx=\"15\" width=\"70\" x=\"415\" y=\"-885\"/>\n<rect fill=\"#84A1AE\" height=\"70\" rx=\"15\" width=\"70\" x=\"415\" y=\"-985\"/>\n<rect fill=\"#84A1AE\" height=\"70\" rx=\"15\" width=\"70\" x=\"415\" y=\"-1085\"/>\n<rect fill=\"#84A1AE\" height=\"70\" rx=\"15\" width=\"70\" x=\"415\" y=\"-1185\"/>\n<rect fill=\"#84A1AE\" height=\"70\" rx=\"15\" width=\"70\" x=\"415\" y=\"-1285\"/>\n<rect fill=\"#84A1AE\" height=\"70\" rx=\"15\" width=\"70\" x=\"415\" y=\"-1385\"/>\n<rect fill=\"#84A1AE\" height=\"70\" rx=\"15\" width=\"70\" x=\"515\" y=\"-485\"/>\n<rect fill=\"#84A1AE\" height=\"70\" rx=\"15\" width=\"70\" x=\"515\" y=\"-1085\"/>\n<rect fill=\"#84A1AE\" height=\"70\" rx=\"15\" width=\"70\" x=\"515\" y=\"-1385\"/>\n<rect fill=\"#84A1AE\" height=\"70\" rx=\"15\" width=\"70\" x=\"615\" y=\"-485\"/>\n<rect fill=\"#84A1AE\" height=\"70\" rx=\"15\" width=\"70\" x=\"615\" y=\"-585\"/>\n<rect fill=\"#84A1AE\" height=\"70\" rx=\"15\" width=\"70\" x=\"615\" y=\"-685\"/>\n<rect fill=\"#84A1AE\" height=\"70\" rx=\"15\" width=\"70\" x=\"615\" y=\"-885\"/>\n<rect fill=\"#84A1AE\" height=\"70\" rx=\"15\" width=\"70\" x=\"615\" y=\"-1185\"/>\n<rect fill=\"#84A1AE\" height=\"70\" rx=\"15\" width=\"70\" x=\"615\" y=\"-1385\"/>\n<rect fill=\"#84A1AE\" height=\"70\" rx=\"15\" width=\"70\" x=\"715\" y=\"-485\"/>\n<rect fill=\"#84A1AE\" height=\"70\" rx=\"15\" width=\"70\" x=\"715\" y=\"-685\"/>\n<rect fill=\"#84A1AE\" height=\"70\" rx=\"15\" width=\"70\" x=\"715\" y=\"-985\"/>\n<rect fill=\"#84A1AE\" height=\"70\" rx=\"15\" width=\"70\" x=\"715\" y=\"-1185\"/>\n<rect fill=\"#84A1AE\" height=\"70\" rx=\"15\" width=\"70\" x=\"715\" y=\"-1385\"/>\n<rect fill=\"#84A1AE\" height=\"70\" rx=\"15\" width=\"70\" x=\"815\" y=\"-485\"/>\n<rect fill=\"#84A1AE\" height=\"70\" rx=\"15\" width=\"70\" x=\"815\" y=\"-985\"/>\n<rect fill=\"#84A1AE\" height=\"70\" rx=\"15\" width=\"70\" x=\"815\" y=\"-1385\"/>\n<rect fill=\"#84A1AE\" height=\"70\" rx=\"15\" width=\"70\" x=\"915\" y=\"-485\"/>\n<rect fill=\"#84A1AE\" height=\"70\" rx=\"15\" width=\"70\" x=\"915\" y=\"-685\"/>\n<rect fill=\"#84A1AE\" height=\"70\" rx=\"15\" width=\"70\" x=\"915\" y=\"-1185\"/>\n<rect fill=\"#84A1AE\" height=\"70\" rx=\"15\" width=\"70\" x=\"915\" y=\"-1285\"/>\n<rect fill=\"#84A1AE\" height=\"70\" rx=\"15\" width=\"70\" x=\"915\" y=\"-1385\"/>\n<rect fill=\"#84A1AE\" height=\"70\" rx=\"15\" width=\"70\" x=\"1015\" y=\"-485\"/>\n<rect fill=\"#84A1AE\" height=\"70\" rx=\"15\" width=\"70\" x=\"1015\" y=\"-785\"/>\n<rect fill=\"#84A1AE\" height=\"70\" rx=\"15\" width=\"70\" x=\"1015\" y=\"-885\"/>\n<rect fill=\"#84A1AE\" height=\"70\" rx=\"15\" width=\"70\" x=\"1015\" y=\"-1285\"/>\n<rect fill=\"#84A1AE\" height=\"70\" rx=\"15\" width=\"70\" x=\"1015\" y=\"-1385\"/>\n<rect fill=\"#84A1AE\" height=\"70\" rx=\"15\" width=\"70\" x=\"1115\" y=\"-485\"/>\n<rect fill=\"#84A1AE\" height=\"70\" rx=\"15\" width=\"70\" x=\"1115\" y=\"-885\"/>\n<rect fill=\"#84A1AE\" height=\"70\" rx=\"15\" width=\"70\" x=\"1115\" y=\"-1185\"/>\n<rect fill=\"#84A1AE\" height=\"70\" rx=\"15\" width=\"70\" x=\"1115\" y=\"-1385\"/>\n<rect fill=\"#84A1AE\" height=\"70\" rx=\"15\" width=\"70\" x=\"1215\" y=\"-485\"/>\n<rect fill=\"#84A1AE\" height=\"70\" rx=\"15\" width=\"70\" x=\"1215\" y=\"-1285\"/>\n<rect fill=\"#84A1AE\" height=\"70\" rx=\"15\" width=\"70\" x=\"1215\" y=\"-1385\"/>\n<rect fill=\"#84A1AE\" height=\"70\" rx=\"15\" width=\"70\" x=\"1315\" y=\"-485\"/>\n<rect fill=\"#84A1AE\" height=\"70\" rx=\"15\" width=\"70\" x=\"1315\" y=\"-585\"/>\n<rect fill=\"#84A1AE\" height=\"70\" rx=\"15\" width=\"70\" x=\"1315\" y=\"-685\"/>\n<rect fill=\"#84A1AE\" height=\"70\" rx=\"15\" width=\"70\" x=\"1315\" y=\"-785\"/>\n<rect fill=\"#84A1AE\" height=\"70\" rx=\"15\" width=\"70\" x=\"1315\" y=\"-885\"/>\n<rect fill=\"#84A1AE\" height=\"70\" rx=\"15\" width=\"70\" x=\"1315\" y=\"-985\"/>\n<rect fill=\"#84A1AE\" height=\"70\" rx=\"15\" width=\"70\" x=\"1315\" y=\"-1085\"/>\n<rect fill=\"#84A1AE\" height=\"70\" rx=\"15\" width=\"70\" x=\"1315\" y=\"-1185\"/>\n<rect fill=\"#84A1AE\" height=\"70\" rx=\"15\" width=\"70\" x=\"1315\" y=\"-1285\"/>\n<rect fill=\"#84A1AE\" height=\"70\" rx=\"15\" width=\"70\" x=\"1315\" y=\"-1385\"/>\n<circle cx=\"750\" cy=\"-1250\" fill=\"#c1433c\" r=\"35\">\n<animate attributeName=\"cy\" dur=\"3.3600000000000003s\" keyTimes=\"0.0;0.0769230769;0.1538461538;0.2307692308;0.3076923077;0.3846153846;0.4615384615;0.5384615385;0.6153846154;0.6923076923;0.7692307692;0.8461538462;1.0\" repeatCount=\"indefinite\" values=\"-1250;-1250;-1250;-1150;-1050;-1050;-950;-850;-750;-750;-650;-550;-550\"/>\n<animate attributeName=\"cx\" dur=\"3.3600000000000003s\" keyTimes=\"0.0;0.0769230769;0.1538461538;0.3076923077;0.3846153846;0.6153846154;0.6923076923;0.8461538462;0.9230769231;1.0\" repeatCount=\"indefinite\" values=\"750;750;850;850;950;950;850;850;950;950\"/>\n<animate attributeName=\"visibility\" dur=\"3.3600000000000003s\" keyTimes=\"0.0;0.0769230769;0.8461538462;0.9230769231;1.0\" repeatCount=\"indefinite\" values=\"visible;visible;visible;hidden;hidden\"/>\n</circle>\n<circle cx=\"950\" cy=\"-550\" fill=\"none\" r=\"35\" stroke=\"#c1433c\" stroke-width=\"10\">\n<animate attributeName=\"visibility\" dur=\"3.3600000000000003s\" keyTimes=\"0.0;0.0769230769;0.8461538462;0.9230769231;1.0\" repeatCount=\"indefinite\" values=\"visible;visible;visible;hidden;hidden\"/>\n</circle>\n</svg>"
          },
          "metadata": {}
        },
        {
          "output_type": "stream",
          "name": "stdout",
          "text": [
            "CPU times: user 18.3 ms, sys: 1.02 ms, total: 19.3 ms\n",
            "Wall time: 20.2 ms\n"
          ]
        }
      ]
    },
    {
      "cell_type": "markdown",
      "source": [
        "Несколько тестов с метриками (доделаю)"
      ],
      "metadata": {
        "id": "oGU6jW1OyPDD"
      }
    },
    {
      "cell_type": "code",
      "source": [
        "grid_config_m = GridConfig(num_agents=1,  # number of agents\n",
        "                         size=64, # size of the grid\n",
        "                         density=0.3,  # obstacle density\n",
        "                         max_episode_steps=128,  # horizon\n",
        "                         obs_radius=5,  # defines field of view\n",
        "                         )"
      ],
      "metadata": {
        "id": "34cN4y0Xxivw"
      },
      "execution_count": 311,
      "outputs": []
    },
    {
      "cell_type": "code",
      "source": [
        "%time massive_test(astar_timesteps, grid_config_m, 10, -1, manhattan_distance, SearchTree)"
      ],
      "metadata": {
        "colab": {
          "base_uri": "https://localhost:8080/"
        },
        "id": "aSk6z6laxpk1",
        "outputId": "0c35017c-a1c6-42df-b6b5-15728e7f296f"
      },
      "execution_count": 312,
      "outputs": [
        {
          "output_type": "stream",
          "name": "stdout",
          "text": [
            "CSR -- 1.0\n",
            "CPU times: user 1.07 s, sys: 8.15 ms, total: 1.08 s\n",
            "Wall time: 1.09 s\n"
          ]
        }
      ]
    },
    {
      "cell_type": "markdown",
      "source": [
        "Определенные карты (доделаю)"
      ],
      "metadata": {
        "id": "huxABQH7yT1e"
      }
    },
    {
      "cell_type": "code",
      "source": [
        "grid = \"\"\"\n",
        "######.######\n",
        "######.######\n",
        "######.######\n",
        "######.######\n",
        "######.######\n",
        "######.######\n",
        ".............\n",
        "######.######\n",
        "######.######\n",
        "######.######\n",
        "######.######\n",
        "######.######\n",
        "######.######\n",
        "\"\"\"\n",
        "grid_config = GridConfig(map=grid, num_agents=3, seed=41)"
      ],
      "metadata": {
        "id": "oontKWZlmxOx"
      },
      "execution_count": null,
      "outputs": []
    }
  ],
  "metadata": {
    "kernelspec": {
      "display_name": "Python 3",
      "language": "python",
      "name": "python3"
    },
    "language_info": {
      "codemirror_mode": {
        "name": "ipython",
        "version": 3
      },
      "file_extension": ".py",
      "mimetype": "text/x-python",
      "name": "python",
      "nbconvert_exporter": "python",
      "pygments_lexer": "ipython3",
      "version": "3.9.2"
    },
    "colab": {
      "name": "astar_dynamic_obstacles-lab.ipynb",
      "provenance": [],
      "collapsed_sections": []
    }
  },
  "nbformat": 4,
  "nbformat_minor": 0
}