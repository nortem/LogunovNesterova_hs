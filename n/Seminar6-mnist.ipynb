{
  "cells": [
    {
      "cell_type": "markdown",
      "metadata": {
        "id": "view-in-github",
        "colab_type": "text"
      },
      "source": [
        "<a href=\"https://colab.research.google.com/github/nortem/LogunovNesterova_hs/blob/main/n/Seminar6-mnist.ipynb\" target=\"_parent\"><img src=\"https://colab.research.google.com/assets/colab-badge.svg\" alt=\"Open In Colab\"/></a>"
      ]
    },
    {
      "cell_type": "markdown",
      "id": "79914840",
      "metadata": {
        "papermill": {
          "duration": 0.025184,
          "end_time": "2021-09-06T14:30:02.217784",
          "exception": false,
          "start_time": "2021-09-06T14:30:02.192600",
          "status": "completed"
        },
        "tags": [],
        "id": "79914840"
      },
      "source": [
        "# MNIST - Spiking neural network with spike timing dependent plasticity\n",
        "\n",
        "The purpose of this work is to demonstrate local learning rules (STDP) whit the MNIST handwritten digit classification problem. The main ideas are taken from the article [Unsupervised learning of digit recognition using spike-timing-dependent plasticity](https://www.frontiersin.org/articles/10.3389/fncom.2015.00099/full), but the experiment was reconstructed with significant changes from the original work."
      ]
    },
    {
      "cell_type": "markdown",
      "id": "7598c9b9",
      "metadata": {
        "papermill": {
          "duration": 0.020858,
          "end_time": "2021-09-06T14:30:02.260929",
          "exception": false,
          "start_time": "2021-09-06T14:30:02.240071",
          "status": "completed"
        },
        "tags": [],
        "id": "7598c9b9"
      },
      "source": [
        "## Spiking neural network architecture\n",
        "\n",
        "To model neuron dynamics leaky integrate-and-fire model is used. Synapses are modeled by conductance changes, i.e., synapses increase their conductance instantaneously by the synaptic weight when a presynaptic spike arrives at the synapse, otherwise the conductance is decaying exponentially.\n",
        "\n",
        "The network consists of two layers. The first layer is the input layer, containing 28 × 28 neurons (one neuron per image pixel), and the second layer is the processing layer, containing 100 excitatory neurons and 100 inhibitory neurons. Each input is a Poisson spike-train, which is fed to the excitatory neurons of the second layer for the 350 ms following by 150 ms resting period. The rates of each neuron are proportional (devided by 4) to the intensity of the corresponding pixel in the example image.\n",
        "\n",
        "The excitatory neurons of the second layer are connected in a one-to-one fashion to inhibitory neurons, i.e., each spike in an excitatory neuron will trigger a spike in its corresponding inhibitory neuron. Each of the inhibitory neurons is connected to all excitatory ones, except for the one from which it receives a connection. This connectivity provides lateral inhibition and leads to competition among excitatory neurons. All synapses from input neurons to excitatory neurons are learned using STDP. The weights of the remaining synapses are fixed.\n",
        "\n",
        "![image.png](attachment:ad6a31c8-9ff4-4e0c-b688-532c1cb8bb43.png)\n",
        "\n",
        "To understand this part I recomend [https://www.coursera.org/learn/synapses/](https://www.coursera.org/learn/synapses/)"
      ]
    },
    {
      "cell_type": "markdown",
      "id": "033459d5",
      "metadata": {
        "papermill": {
          "duration": 0.017551,
          "end_time": "2021-09-06T14:30:02.296132",
          "exception": false,
          "start_time": "2021-09-06T14:30:02.278581",
          "status": "completed"
        },
        "tags": [],
        "id": "033459d5"
      },
      "source": [
        "## Experiment design and observed results\n",
        "\n",
        "1. Feed train set to SNN described above\n",
        "2. Freeze STDP\n",
        "3. Feed train set to SNN again and collect generated features (spike counts foreach excitatory neuron during single image representation)\n",
        "4. Train RandomForest on the top of these features and labels provided\n",
        "5. Feed test set to SNN and collect new features\n",
        "6. Predict labels with RandomForest and calculate accuacy score\n",
        "\n",
        "It reaches 0.9 accuracy on the test set with only 5k training examples and 3 classes. In order to understand whether local learning affects the result, the experiment was repeated but without training SNN with STDP. Second experiment scored 0.74, which clearly shows the efficiency of local training."
      ]
    },
    {
      "cell_type": "code",
      "execution_count": 1,
      "id": "1645d89e",
      "metadata": {
        "execution": {
          "iopub.execute_input": "2021-09-06T14:30:02.358439Z",
          "iopub.status.busy": "2021-09-06T14:30:02.345875Z",
          "iopub.status.idle": "2021-09-06T14:30:24.415780Z",
          "shell.execute_reply": "2021-09-06T14:30:24.416297Z",
          "shell.execute_reply.started": "2021-09-03T05:43:15.576159Z"
        },
        "papermill": {
          "duration": 22.102914,
          "end_time": "2021-09-06T14:30:24.416671",
          "exception": false,
          "start_time": "2021-09-06T14:30:02.313757",
          "status": "completed"
        },
        "tags": [],
        "colab": {
          "base_uri": "https://localhost:8080/"
        },
        "id": "1645d89e",
        "outputId": "9e2327b7-9595-4b4e-f44b-544852986a17"
      },
      "outputs": [
        {
          "output_type": "stream",
          "name": "stdout",
          "text": [
            "Looking in indexes: https://pypi.org/simple, https://us-python.pkg.dev/colab-wheels/public/simple/\n",
            "Collecting brian2\n",
            "  Downloading Brian2-2.5.1-cp37-cp37m-manylinux_2_17_x86_64.manylinux2014_x86_64.whl (1.5 MB)\n",
            "\u001b[K     |████████████████████████████████| 1.5 MB 24.8 MB/s \n",
            "\u001b[?25hRequirement already satisfied: jinja2>=2.7 in /usr/local/lib/python3.7/dist-packages (from brian2) (2.11.3)\n",
            "Requirement already satisfied: numpy>=1.17 in /usr/local/lib/python3.7/dist-packages (from brian2) (1.21.6)\n",
            "Requirement already satisfied: sympy>=1.2 in /usr/local/lib/python3.7/dist-packages (from brian2) (1.7.1)\n",
            "Requirement already satisfied: setuptools>=24.2 in /usr/local/lib/python3.7/dist-packages (from brian2) (57.4.0)\n",
            "Requirement already satisfied: cython>=0.29 in /usr/local/lib/python3.7/dist-packages (from brian2) (0.29.32)\n",
            "Requirement already satisfied: pyparsing in /usr/local/lib/python3.7/dist-packages (from brian2) (3.0.9)\n",
            "Requirement already satisfied: MarkupSafe>=0.23 in /usr/local/lib/python3.7/dist-packages (from jinja2>=2.7->brian2) (2.0.1)\n",
            "Requirement already satisfied: mpmath>=0.19 in /usr/local/lib/python3.7/dist-packages (from sympy>=1.2->brian2) (1.2.1)\n",
            "Installing collected packages: brian2\n",
            "Successfully installed brian2-2.5.1\n"
          ]
        }
      ],
      "source": [
        "# brian2 is a simulator for spiking neural networks. It allows to simulate neuraldinamics \n",
        "# using custom differential equations, but it is very computationally intensive.\n",
        "# https://brian2.readthedocs.io/en/stable/resources/tutorials/index.html\n",
        "\n",
        "!pip install brian2"
      ]
    },
    {
      "cell_type": "code",
      "execution_count": 2,
      "id": "f31fbd61",
      "metadata": {
        "_cell_guid": "b1076dfc-b9ad-4769-8c92-a6c4dae69d19",
        "_uuid": "8f2839f25d086af736a60e9eeb907d3b93b6e0e5",
        "execution": {
          "iopub.execute_input": "2021-09-06T14:30:24.473479Z",
          "iopub.status.busy": "2021-09-06T14:30:24.472429Z",
          "iopub.status.idle": "2021-09-06T14:30:38.183509Z",
          "shell.execute_reply": "2021-09-06T14:30:38.183993Z",
          "shell.execute_reply.started": "2021-09-03T05:43:36.448131Z"
        },
        "papermill": {
          "duration": 13.741849,
          "end_time": "2021-09-06T14:30:38.184191",
          "exception": false,
          "start_time": "2021-09-06T14:30:24.442342",
          "status": "completed"
        },
        "tags": [],
        "id": "f31fbd61"
      },
      "outputs": [],
      "source": [
        "from keras.datasets import mnist\n",
        "from brian2 import *\n",
        "import brian2.numpy_ as np\n",
        "import matplotlib.pyplot as plt\n",
        "from sklearn.ensemble import RandomForestClassifier\n",
        "from sklearn.metrics import accuracy_score, confusion_matrix"
      ]
    },
    {
      "cell_type": "code",
      "execution_count": 3,
      "id": "46a19aab",
      "metadata": {
        "execution": {
          "iopub.execute_input": "2021-09-06T14:30:38.254944Z",
          "iopub.status.busy": "2021-09-06T14:30:38.254252Z",
          "iopub.status.idle": "2021-09-06T14:30:39.107573Z",
          "shell.execute_reply": "2021-09-06T14:30:39.106534Z",
          "shell.execute_reply.started": "2021-09-03T05:43:47.743883Z"
        },
        "papermill": {
          "duration": 0.897633,
          "end_time": "2021-09-06T14:30:39.107721",
          "exception": false,
          "start_time": "2021-09-06T14:30:38.210088",
          "status": "completed"
        },
        "tags": [],
        "colab": {
          "base_uri": "https://localhost:8080/"
        },
        "id": "46a19aab",
        "outputId": "da8184bd-7bd2-41c3-e613-971c11851a7d"
      },
      "outputs": [
        {
          "output_type": "stream",
          "name": "stdout",
          "text": [
            "Downloading data from https://storage.googleapis.com/tensorflow/tf-keras-datasets/mnist.npz\n",
            "11493376/11490434 [==============================] - 0s 0us/step\n",
            "11501568/11490434 [==============================] - 0s 0us/step\n"
          ]
        },
        {
          "output_type": "execute_result",
          "data": {
            "text/plain": [
              "((18516, 28, 28), (3089, 28, 28))"
            ]
          },
          "metadata": {},
          "execution_count": 3
        }
      ],
      "source": [
        "(X_train, y_train), (X_test, y_test) = mnist.load_data()\n",
        "\n",
        "# simplified classification (0 1 and 8)\n",
        "X_train = X_train[(y_train == 1) | (y_train == 0) | (y_train == 8)]\n",
        "y_train = y_train[(y_train == 1) | (y_train == 0) | (y_train == 8)]\n",
        "X_test = X_test[(y_test == 1) | (y_test == 0) | (y_test == 8)]\n",
        "y_test = y_test[(y_test == 1) | (y_test == 0) | (y_test == 8)]\n",
        "\n",
        "# pixel intensity to Hz (255 becoms ~63Hz)\n",
        "X_train = X_train / 4 \n",
        "X_test = X_test / 4\n",
        "\n",
        "X_train.shape, X_test.shape"
      ]
    },
    {
      "cell_type": "code",
      "execution_count": 4,
      "id": "8fa35b30",
      "metadata": {
        "execution": {
          "iopub.execute_input": "2021-09-06T14:30:39.185834Z",
          "iopub.status.busy": "2021-09-06T14:30:39.185132Z",
          "iopub.status.idle": "2021-09-06T14:30:40.898821Z",
          "shell.execute_reply": "2021-09-06T14:30:40.899357Z",
          "shell.execute_reply.started": "2021-09-03T05:43:48.436345Z"
        },
        "papermill": {
          "duration": 1.763654,
          "end_time": "2021-09-06T14:30:40.899538",
          "exception": false,
          "start_time": "2021-09-06T14:30:39.135884",
          "status": "completed"
        },
        "tags": [],
        "colab": {
          "base_uri": "https://localhost:8080/",
          "height": 482
        },
        "id": "8fa35b30",
        "outputId": "55504eff-3a05-4ebd-cbaf-2f15ca00a2ba"
      },
      "outputs": [
        {
          "output_type": "display_data",
          "data": {
            "text/plain": [
              "<Figure size 1152x576 with 32 Axes>"
            ],
            "image/png": "[encoded data removed]"
          },
          "metadata": {
            "needs_background": "light"
          }
        }
      ],
      "source": [
        "plt.figure(figsize=(16,8))\n",
        "for img in range(32):\n",
        "    plt.subplot(4,8,1+img)\n",
        "    plt.title(y_train[img])\n",
        "    plt.imshow(X_train[img])\n",
        "    plt.axis('off')"
      ]
    },
    {
      "cell_type": "code",
      "source": [
        "def draw_patterns(patterns):\n",
        "  fig, ax = plt.subplots(nrows = 1, ncols = len(patterns), figsize=(10,5))\n",
        "  for i,p in enumerate(patterns):\n",
        "    ax[i].imshow(patterns[i], cmap='Greys')\n",
        "    ax[i].tick_params(axis='both', labelbottom=False, labeltop=False, labelleft=False, labelright=False,\n",
        "                             bottom=False, top=False, left=False, right=False)\n",
        "\n",
        "left_up = np.array([1, 0, 0,\n",
        "                 0, 1, 0,\n",
        "                 0, 0, 1]).reshape(3,3)\n",
        "left_bottom = np.array([0, 0, 1,\n",
        "                  0, 1, 0,\n",
        "                  1, 0, 0]).reshape(3,3)\n",
        "plus = np.array([0, 1, 0,\n",
        "                 1, 1, 1,\n",
        "                 0, 1, 0]).reshape(3,3)\n",
        "cross = np.array([1, 0, 1,\n",
        "                  0, 1, 0,\n",
        "                  1, 0, 1]).reshape(3,3)\n",
        "patterns = [left_up, left_bottom, plus, cross]\n",
        "draw_patterns(patterns)\n"
      ],
      "metadata": {
        "colab": {
          "base_uri": "https://localhost:8080/",
          "height": 152
        },
        "id": "hYYdlWqqj1on",
        "outputId": "a44b0634-1932-4d03-bcac-0f86af251404"
      },
      "id": "hYYdlWqqj1on",
      "execution_count": 7,
      "outputs": [
        {
          "output_type": "display_data",
          "data": {
            "text/plain": [
              "<Figure size 720x360 with 4 Axes>"
            ],
            "image/png": "[encoded data removed]"
          },
          "metadata": {}
        }
      ]
    },
    {
      "cell_type": "code",
      "source": [
        "N_SAMPLE_CLASS = 10\n",
        "rng = np.random.default_rng()\n",
        "X = []\n",
        "Y = []\n",
        "sigma = 0.25\n",
        "for j,p in enumerate(patterns):\n",
        "  for i in range(N_SAMPLE_CLASS):\n",
        "    X += [np.clip(p + sigma*rng.standard_normal(p.shape),0,1)]\n",
        "    Y += [j]\n",
        "  for i in range(5):\n",
        "    X += [p]\n",
        "    Y += [j] \n",
        "fig,axes = plt.subplots(len(patterns),5)\n",
        "#plt.tick_params(axis='both', bottom=False, top=False, left=False, right=False)\n",
        "for ip in range(len(patterns)):\n",
        "  for ix in range(5):\n",
        "    axes[ip][ix].imshow(X[ix+ip*N_SAMPLE_CLASS], cmap=\"Greys\")\n",
        "    axes[ip][ix].tick_params(axis='both', labelbottom=False, labeltop=False, labelleft=False, labelright=False,\n",
        "                             bottom=False, top=False, left=False, right=False)"
      ],
      "metadata": {
        "colab": {
          "base_uri": "https://localhost:8080/",
          "height": 248
        },
        "id": "VAh-IQRzj_fd",
        "outputId": "4ae1afc3-e05f-4c75-e2b6-2a6390df62b1"
      },
      "id": "VAh-IQRzj_fd",
      "execution_count": 17,
      "outputs": [
        {
          "output_type": "display_data",
          "data": {
            "text/plain": [
              "<Figure size 432x288 with 20 Axes>"
            ],
            "image/png": "[encoded data removed]"
          },
          "metadata": {}
        }
      ]
    },
    {
      "cell_type": "code",
      "source": [
        "X_train = np.array(X) * 63.75\n",
        "Y_train = np.array(Y)"
      ],
      "metadata": {
        "id": "SAyAmm-nlZVt"
      },
      "id": "SAyAmm-nlZVt",
      "execution_count": 21,
      "outputs": []
    },
    {
      "cell_type": "code",
      "source": [
        "X.shape"
      ],
      "metadata": {
        "colab": {
          "base_uri": "https://localhost:8080/"
        },
        "id": "2AcAAkBHlvjL",
        "outputId": "fe368af9-1850-4c24-9fdf-ba8b0de38bf4"
      },
      "id": "2AcAAkBHlvjL",
      "execution_count": 19,
      "outputs": [
        {
          "output_type": "execute_result",
          "data": {
            "text/plain": [
              "(60, 3, 3)"
            ]
          },
          "metadata": {},
          "execution_count": 19
        }
      ]
    },
    {
      "cell_type": "code",
      "source": [
        "X_test = np.array(patterns)\n",
        "Y_test = np.array([0, 1, 2, 3])"
      ],
      "metadata": {
        "id": "59aZuBD1kYDa"
      },
      "id": "59aZuBD1kYDa",
      "execution_count": 23,
      "outputs": []
    },
    {
      "cell_type": "code",
      "execution_count": 24,
      "id": "1c9bffbe",
      "metadata": {
        "execution": {
          "iopub.execute_input": "2021-09-06T14:30:40.986691Z",
          "iopub.status.busy": "2021-09-06T14:30:40.984522Z",
          "iopub.status.idle": "2021-09-06T14:30:40.990084Z",
          "shell.execute_reply": "2021-09-06T14:30:40.989506Z",
          "shell.execute_reply.started": "2021-09-03T05:44:01.649827Z"
        },
        "papermill": {
          "duration": 0.060942,
          "end_time": "2021-09-06T14:30:40.990239",
          "exception": false,
          "start_time": "2021-09-06T14:30:40.929297",
          "status": "completed"
        },
        "tags": [],
        "id": "1c9bffbe"
      },
      "outputs": [],
      "source": [
        "\n",
        "start_scope()\n",
        "n_input = 3*3 # input layer\n",
        "n_e = 16 # e - excitatory\n",
        "n_i = n_e # i - inhibitory\n",
        "\n",
        "v_rest_e = -60.*mV # v - membrane potential\n",
        "v_reset_e = -65.*mV\n",
        "v_thresh_e = -52.*mV\n",
        "\n",
        "v_rest_i = -60.*mV\n",
        "v_reset_i = -45.*mV\n",
        "v_thresh_i = -40.*mV\n",
        "\n",
        "taupre = 20*ms\n",
        "taupost = taupre\n",
        "gmax = .1 #.01\n",
        "dApre = .01\n",
        "dApost = -dApre * taupre / taupost * 1.05\n",
        "dApost *= gmax \n",
        "dApre *= gmax \n",
        "\n",
        "# Apre and Apost - presynaptic and postsynaptic traces, lr - learning rate\n",
        "stdp='''w : 1\n",
        "    lr : 1 (shared)\n",
        "    dApre/dt = -Apre / taupre : 1 (event-driven)\n",
        "    dApost/dt = -Apost / taupost : 1 (event-driven)'''\n",
        "pre='''ge += w\n",
        "    Apre += dApre\n",
        "    w = clip(w + lr*Apost, 0, gmax)'''\n",
        "post='''Apost += dApost\n",
        "    w = clip(w + lr*Apre, 0, gmax)'''\n",
        "\n",
        "class Model():\n",
        "    \n",
        "    def __init__(self, debug=False):\n",
        "        app = {}\n",
        "                \n",
        "        # input images as rate encoded Poisson generators\n",
        "        app['PG'] = PoissonGroup(n_input, rates=np.zeros(n_input)*Hz, name='PG')\n",
        "        \n",
        "        # excitatory group\n",
        "        neuron_e = '''\n",
        "            dv/dt = (ge*(0*mV-v) + gi*(-100*mV-v) + (v_rest_e-v)) / (100*ms) : volt\n",
        "            dge/dt = -ge / (5*ms) : 1\n",
        "            dgi/dt = -gi / (10*ms) : 1\n",
        "            '''\n",
        "        app['EG'] = NeuronGroup(n_e, neuron_e, threshold='v>v_thresh_e', refractory=5*ms, reset='v=v_reset_e', method='euler', name='EG')\n",
        "        app['EG'].v = v_rest_e - 20.*mV\n",
        "        \n",
        "        if (debug):\n",
        "            app['ESP'] = SpikeMonitor(app['EG'], name='ESP')\n",
        "            app['ESM'] = StateMonitor(app['EG'], ['v'], record=True, name='ESM')\n",
        "            app['ERM'] = PopulationRateMonitor(app['EG'], name='ERM')\n",
        "        \n",
        "        # ibhibitory group\n",
        "        neuron_i = '''\n",
        "            dv/dt = (ge*(0*mV-v) + (v_rest_i-v)) / (10*ms) : volt\n",
        "            dge/dt = -ge / (5*ms) : 1\n",
        "            '''\n",
        "        app['IG'] = NeuronGroup(n_i, neuron_i, threshold='v>v_thresh_i', refractory=2*ms, reset='v=v_reset_i', method='euler', name='IG')\n",
        "        app['IG'].v = v_rest_i - 20.*mV\n",
        "\n",
        "        if (debug):\n",
        "            app['ISP'] = SpikeMonitor(app['IG'], name='ISP')\n",
        "            app['ISM'] = StateMonitor(app['IG'], ['v'], record=True, name='ISM')\n",
        "            app['IRM'] = PopulationRateMonitor(app['IG'], name='IRM')\n",
        "        \n",
        "        # poisson generators one-to-all excitatory neurons with plastic connections \n",
        "        app['S1'] = Synapses(app['PG'], app['EG'], stdp, on_pre=pre, on_post=post, method='euler', name='S1')\n",
        "        app['S1'].connect()\n",
        "        app['S1'].w = 'rand()*gmax' # random weights initialisation\n",
        "        app['S1'].lr = 1 # enable stdp        \n",
        "        \n",
        "        if (debug):\n",
        "            # some synapses\n",
        "            app['S1M'] = StateMonitor(app['S1'], ['w', 'Apre', 'Apost'], record=app['S1'][380,:4], name='S1M') \n",
        "        \n",
        "        # excitatory neurons one-to-one inhibitory neurons\n",
        "        app['S2'] = Synapses(app['EG'], app['IG'], 'w : 1', on_pre='ge += w', name='S2')\n",
        "        app['S2'].connect(j='i')\n",
        "        app['S2'].delay = 'rand()*10*ms'\n",
        "        app['S2'].w = 3 # very strong fixed weights to ensure corresponding inhibitory neuron will always fire\n",
        "\n",
        "        # inhibitory neurons one-to-all-except-one excitatory neurons\n",
        "        app['S3'] = Synapses(app['IG'], app['EG'], 'w : 1', on_pre='gi += w', name='S3')\n",
        "        app['S3'].connect(condition='i!=j')\n",
        "        app['S3'].delay = 'rand()*5*ms'\n",
        "        app['S3'].w = .03 # weights are selected in such a way as to maintain a balance between excitation and ibhibition\n",
        "        \n",
        "        self.net = Network(app.values())\n",
        "        self.net.run(0*second)\n",
        "        \n",
        "    def __getitem__(self, key):\n",
        "        return self.net[key]\n",
        "    \n",
        "    def train(self, X, epoch=1):        \n",
        "        self.net['S1'].lr = 1 # stdp on\n",
        "        \n",
        "        for ep in range(epoch):\n",
        "            for idx in range(len(X)):\n",
        "                # active mode\n",
        "                self.net['PG'].rates = X[idx].ravel()*Hz\n",
        "                self.net.run(0.35*second)\n",
        "\n",
        "                # passive mode\n",
        "                self.net['PG'].rates = np.zeros(n_input)*Hz\n",
        "                self.net.run(0.15*second)\n",
        "        \n",
        "    def evaluate(self, X):       \n",
        "        self.net['S1'].lr = 0  # stdp off\n",
        "        \n",
        "        features = []\n",
        "        for idx in range(len(X)):\n",
        "            # rate monitor to count spikes\n",
        "            mon = SpikeMonitor(self.net['EG'], name='RM')\n",
        "            self.net.add(mon)\n",
        "            \n",
        "            # active mode\n",
        "            self.net['PG'].rates = X[idx].ravel()*Hz\n",
        "            self.net.run(0.35*second)\n",
        "            \n",
        "            # spikes per neuron foreach image\n",
        "            features.append(np.array(mon.count, dtype=int8))\n",
        "            \n",
        "            # passive mode\n",
        "            self.net['PG'].rates = np.zeros(n_input)*Hz\n",
        "            self.net.run(0.15*second)\n",
        "            \n",
        "            self.net.remove(self.net['RM'])\n",
        "            \n",
        "        return features"
      ]
    },
    {
      "cell_type": "code",
      "source": [
        "#TODO 2: change the neuron to LIF\n",
        "b2.start_scope()\n",
        "\n",
        "taum = 10*b2.ms\n",
        "taupre = taupost = 10*b2.ms\n",
        "wmax = 1\n",
        "Apre = 0.1\n",
        "Apost = -Apre*taupre/taupost*1.05\n",
        "v_rest = 0\n",
        "v_th = 0.5\n",
        "\n",
        "neuron_eq = '''\n",
        "            dv/dt = ((v_rest - v) + I)/ taum : 1\n",
        "            I : 1\n",
        "            '''\n",
        "#threshold='t>(1+i)*10*ms'\n",
        "G = b2.NeuronGroup(2, neuron_eq, threshold='v>v_th', refractory=5*b2.ms)\n",
        "G.v = [0, 0]\n",
        "G.I = [1, 0]\n",
        "#TODO 4: change to event-driven\n",
        "\n",
        "#!!!!!!! (event-driven) - изменения только по событиям - вычислительно эконоомно\n",
        "S = b2.Synapses(G, G,\n",
        "             '''\n",
        "             w : 1\n",
        "             dapre/dt = -apre/taupre : 1 (event-driven)\n",
        "             dapost/dt = -apost/taupost : 1 (event-driven)\n",
        "             ''',\n",
        "             on_pre='''\n",
        "             v_post += w\n",
        "             apre += Apre\n",
        "             w = clip(w+apost, 0, wmax)\n",
        "             ''',\n",
        "             on_post='''\n",
        "             apost += Apost\n",
        "             w = clip(w+apre, 0, wmax)\n",
        "             ''')\n",
        "\n",
        "S.connect(i=0, j=1)\n",
        "S.w[0] = 0.25 #!!!! начальное значение веса\n",
        "M = b2.StateMonitor(S, ['w', 'apre', 'apost'], record=True)\n",
        "s_mon = b2.SpikeMonitor(G)\n",
        "\n",
        "T_run = 100*b2.ms\n",
        "b2.run(T_run)"
      ],
      "metadata": {
        "id": "MEkVoftFhGZj"
      },
      "id": "MEkVoftFhGZj",
      "execution_count": null,
      "outputs": []
    },
    {
      "cell_type": "code",
      "execution_count": 25,
      "id": "3a41257f",
      "metadata": {
        "execution": {
          "iopub.execute_input": "2021-09-06T14:30:41.065000Z",
          "iopub.status.busy": "2021-09-06T14:30:41.064269Z",
          "iopub.status.idle": "2021-09-06T14:33:34.482575Z",
          "shell.execute_reply": "2021-09-06T14:33:34.483205Z",
          "shell.execute_reply.started": "2021-09-03T05:44:16.901335Z"
        },
        "papermill": {
          "duration": 173.46483,
          "end_time": "2021-09-06T14:33:34.483437",
          "exception": false,
          "start_time": "2021-09-06T14:30:41.018607",
          "status": "completed"
        },
        "tags": [],
        "colab": {
          "base_uri": "https://localhost:8080/",
          "height": 843
        },
        "id": "3a41257f",
        "outputId": "2b6b60fb-6796-4661-c6e4-b8bde7e28aee"
      },
      "outputs": [
        {
          "output_type": "stream",
          "name": "stderr",
          "text": [
            "WARNING    'i' is an internal variable of group 'S2', but also exists in the run namespace with the value 4. The internal variable will be used. [brian2.groups.group.Group.resolve.resolution_conflict]\n",
            "WARNING    'j' is an internal variable of group 'S3', but also exists in the run namespace with the value 3. The internal variable will be used. [brian2.groups.group.Group.resolve.resolution_conflict]\n",
            "WARNING    'i' is an internal variable of group 'S3', but also exists in the run namespace with the value 4. The internal variable will be used. [brian2.groups.group.Group.resolve.resolution_conflict]\n"
          ]
        },
        {
          "output_type": "error",
          "ename": "BrianObjectException",
          "evalue": "ignored",
          "traceback": [
            "\u001b[0;31m---------------------------------------------------------------------------\u001b[0m",
            "\u001b[0;31mImportError\u001b[0m                               Traceback (most recent call last)",
            "\u001b[0;32m/usr/local/lib/python3.7/dist-packages/brian2/core/network.py\u001b[0m in \u001b[0;36mbefore_run\u001b[0;34m(self, run_namespace)\u001b[0m\n\u001b[1;32m    891\u001b[0m                 \u001b[0;32mtry\u001b[0m\u001b[0;34m:\u001b[0m\u001b[0;34m\u001b[0m\u001b[0;34m\u001b[0m\u001b[0m\n\u001b[0;32m--> 892\u001b[0;31m                     \u001b[0mobj\u001b[0m\u001b[0;34m.\u001b[0m\u001b[0mbefore_run\u001b[0m\u001b[0;34m(\u001b[0m\u001b[0mrun_namespace\u001b[0m\u001b[0;34m)\u001b[0m\u001b[0;34m\u001b[0m\u001b[0;34m\u001b[0m\u001b[0m\n\u001b[0m\u001b[1;32m    893\u001b[0m                 \u001b[0;32mexcept\u001b[0m \u001b[0mException\u001b[0m \u001b[0;32mas\u001b[0m \u001b[0mex\u001b[0m\u001b[0;34m:\u001b[0m\u001b[0;34m\u001b[0m\u001b[0;34m\u001b[0m\u001b[0m\n",
            "\u001b[0;32m/usr/local/lib/python3.7/dist-packages/brian2/groups/group.py\u001b[0m in \u001b[0;36mbefore_run\u001b[0;34m(self, run_namespace)\u001b[0m\n\u001b[1;32m   1136\u001b[0m     \u001b[0;32mdef\u001b[0m \u001b[0mbefore_run\u001b[0m\u001b[0;34m(\u001b[0m\u001b[0mself\u001b[0m\u001b[0;34m,\u001b[0m \u001b[0mrun_namespace\u001b[0m\u001b[0;34m)\u001b[0m\u001b[0;34m:\u001b[0m\u001b[0;34m\u001b[0m\u001b[0;34m\u001b[0m\u001b[0m\n\u001b[0;32m-> 1137\u001b[0;31m         \u001b[0mself\u001b[0m\u001b[0;34m.\u001b[0m\u001b[0mcreate_code_objects\u001b[0m\u001b[0;34m(\u001b[0m\u001b[0mrun_namespace\u001b[0m\u001b[0;34m)\u001b[0m\u001b[0;34m\u001b[0m\u001b[0;34m\u001b[0m\u001b[0m\n\u001b[0m\u001b[1;32m   1138\u001b[0m         \u001b[0msuper\u001b[0m\u001b[0;34m(\u001b[0m\u001b[0mCodeRunner\u001b[0m\u001b[0;34m,\u001b[0m \u001b[0mself\u001b[0m\u001b[0;34m)\u001b[0m\u001b[0;34m.\u001b[0m\u001b[0mbefore_run\u001b[0m\u001b[0;34m(\u001b[0m\u001b[0mrun_namespace\u001b[0m\u001b[0;34m)\u001b[0m\u001b[0;34m\u001b[0m\u001b[0;34m\u001b[0m\u001b[0m\n",
            "\u001b[0;32m/usr/local/lib/python3.7/dist-packages/brian2/groups/group.py\u001b[0m in \u001b[0;36mcreate_code_objects\u001b[0;34m(self, run_namespace)\u001b[0m\n\u001b[1;32m   1129\u001b[0m         \u001b[0;31m# Overwrite this function to use more than one.\u001b[0m\u001b[0;34m\u001b[0m\u001b[0;34m\u001b[0m\u001b[0;34m\u001b[0m\u001b[0m\n\u001b[0;32m-> 1130\u001b[0;31m         \u001b[0mcode_object\u001b[0m \u001b[0;34m=\u001b[0m \u001b[0mself\u001b[0m\u001b[0;34m.\u001b[0m\u001b[0mcreate_default_code_object\u001b[0m\u001b[0;34m(\u001b[0m\u001b[0mrun_namespace\u001b[0m\u001b[0;34m)\u001b[0m\u001b[0;34m\u001b[0m\u001b[0;34m\u001b[0m\u001b[0m\n\u001b[0m\u001b[1;32m   1131\u001b[0m         \u001b[0;32mif\u001b[0m \u001b[0mcode_object\u001b[0m\u001b[0;34m:\u001b[0m\u001b[0;34m\u001b[0m\u001b[0;34m\u001b[0m\u001b[0m\n",
            "\u001b[0;32m/usr/local/lib/python3.7/dist-packages/brian2/groups/group.py\u001b[0m in \u001b[0;36mcreate_default_code_object\u001b[0;34m(self, run_namespace)\u001b[0m\n\u001b[1;32m   1122\u001b[0m                                                  \u001b[0moverride_conditional_write\u001b[0m\u001b[0;34m=\u001b[0m\u001b[0mself\u001b[0m\u001b[0;34m.\u001b[0m\u001b[0moverride_conditional_write\u001b[0m\u001b[0;34m,\u001b[0m\u001b[0;34m\u001b[0m\u001b[0;34m\u001b[0m\u001b[0m\n\u001b[0;32m-> 1123\u001b[0;31m                                                  \u001b[0mcodeobj_class\u001b[0m\u001b[0;34m=\u001b[0m\u001b[0mself\u001b[0m\u001b[0;34m.\u001b[0m\u001b[0mcodeobj_class\u001b[0m\u001b[0;34m\u001b[0m\u001b[0;34m\u001b[0m\u001b[0m\n\u001b[0m\u001b[1;32m   1124\u001b[0m                                                  )\n",
            "\u001b[0;32m/usr/local/lib/python3.7/dist-packages/brian2/codegen/codeobject.py\u001b[0m in \u001b[0;36mcreate_runner_codeobj\u001b[0;34m(group, code, template_name, run_namespace, user_code, variable_indices, name, check_units, needed_variables, additional_variables, template_kwds, override_conditional_write, codeobj_class)\u001b[0m\n\u001b[1;32m    443\u001b[0m                               \u001b[0moverride_conditional_write\u001b[0m\u001b[0;34m=\u001b[0m\u001b[0moverride_conditional_write\u001b[0m\u001b[0;34m,\u001b[0m\u001b[0;34m\u001b[0m\u001b[0;34m\u001b[0m\u001b[0m\n\u001b[0;32m--> 444\u001b[0;31m                               \u001b[0mcompiler_kwds\u001b[0m\u001b[0;34m=\u001b[0m\u001b[0mcompiler_kwds\u001b[0m\u001b[0;34m\u001b[0m\u001b[0;34m\u001b[0m\u001b[0m\n\u001b[0m\u001b[1;32m    445\u001b[0m                               )\n",
            "\u001b[0;32m/usr/local/lib/python3.7/dist-packages/brian2/devices/device.py\u001b[0m in \u001b[0;36mcode_object\u001b[0;34m(self, owner, name, abstract_code, variables, template_name, variable_indices, codeobj_class, template_kwds, override_conditional_write, compiler_kwds)\u001b[0m\n\u001b[1;32m    323\u001b[0m                                 name=name, compiler_kwds=compiler_kwds)\n\u001b[0;32m--> 324\u001b[0;31m         \u001b[0mcodeobj\u001b[0m\u001b[0;34m.\u001b[0m\u001b[0mcompile\u001b[0m\u001b[0;34m(\u001b[0m\u001b[0;34m)\u001b[0m\u001b[0;34m\u001b[0m\u001b[0;34m\u001b[0m\u001b[0m\n\u001b[0m\u001b[1;32m    325\u001b[0m         \u001b[0;32mreturn\u001b[0m \u001b[0mcodeobj\u001b[0m\u001b[0;34m\u001b[0m\u001b[0;34m\u001b[0m\u001b[0m\n",
            "\u001b[0;32m/usr/local/lib/python3.7/dist-packages/brian2/codegen/codeobject.py\u001b[0m in \u001b[0;36mcompile\u001b[0;34m(self)\u001b[0m\n\u001b[1;32m     99\u001b[0m         \u001b[0;32mfor\u001b[0m \u001b[0mblock\u001b[0m \u001b[0;32min\u001b[0m \u001b[0;34m[\u001b[0m\u001b[0;34m'before_run'\u001b[0m\u001b[0;34m,\u001b[0m \u001b[0;34m'run'\u001b[0m\u001b[0;34m,\u001b[0m \u001b[0;34m'after_run'\u001b[0m\u001b[0;34m]\u001b[0m\u001b[0;34m:\u001b[0m\u001b[0;34m\u001b[0m\u001b[0;34m\u001b[0m\u001b[0m\n\u001b[0;32m--> 100\u001b[0;31m             \u001b[0mself\u001b[0m\u001b[0;34m.\u001b[0m\u001b[0mcompiled_code\u001b[0m\u001b[0;34m[\u001b[0m\u001b[0mblock\u001b[0m\u001b[0;34m]\u001b[0m \u001b[0;34m=\u001b[0m \u001b[0mself\u001b[0m\u001b[0;34m.\u001b[0m\u001b[0mcompile_block\u001b[0m\u001b[0;34m(\u001b[0m\u001b[0mblock\u001b[0m\u001b[0;34m)\u001b[0m\u001b[0;34m\u001b[0m\u001b[0;34m\u001b[0m\u001b[0m\n\u001b[0m\u001b[1;32m    101\u001b[0m \u001b[0;34m\u001b[0m\u001b[0m\n",
            "\u001b[0;32m/usr/local/lib/python3.7/dist-packages/brian2/codegen/runtime/cython_rt/cython_rt.py\u001b[0m in \u001b[0;36mcompile_block\u001b[0;34m(self, block)\u001b[0m\n\u001b[1;32m    149\u001b[0m             \u001b[0mowner_name\u001b[0m\u001b[0;34m=\u001b[0m\u001b[0;34mf\"{self.owner.name}_{self.template_name}\"\u001b[0m\u001b[0;34m,\u001b[0m\u001b[0;34m\u001b[0m\u001b[0;34m\u001b[0m\u001b[0m\n\u001b[0;32m--> 150\u001b[0;31m             \u001b[0msources\u001b[0m\u001b[0;34m=\u001b[0m\u001b[0mself\u001b[0m\u001b[0;34m.\u001b[0m\u001b[0msources\u001b[0m\u001b[0;34m\u001b[0m\u001b[0;34m\u001b[0m\u001b[0m\n\u001b[0m\u001b[1;32m    151\u001b[0m             )\n",
            "\u001b[0;32m/usr/local/lib/python3.7/dist-packages/brian2/codegen/runtime/cython_rt/extension_manager.py\u001b[0m in \u001b[0;36mcreate_extension\u001b[0;34m(self, code, force, name, define_macros, include_dirs, library_dirs, runtime_library_dirs, extra_compile_args, extra_link_args, libraries, compiler, sources, owner_name)\u001b[0m\n\u001b[1;32m    128\u001b[0m                                            \u001b[0mkey\u001b[0m\u001b[0;34m=\u001b[0m\u001b[0mkey\u001b[0m\u001b[0;34m,\u001b[0m\u001b[0;34m\u001b[0m\u001b[0;34m\u001b[0m\u001b[0m\n\u001b[0;32m--> 129\u001b[0;31m                                            sources=sources)\n\u001b[0m\u001b[1;32m    130\u001b[0m             \u001b[0;32mreturn\u001b[0m \u001b[0mmodule\u001b[0m\u001b[0;34m\u001b[0m\u001b[0;34m\u001b[0m\u001b[0m\n",
            "\u001b[0;32m/usr/local/lib/python3.7/dist-packages/brian2/codegen/runtime/cython_rt/extension_manager.py\u001b[0m in \u001b[0;36m_load_module\u001b[0;34m(self, module_path, define_macros, include_dirs, library_dirs, extra_compile_args, extra_link_args, libraries, code, lib_dir, module_name, runtime_library_dirs, compiler, key, sources)\u001b[0m\n\u001b[1;32m    283\u001b[0m         \u001b[0mspec\u001b[0m \u001b[0;34m=\u001b[0m \u001b[0mimportlib\u001b[0m\u001b[0;34m.\u001b[0m\u001b[0mutil\u001b[0m\u001b[0;34m.\u001b[0m\u001b[0mspec_from_file_location\u001b[0m\u001b[0;34m(\u001b[0m\u001b[0mmodule_name\u001b[0m\u001b[0;34m,\u001b[0m \u001b[0mmodule_path\u001b[0m\u001b[0;34m)\u001b[0m\u001b[0;34m\u001b[0m\u001b[0;34m\u001b[0m\u001b[0m\n\u001b[0;32m--> 284\u001b[0;31m         \u001b[0mmodule\u001b[0m \u001b[0;34m=\u001b[0m \u001b[0mimportlib\u001b[0m\u001b[0;34m.\u001b[0m\u001b[0mutil\u001b[0m\u001b[0;34m.\u001b[0m\u001b[0mmodule_from_spec\u001b[0m\u001b[0;34m(\u001b[0m\u001b[0mspec\u001b[0m\u001b[0;34m)\u001b[0m\u001b[0;34m\u001b[0m\u001b[0;34m\u001b[0m\u001b[0m\n\u001b[0m\u001b[1;32m    285\u001b[0m         \u001b[0mspec\u001b[0m\u001b[0;34m.\u001b[0m\u001b[0mloader\u001b[0m\u001b[0;34m.\u001b[0m\u001b[0mexec_module\u001b[0m\u001b[0;34m(\u001b[0m\u001b[0mmodule\u001b[0m\u001b[0;34m)\u001b[0m\u001b[0;34m\u001b[0m\u001b[0;34m\u001b[0m\u001b[0m\n",
            "\u001b[0;32m/usr/lib/python3.7/importlib/_bootstrap.py\u001b[0m in \u001b[0;36mmodule_from_spec\u001b[0;34m(spec)\u001b[0m\n",
            "\u001b[0;32m/usr/lib/python3.7/importlib/_bootstrap_external.py\u001b[0m in \u001b[0;36mcreate_module\u001b[0;34m(self, spec)\u001b[0m\n",
            "\u001b[0;32m/usr/lib/python3.7/importlib/_bootstrap.py\u001b[0m in \u001b[0;36m_call_with_frames_removed\u001b[0;34m(f, *args, **kwds)\u001b[0m\n",
            "\u001b[0;31mImportError\u001b[0m: /root/.cython/brian_extensions/_cython_magic_26d322b760534228875624e98e436386.cpython-37m-x86_64-linux-gnu.so: file too short",
            "\nThe above exception was the direct cause of the following exception:\n",
            "\u001b[0;31mBrianObjectException\u001b[0m                      Traceback (most recent call last)",
            "\u001b[0;32m<ipython-input-25-4bb8251f4bdd>\u001b[0m in \u001b[0;36m<module>\u001b[0;34m\u001b[0m\n\u001b[1;32m     52\u001b[0m     \u001b[0mplot_spikes\u001b[0m\u001b[0;34m(\u001b[0m\u001b[0mmodel\u001b[0m\u001b[0;34m[\u001b[0m\u001b[0;34m'ESP'\u001b[0m\u001b[0;34m]\u001b[0m\u001b[0;34m,\u001b[0m \u001b[0mmodel\u001b[0m\u001b[0;34m[\u001b[0m\u001b[0;34m'ISP'\u001b[0m\u001b[0;34m]\u001b[0m\u001b[0;34m)\u001b[0m\u001b[0;34m\u001b[0m\u001b[0;34m\u001b[0m\u001b[0m\n\u001b[1;32m     53\u001b[0m \u001b[0;34m\u001b[0m\u001b[0m\n\u001b[0;32m---> 54\u001b[0;31m \u001b[0mtest0\u001b[0m\u001b[0;34m(\u001b[0m\u001b[0;34m)\u001b[0m\u001b[0;34m\u001b[0m\u001b[0;34m\u001b[0m\u001b[0m\n\u001b[0m",
            "\u001b[0;32m<ipython-input-25-4bb8251f4bdd>\u001b[0m in \u001b[0;36mtest0\u001b[0;34m(train_items)\u001b[0m\n\u001b[1;32m     44\u001b[0m     \u001b[0mseed\u001b[0m\u001b[0;34m(\u001b[0m\u001b[0;36m0\u001b[0m\u001b[0;34m)\u001b[0m\u001b[0;34m\u001b[0m\u001b[0;34m\u001b[0m\u001b[0m\n\u001b[1;32m     45\u001b[0m \u001b[0;34m\u001b[0m\u001b[0m\n\u001b[0;32m---> 46\u001b[0;31m     \u001b[0mmodel\u001b[0m \u001b[0;34m=\u001b[0m \u001b[0mModel\u001b[0m\u001b[0;34m(\u001b[0m\u001b[0mdebug\u001b[0m\u001b[0;34m=\u001b[0m\u001b[0;32mTrue\u001b[0m\u001b[0;34m)\u001b[0m\u001b[0;34m\u001b[0m\u001b[0;34m\u001b[0m\u001b[0m\n\u001b[0m\u001b[1;32m     47\u001b[0m     \u001b[0mmodel\u001b[0m\u001b[0;34m.\u001b[0m\u001b[0mtrain\u001b[0m\u001b[0;34m(\u001b[0m\u001b[0mX_train\u001b[0m\u001b[0;34m[\u001b[0m\u001b[0;34m:\u001b[0m\u001b[0mtrain_items\u001b[0m\u001b[0;34m]\u001b[0m\u001b[0;34m,\u001b[0m \u001b[0mepoch\u001b[0m\u001b[0;34m=\u001b[0m\u001b[0;36m1\u001b[0m\u001b[0;34m)\u001b[0m\u001b[0;34m\u001b[0m\u001b[0;34m\u001b[0m\u001b[0m\n\u001b[1;32m     48\u001b[0m \u001b[0;34m\u001b[0m\u001b[0m\n",
            "\u001b[0;32m<ipython-input-24-d4e77d93c452>\u001b[0m in \u001b[0;36m__init__\u001b[0;34m(self, debug)\u001b[0m\n\u001b[1;32m     89\u001b[0m \u001b[0;34m\u001b[0m\u001b[0m\n\u001b[1;32m     90\u001b[0m         \u001b[0mself\u001b[0m\u001b[0;34m.\u001b[0m\u001b[0mnet\u001b[0m \u001b[0;34m=\u001b[0m \u001b[0mNetwork\u001b[0m\u001b[0;34m(\u001b[0m\u001b[0mapp\u001b[0m\u001b[0;34m.\u001b[0m\u001b[0mvalues\u001b[0m\u001b[0;34m(\u001b[0m\u001b[0;34m)\u001b[0m\u001b[0;34m)\u001b[0m\u001b[0;34m\u001b[0m\u001b[0;34m\u001b[0m\u001b[0m\n\u001b[0;32m---> 91\u001b[0;31m         \u001b[0mself\u001b[0m\u001b[0;34m.\u001b[0m\u001b[0mnet\u001b[0m\u001b[0;34m.\u001b[0m\u001b[0mrun\u001b[0m\u001b[0;34m(\u001b[0m\u001b[0;36m0\u001b[0m\u001b[0;34m*\u001b[0m\u001b[0msecond\u001b[0m\u001b[0;34m)\u001b[0m\u001b[0;34m\u001b[0m\u001b[0;34m\u001b[0m\u001b[0m\n\u001b[0m\u001b[1;32m     92\u001b[0m \u001b[0;34m\u001b[0m\u001b[0m\n\u001b[1;32m     93\u001b[0m     \u001b[0;32mdef\u001b[0m \u001b[0m__getitem__\u001b[0m\u001b[0;34m(\u001b[0m\u001b[0mself\u001b[0m\u001b[0;34m,\u001b[0m \u001b[0mkey\u001b[0m\u001b[0;34m)\u001b[0m\u001b[0;34m:\u001b[0m\u001b[0;34m\u001b[0m\u001b[0;34m\u001b[0m\u001b[0m\n",
            "\u001b[0;32m/usr/local/lib/python3.7/dist-packages/brian2/core/base.py\u001b[0m in \u001b[0;36mdevice_override_decorated_function\u001b[0;34m(*args, **kwds)\u001b[0m\n\u001b[1;32m    291\u001b[0m                 \u001b[0;32mreturn\u001b[0m \u001b[0mgetattr\u001b[0m\u001b[0;34m(\u001b[0m\u001b[0mcurdev\u001b[0m\u001b[0;34m,\u001b[0m \u001b[0mname\u001b[0m\u001b[0;34m)\u001b[0m\u001b[0;34m(\u001b[0m\u001b[0;34m*\u001b[0m\u001b[0margs\u001b[0m\u001b[0;34m,\u001b[0m \u001b[0;34m**\u001b[0m\u001b[0mkwds\u001b[0m\u001b[0;34m)\u001b[0m\u001b[0;34m\u001b[0m\u001b[0;34m\u001b[0m\u001b[0m\n\u001b[1;32m    292\u001b[0m             \u001b[0;32melse\u001b[0m\u001b[0;34m:\u001b[0m\u001b[0;34m\u001b[0m\u001b[0;34m\u001b[0m\u001b[0m\n\u001b[0;32m--> 293\u001b[0;31m                 \u001b[0;32mreturn\u001b[0m \u001b[0mfunc\u001b[0m\u001b[0;34m(\u001b[0m\u001b[0;34m*\u001b[0m\u001b[0margs\u001b[0m\u001b[0;34m,\u001b[0m \u001b[0;34m**\u001b[0m\u001b[0mkwds\u001b[0m\u001b[0;34m)\u001b[0m\u001b[0;34m\u001b[0m\u001b[0;34m\u001b[0m\u001b[0m\n\u001b[0m\u001b[1;32m    294\u001b[0m \u001b[0;34m\u001b[0m\u001b[0m\n\u001b[1;32m    295\u001b[0m         \u001b[0mdevice_override_decorated_function\u001b[0m\u001b[0;34m.\u001b[0m\u001b[0moriginal_function\u001b[0m \u001b[0;34m=\u001b[0m \u001b[0mfunc\u001b[0m\u001b[0;34m\u001b[0m\u001b[0;34m\u001b[0m\u001b[0m\n",
            "\u001b[0;32m/usr/local/lib/python3.7/dist-packages/brian2/units/fundamentalunits.py\u001b[0m in \u001b[0;36mnew_f\u001b[0;34m(*args, **kwds)\u001b[0m\n\u001b[1;32m   2460\u001b[0m                                                      get_dimensions(newkeyset[k]))\n\u001b[1;32m   2461\u001b[0m \u001b[0;34m\u001b[0m\u001b[0m\n\u001b[0;32m-> 2462\u001b[0;31m             \u001b[0mresult\u001b[0m \u001b[0;34m=\u001b[0m \u001b[0mf\u001b[0m\u001b[0;34m(\u001b[0m\u001b[0;34m*\u001b[0m\u001b[0margs\u001b[0m\u001b[0;34m,\u001b[0m \u001b[0;34m**\u001b[0m\u001b[0mkwds\u001b[0m\u001b[0;34m)\u001b[0m\u001b[0;34m\u001b[0m\u001b[0;34m\u001b[0m\u001b[0m\n\u001b[0m\u001b[1;32m   2463\u001b[0m             \u001b[0;32mif\u001b[0m \u001b[0;34m'result'\u001b[0m \u001b[0;32min\u001b[0m \u001b[0mau\u001b[0m\u001b[0;34m:\u001b[0m\u001b[0;34m\u001b[0m\u001b[0;34m\u001b[0m\u001b[0m\n\u001b[1;32m   2464\u001b[0m                 \u001b[0;32mif\u001b[0m \u001b[0misinstance\u001b[0m\u001b[0;34m(\u001b[0m\u001b[0mau\u001b[0m\u001b[0;34m[\u001b[0m\u001b[0;34m'result'\u001b[0m\u001b[0;34m]\u001b[0m\u001b[0;34m,\u001b[0m \u001b[0mCallable\u001b[0m\u001b[0;34m)\u001b[0m \u001b[0;32mand\u001b[0m \u001b[0mau\u001b[0m\u001b[0;34m[\u001b[0m\u001b[0;34m'result'\u001b[0m\u001b[0;34m]\u001b[0m \u001b[0;34m!=\u001b[0m \u001b[0mbool\u001b[0m\u001b[0;34m:\u001b[0m\u001b[0;34m\u001b[0m\u001b[0;34m\u001b[0m\u001b[0m\n",
            "\u001b[0;32m/usr/local/lib/python3.7/dist-packages/brian2/core/network.py\u001b[0m in \u001b[0;36mrun\u001b[0;34m(self, duration, report, report_period, namespace, profile, level)\u001b[0m\n\u001b[1;32m   1005\u001b[0m             \u001b[0mnamespace\u001b[0m \u001b[0;34m=\u001b[0m \u001b[0mget_local_namespace\u001b[0m\u001b[0;34m(\u001b[0m\u001b[0mlevel\u001b[0m\u001b[0;34m=\u001b[0m\u001b[0mlevel\u001b[0m\u001b[0;34m+\u001b[0m\u001b[0;36m3\u001b[0m\u001b[0;34m)\u001b[0m\u001b[0;34m\u001b[0m\u001b[0;34m\u001b[0m\u001b[0m\n\u001b[1;32m   1006\u001b[0m \u001b[0;34m\u001b[0m\u001b[0m\n\u001b[0;32m-> 1007\u001b[0;31m         \u001b[0mself\u001b[0m\u001b[0;34m.\u001b[0m\u001b[0mbefore_run\u001b[0m\u001b[0;34m(\u001b[0m\u001b[0mnamespace\u001b[0m\u001b[0;34m)\u001b[0m\u001b[0;34m\u001b[0m\u001b[0;34m\u001b[0m\u001b[0m\n\u001b[0m\u001b[1;32m   1008\u001b[0m \u001b[0;34m\u001b[0m\u001b[0m\n\u001b[1;32m   1009\u001b[0m         \u001b[0;32mif\u001b[0m \u001b[0mlen\u001b[0m\u001b[0;34m(\u001b[0m\u001b[0mall_objects\u001b[0m\u001b[0;34m)\u001b[0m \u001b[0;34m==\u001b[0m \u001b[0;36m0\u001b[0m\u001b[0;34m:\u001b[0m\u001b[0;34m\u001b[0m\u001b[0;34m\u001b[0m\u001b[0m\n",
            "\u001b[0;32m/usr/local/lib/python3.7/dist-packages/brian2/core/base.py\u001b[0m in \u001b[0;36mdevice_override_decorated_function\u001b[0;34m(*args, **kwds)\u001b[0m\n\u001b[1;32m    291\u001b[0m                 \u001b[0;32mreturn\u001b[0m \u001b[0mgetattr\u001b[0m\u001b[0;34m(\u001b[0m\u001b[0mcurdev\u001b[0m\u001b[0;34m,\u001b[0m \u001b[0mname\u001b[0m\u001b[0;34m)\u001b[0m\u001b[0;34m(\u001b[0m\u001b[0;34m*\u001b[0m\u001b[0margs\u001b[0m\u001b[0;34m,\u001b[0m \u001b[0;34m**\u001b[0m\u001b[0mkwds\u001b[0m\u001b[0;34m)\u001b[0m\u001b[0;34m\u001b[0m\u001b[0;34m\u001b[0m\u001b[0m\n\u001b[1;32m    292\u001b[0m             \u001b[0;32melse\u001b[0m\u001b[0;34m:\u001b[0m\u001b[0;34m\u001b[0m\u001b[0;34m\u001b[0m\u001b[0m\n\u001b[0;32m--> 293\u001b[0;31m                 \u001b[0;32mreturn\u001b[0m \u001b[0mfunc\u001b[0m\u001b[0;34m(\u001b[0m\u001b[0;34m*\u001b[0m\u001b[0margs\u001b[0m\u001b[0;34m,\u001b[0m \u001b[0;34m**\u001b[0m\u001b[0mkwds\u001b[0m\u001b[0;34m)\u001b[0m\u001b[0;34m\u001b[0m\u001b[0;34m\u001b[0m\u001b[0m\n\u001b[0m\u001b[1;32m    294\u001b[0m \u001b[0;34m\u001b[0m\u001b[0m\n\u001b[1;32m    295\u001b[0m         \u001b[0mdevice_override_decorated_function\u001b[0m\u001b[0;34m.\u001b[0m\u001b[0moriginal_function\u001b[0m \u001b[0;34m=\u001b[0m \u001b[0mfunc\u001b[0m\u001b[0;34m\u001b[0m\u001b[0;34m\u001b[0m\u001b[0m\n",
            "\u001b[0;32m/usr/local/lib/python3.7/dist-packages/brian2/core/network.py\u001b[0m in \u001b[0;36mbefore_run\u001b[0;34m(self, run_namespace)\u001b[0m\n\u001b[1;32m    892\u001b[0m                     \u001b[0mobj\u001b[0m\u001b[0;34m.\u001b[0m\u001b[0mbefore_run\u001b[0m\u001b[0;34m(\u001b[0m\u001b[0mrun_namespace\u001b[0m\u001b[0;34m)\u001b[0m\u001b[0;34m\u001b[0m\u001b[0;34m\u001b[0m\u001b[0m\n\u001b[1;32m    893\u001b[0m                 \u001b[0;32mexcept\u001b[0m \u001b[0mException\u001b[0m \u001b[0;32mas\u001b[0m \u001b[0mex\u001b[0m\u001b[0;34m:\u001b[0m\u001b[0;34m\u001b[0m\u001b[0;34m\u001b[0m\u001b[0m\n\u001b[0;32m--> 894\u001b[0;31m                     \u001b[0;32mraise\u001b[0m \u001b[0mBrianObjectException\u001b[0m\u001b[0;34m(\u001b[0m\u001b[0;34m\"An error occurred when preparing an object.\"\u001b[0m\u001b[0;34m,\u001b[0m \u001b[0mobj\u001b[0m\u001b[0;34m)\u001b[0m \u001b[0;32mfrom\u001b[0m \u001b[0mex\u001b[0m\u001b[0;34m\u001b[0m\u001b[0;34m\u001b[0m\u001b[0m\n\u001b[0m\u001b[1;32m    895\u001b[0m \u001b[0;34m\u001b[0m\u001b[0m\n\u001b[1;32m    896\u001b[0m         \u001b[0;31m# Check that no object has been run as part of another network before\u001b[0m\u001b[0;34m\u001b[0m\u001b[0;34m\u001b[0m\u001b[0;34m\u001b[0m\u001b[0m\n",
            "\u001b[0;31mBrianObjectException\u001b[0m: Error encountered with object named 'ESP'.\nObject was created here (most recent call only, full details in debug log):\n  File '<ipython-input-24-d4e77d93c452>', line 51, in __init__\n    app['ESP'] = SpikeMonitor(app['EG'], name='ESP')\n\nAn error occurred when preparing an object. (See above for original error message and traceback.)"
          ]
        }
      ],
      "source": [
        "def plot_w(S1M):\n",
        "    plt.rcParams[\"figure.figsize\"] = (20,10)\n",
        "    subplot(311)\n",
        "    plot(S1M.t/ms, S1M.w.T/gmax)\n",
        "    ylabel('w / wmax')\n",
        "    subplot(312)\n",
        "    plot(S1M.t/ms, S1M.Apre.T)\n",
        "    ylabel('apre')\n",
        "    subplot(313)\n",
        "    plot(S1M.t/ms, S1M.Apost.T)\n",
        "    ylabel('apost')\n",
        "    tight_layout()\n",
        "    show();\n",
        "    \n",
        "def plot_v(ESM, ISM, neuron=13):\n",
        "    plt.rcParams[\"figure.figsize\"] = (20,6)\n",
        "    cnt = -50000 # tail\n",
        "    plot(ESM.t[cnt:]/ms, ESM.v[neuron][cnt:]/mV, label='exc', color='r')\n",
        "    plot(ISM.t[cnt:]/ms, ISM.v[neuron][cnt:]/mV, label='inh', color='b')\n",
        "    plt.axhline(y=v_thresh_e/mV, color='pink', label='v_thresh_e')\n",
        "    plt.axhline(y=v_thresh_i/mV, color='silver', label='v_thresh_i')\n",
        "    legend()\n",
        "    ylabel('v')\n",
        "    show();\n",
        "    \n",
        "def plot_rates(ERM, IRM):\n",
        "    plt.rcParams[\"figure.figsize\"] = (20,6)\n",
        "    plot(ERM.t/ms, ERM.smooth_rate(window='flat', width=0.1*ms)*Hz, color='r')\n",
        "    plot(IRM.t/ms, IRM.smooth_rate(window='flat', width=0.1*ms)*Hz, color='b')\n",
        "    ylabel('Rate')\n",
        "    show();\n",
        "    \n",
        "def plot_spikes(ESP, ISP):\n",
        "    plt.rcParams[\"figure.figsize\"] = (20,6)\n",
        "    plot(ESP.t/ms, ESP.i, '.r')\n",
        "    plot(ISP.t/ms, ISP.i, '.b')\n",
        "    ylabel('Neuron index')\n",
        "    show();\n",
        "\n",
        "def test0(train_items=30):\n",
        "    '''\n",
        "    STDP visualisation\n",
        "    '''\n",
        "    seed(0)\n",
        "    \n",
        "    model = Model(debug=True)\n",
        "    model.train(X_train[:train_items], epoch=1)\n",
        "    \n",
        "    plot_w(model['S1M'])\n",
        "    plot_v(model['ESM'], model['ISM'])\n",
        "    plot_rates(model['ERM'], model['IRM'])\n",
        "    plot_spikes(model['ESP'], model['ISP'])\n",
        "    \n",
        "test0()"
      ]
    },
    {
      "cell_type": "code",
      "execution_count": null,
      "id": "16b162a2",
      "metadata": {
        "execution": {
          "iopub.execute_input": "2021-09-06T14:33:34.583872Z",
          "iopub.status.busy": "2021-09-06T14:33:34.583071Z",
          "iopub.status.idle": "2021-09-06T18:54:11.686545Z",
          "shell.execute_reply": "2021-09-06T18:54:11.687124Z",
          "shell.execute_reply.started": "2021-09-03T05:47:36.506362Z"
        },
        "papermill": {
          "duration": 15637.158354,
          "end_time": "2021-09-06T18:54:11.687523",
          "exception": false,
          "start_time": "2021-09-06T14:33:34.529169",
          "status": "completed"
        },
        "tags": [],
        "colab": {
          "base_uri": "https://localhost:8080/"
        },
        "id": "16b162a2",
        "outputId": "6a1de300-7d77-4300-c119-0d1766187784"
      },
      "outputs": [
        {
          "output_type": "stream",
          "name": "stdout",
          "text": [
            "0.965\n",
            "0.835\n",
            "[[49  0 15]\n",
            " [ 3 78  5]\n",
            " [ 8  2 40]]\n"
          ]
        }
      ],
      "source": [
        "def test1(train_items=5000, assign_items=1000, eval_items=1000):\n",
        "    '''\n",
        "    Feed train set to SNN with STDP\n",
        "    Freeze STDP\n",
        "    Feed train set to SNN again and collect generated features\n",
        "    Train RandomForest on the top of these features and labels provided\n",
        "    Feed test set to SNN and collect new features\n",
        "    Predict labels with RandomForest and calculate accuacy score\n",
        "    '''\n",
        "    seed(0)\n",
        "    \n",
        "    model = Model()\n",
        "    model.train(X_train[:train_items], epoch=1)\n",
        "    model.net.store('train', 'train.b2')\n",
        "    #model.net.restore('train', './train.b2')\n",
        "    \n",
        "    f_train = model.evaluate(X_train[:assign_items])\n",
        "    clf = RandomForestClassifier(max_depth=4, random_state=0)\n",
        "    clf.fit(f_train, y_train[:assign_items])\n",
        "    print(clf.score(f_train, y_train[:assign_items]))\n",
        "\n",
        "    f_test = model.evaluate(X_test[:eval_items])\n",
        "    y_pred = clf.predict(f_test)\n",
        "    print(accuracy_score(y_pred, y_test[:eval_items]))\n",
        "\n",
        "    cm = confusion_matrix(y_pred, y_test[:eval_items])\n",
        "    print(cm)\n",
        "    \n",
        "test1()"
      ]
    },
    {
      "cell_type": "code",
      "execution_count": null,
      "id": "36343df2",
      "metadata": {
        "execution": {
          "iopub.execute_input": "2021-09-06T18:54:11.786514Z",
          "iopub.status.busy": "2021-09-06T18:54:11.779834Z",
          "iopub.status.idle": "2021-09-06T20:11:52.525628Z",
          "shell.execute_reply": "2021-09-06T20:11:52.526159Z",
          "shell.execute_reply.started": "2021-09-03T05:49:36.950401Z"
        },
        "papermill": {
          "duration": 4660.795245,
          "end_time": "2021-09-06T20:11:52.526370",
          "exception": false,
          "start_time": "2021-09-06T18:54:11.731125",
          "status": "completed"
        },
        "tags": [],
        "id": "36343df2",
        "outputId": "3d265ebb-79e6-4c0c-ceb8-b5f482e6af6d"
      },
      "outputs": [
        {
          "name": "stdout",
          "output_type": "stream",
          "text": [
            "0.849\n",
            "0.787\n",
            "[[216   2  72]\n",
            " [ 10 359  34]\n",
            " [ 78  17 212]]\n"
          ]
        }
      ],
      "source": [
        "def test2(train_items=5000, assign_items=1000, eval_items=1000):\n",
        "    '''\n",
        "    Freeze STDP at start\n",
        "    Feed train set to SNN and collect generated features\n",
        "    Train RandomForest on the top of these features and labels provided\n",
        "    Feed test set to SNN and collect new features\n",
        "    Predict labels with RandomForest and calculate accuacy score\n",
        "    '''\n",
        "    seed(0)\n",
        "    \n",
        "    model = Model()\n",
        "        \n",
        "    f_train = model.evaluate(X_train[:assign_items])\n",
        "    clf = RandomForestClassifier(max_depth=4, random_state=0)\n",
        "    clf.fit(f_train, y_train[:assign_items])\n",
        "    print(clf.score(f_train, y_train[:assign_items]))\n",
        "\n",
        "    f_test = model.evaluate(X_test[:eval_items])\n",
        "    y_pred = clf.predict(f_test)\n",
        "    print(accuracy_score(y_pred, y_test[:eval_items]))\n",
        "\n",
        "    cm = confusion_matrix(y_pred, y_test[:eval_items])\n",
        "    print(cm)\n",
        "    \n",
        "test2()"
      ]
    },
    {
      "cell_type": "code",
      "execution_count": null,
      "id": "73b7dd59",
      "metadata": {
        "execution": {
          "iopub.execute_input": "2021-09-06T20:11:52.625845Z",
          "iopub.status.busy": "2021-09-06T20:11:52.625174Z",
          "iopub.status.idle": "2021-09-06T20:11:54.052594Z",
          "shell.execute_reply": "2021-09-06T20:11:54.053109Z",
          "shell.execute_reply.started": "2021-09-03T05:50:23.8265Z"
        },
        "papermill": {
          "duration": 1.482175,
          "end_time": "2021-09-06T20:11:54.053284",
          "exception": false,
          "start_time": "2021-09-06T20:11:52.571109",
          "status": "completed"
        },
        "tags": [],
        "id": "73b7dd59",
        "outputId": "1e031273-b8dc-45f5-9e20-25357c020d8a"
      },
      "outputs": [
        {
          "name": "stdout",
          "output_type": "stream",
          "text": [
            "0.973\n",
            "0.984\n",
            "[[303   0   4]\n",
            " [  0 370   3]\n",
            " [  1   8 311]]\n"
          ]
        }
      ],
      "source": [
        "def test3(train_items=5000, eval_items=1000):\n",
        "    '''\n",
        "    Train and evaluate RandomForest without SNN\n",
        "    '''\n",
        "    seed(0)\n",
        "    \n",
        "    clf = RandomForestClassifier(max_depth=4, random_state=0)\n",
        "    \n",
        "    train_features = X_train[:train_items].reshape(-1,28*28)\n",
        "    clf.fit(train_features, y_train[:train_items])\n",
        "    print(clf.score(train_features, y_train[:train_items]))\n",
        "    \n",
        "    test_features = X_test[:eval_items].reshape(-1,28*28)\n",
        "    y_pred = clf.predict(test_features)\n",
        "    print(accuracy_score(y_pred, y_test[:eval_items]))\n",
        "\n",
        "    cm = confusion_matrix(y_pred, y_test[:eval_items])\n",
        "    print(cm)\n",
        "    \n",
        "test3()"
      ]
    },
    {
      "cell_type": "code",
      "execution_count": null,
      "id": "2ef57621",
      "metadata": {
        "papermill": {
          "duration": 0.044428,
          "end_time": "2021-09-06T20:11:54.142546",
          "exception": false,
          "start_time": "2021-09-06T20:11:54.098118",
          "status": "completed"
        },
        "tags": [],
        "id": "2ef57621"
      },
      "outputs": [],
      "source": []
    }
  ],
  "metadata": {
    "kernelspec": {
      "display_name": "Python 3",
      "language": "python",
      "name": "python3"
    },
    "language_info": {
      "codemirror_mode": {
        "name": "ipython",
        "version": 3
      },
      "file_extension": ".py",
      "mimetype": "text/x-python",
      "name": "python",
      "nbconvert_exporter": "python",
      "pygments_lexer": "ipython3",
      "version": "3.7.10"
    },
    "papermill": {
      "default_parameters": {},
      "duration": 20523.76698,
      "end_time": "2021-09-06T20:11:56.581701",
      "environment_variables": {},
      "exception": null,
      "input_path": "__notebook__.ipynb",
      "output_path": "__notebook__.ipynb",
      "parameters": {},
      "start_time": "2021-09-06T14:29:52.814721",
      "version": "2.3.3"
    },
    "colab": {
      "provenance": [],
      "include_colab_link": true
    }
  },
  "nbformat": 4,
  "nbformat_minor": 5
}